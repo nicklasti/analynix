{
 "cells": [
  {
   "cell_type": "code",
   "execution_count": null,
   "id": "d517fb6f-385c-451d-a8f6-7937dc87c6eb",
   "metadata": {},
   "outputs": [],
   "source": [
    "import urllib.request\n",
    "fid=urllib.request.urlopen('http://www.example.org/')\n",
    "webpage=fid.read().decode('utf-8')\n",
    "print(webpage)"
   ]
  },
  {
   "cell_type": "code",
   "execution_count": null,
   "id": "ce8ae05f-4c4d-4028-a98d-ffa157e6e4f0",
   "metadata": {},
   "outputs": [],
   "source": []
  }
 ],
 "metadata": {
  "kernelspec": {
   "display_name": "Python 3.8.2 64-bit",
   "language": "python",
   "name": "python3"
  },
  "language_info": {
   "codemirror_mode": {
    "name": "ipython",
    "version": 3
   },
   "file_extension": ".py",
   "mimetype": "text/x-python",
   "name": "python",
   "nbconvert_exporter": "python",
   "pygments_lexer": "ipython3",
   "version": "3.8.2"
  },
  "vscode": {
   "interpreter": {
    "hash": "31f2aee4e71d21fbe5cf8b01ff0e069b9275f58929596ceb00d14d90e3e16cd6"
   }
  }
 },
 "nbformat": 4,
 "nbformat_minor": 5
}
