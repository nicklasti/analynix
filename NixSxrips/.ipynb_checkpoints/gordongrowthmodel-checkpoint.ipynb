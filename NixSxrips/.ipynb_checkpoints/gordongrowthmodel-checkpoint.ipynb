{
 "cells": [
  {
   "cell_type": "code",
   "execution_count": 2,
   "id": "47dd482a-d036-4788-ab89-772e35a8eae0",
   "metadata": {},
   "outputs": [],
   "source": [
    "import pandas as pd\n",
    "import matplotlib.pyplot as plt\n",
    "import numpy as np\n",
    "from numpy import genfromtxt\n",
    "import urllib.request, urllib.error, urllib.parse\n",
    "import re\n",
    "from datetime import datetime\n",
    "from datetime import date\n",
    "from datetime import time\n",
    "import yfinance as yf"
   ]
  },
  {
   "cell_type": "code",
   "execution_count": 10,
   "id": "70650d60-b768-49fa-96b9-189d408129b2",
   "metadata": {},
   "outputs": [
    {
     "name": "stdout",
     "output_type": "stream",
     "text": [
      "Ticker:\n",
      " HYT\n"
     ]
    },
    {
     "name": "stdout",
     "output_type": "stream",
     "text": [
      "Stock:   yfinance.Ticker object <HYT>\n",
      "Beta:   0.730036\n",
      "Risk free rate:  0.03307\n",
      "Market return:  0.1043\n",
      "Cost of equity:  0.08507046428000001\n",
      "Dividend growth rate:  0.0029450141322000024\n",
      "Dividend per share:  0.91791\n",
      "\n",
      "Gordon Growth Price Estimate:  11.176925037829934\n"
     ]
    }
   ],
   "source": [
    "ticker = input('Ticker:\\n')\n",
    "stock = yf.Ticker(ticker)\n",
    "print(\"Stock:   \" + str(stock))\n",
    "beta = stock.info['beta']\n",
    "print(\"Beta:   \" + str(beta))\n",
    "risk_free_rate = yf.Ticker('^TNX').get_info()['previousClose'] * .01\n",
    "print(\"Risk free rate:  \" + str(risk_free_rate))\n",
    "market_return = yf.Ticker('SPY').get_info()['fiveYearAverageReturn']\n",
    "print(\"Market return:  \" + str(market_return))\n",
    "r = risk_free_rate + beta * (market_return - risk_free_rate)\n",
    "print(\"Cost of equity:  \" + str(r))\n",
    "g = stock.info['returnOnEquity'] * (1-stock.get_info()['payoutRatio'])\n",
    "print(\"Dividend growth rate:  \" + str(g))\n",
    "div1 = stock.get_info()['previousClose'] * stock.info['dividendYield']\n",
    "print(\"Dividend per share:  \" + str(div1))\n",
    "print()\n",
    "def ggm(div1,r,g):\n",
    "    return div1/(r-g)\n",
    "p0_ggm = ggm(div1,r,g)\n",
    "print(\"Gordon Growth Price Estimate:  \"+str(p0_ggm))"
   ]
  }
 ],
 "metadata": {
  "kernelspec": {
   "display_name": "Python 3.8.2 64-bit",
   "language": "python",
   "name": "python3"
  },
  "language_info": {
   "codemirror_mode": {
    "name": "ipython",
    "version": 3
   },
   "file_extension": ".py",
   "mimetype": "text/x-python",
   "name": "python",
   "nbconvert_exporter": "python",
   "pygments_lexer": "ipython3",
   "version": "3.8.2"
  },
  "vscode": {
   "interpreter": {
    "hash": "31f2aee4e71d21fbe5cf8b01ff0e069b9275f58929596ceb00d14d90e3e16cd6"
   }
  }
 },
 "nbformat": 4,
 "nbformat_minor": 5
}
