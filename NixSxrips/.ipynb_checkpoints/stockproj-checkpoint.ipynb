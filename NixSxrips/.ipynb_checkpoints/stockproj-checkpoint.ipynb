{
 "cells": [
  {
   "cell_type": "code",
   "execution_count": 110,
   "id": "a3ca4c10-d75a-4503-a3bb-dc68007cf6f0",
   "metadata": {},
   "outputs": [],
   "source": [
    "import yahoo_fin as yf\n",
    "from yahoo_fin import options\n",
    "from yahoo_fin import stock_info\n",
    "import datetime as dt\n",
    "from datetime import date\n",
    "from datetime import datetime\n",
    "from datetime import timedelta\n",
    "import pandas as pd\n",
    "import pandas_datareader as pdr\n",
    "import pandas_datareader.data as web\n",
    "import urllib.request, urllib.error, urllib.parse\n",
    "import requests\n",
    "import regex as re\n",
    "from dateutil.relativedelta import relativedelta\n",
    "%matplotlib inline\n",
    "today = date.today()\n",
    "date_1y = datetime.now() - relativedelta(years=1)\n",
    "date_2y = datetime.now() - relativedelta(years=2)\n",
    "date_3y = datetime.now() - relativedelta(years=3)\n",
    "date_5y = datetime.now() - relativedelta(years=5)\n",
    "date_10y = datetime.now() - relativedelta(years=10)\n",
    "date_250y = datetime.now() - relativedelta(years=250)\n",
    "date_ytd = dt.datetime(today.year, 1,1)"
   ]
  },
  {
   "cell_type": "code",
   "execution_count": 100,
   "id": "a7283823-542c-464d-aae0-5d52dc947b25",
   "metadata": {},
   "outputs": [
    {
     "name": "stdout",
     "output_type": "stream",
     "text": [
      "Ticker:\n",
      " mu\n"
     ]
    },
    {
     "data": {
      "image/png": "[encoded data removed]",
      "text/plain": [
       "<Figure size 432x288 with 1 Axes>"
      ]
     },
     "metadata": {
      "needs_background": "light"
     },
     "output_type": "display_data"
    }
   ],
   "source": [
    "ticker=input('Ticker:\\n').capitalize()\n",
    "df=pdr.data.get_data_yahoo(ticker, start=date_ytd, end=today)\n",
    "df['Close'].plot();"
   ]
  },
  {
   "cell_type": "code",
   "execution_count": 116,
   "id": "de68ed19-22c8-4037-aeb4-670984035903",
   "metadata": {},
   "outputs": [
    {
     "data": {
      "text/html": [
       "<div>\n",
       "<style scoped>\n",
       "    .dataframe tbody tr th:only-of-type {\n",
       "        vertical-align: middle;\n",
       "    }\n",
       "\n",
       "    .dataframe tbody tr th {\n",
       "        vertical-align: top;\n",
       "    }\n",
       "\n",
       "    .dataframe thead th {\n",
       "        text-align: right;\n",
       "    }\n",
       "</style>\n",
       "<table border=\"1\" class=\"dataframe\">\n",
       "  <thead>\n",
       "    <tr style=\"text-align: right;\">\n",
       "      <th></th>\n",
       "      <th>index</th>\n",
       "      <th>dividend</th>\n",
       "      <th>ticker</th>\n",
       "    </tr>\n",
       "  </thead>\n",
       "  <tbody>\n",
       "    <tr>\n",
       "      <th>0</th>\n",
       "      <td>1991-11-22</td>\n",
       "      <td>0.0050</td>\n",
       "      <td>MU</td>\n",
       "    </tr>\n",
       "    <tr>\n",
       "      <th>1</th>\n",
       "      <td>1992-11-27</td>\n",
       "      <td>0.0050</td>\n",
       "      <td>MU</td>\n",
       "    </tr>\n",
       "    <tr>\n",
       "      <th>2</th>\n",
       "      <td>1993-11-26</td>\n",
       "      <td>0.0050</td>\n",
       "      <td>MU</td>\n",
       "    </tr>\n",
       "    <tr>\n",
       "      <th>3</th>\n",
       "      <td>1994-04-26</td>\n",
       "      <td>0.0125</td>\n",
       "      <td>MU</td>\n",
       "    </tr>\n",
       "    <tr>\n",
       "      <th>4</th>\n",
       "      <td>1994-07-19</td>\n",
       "      <td>0.0125</td>\n",
       "      <td>MU</td>\n",
       "    </tr>\n",
       "    <tr>\n",
       "      <th>5</th>\n",
       "      <td>1994-09-26</td>\n",
       "      <td>0.0125</td>\n",
       "      <td>MU</td>\n",
       "    </tr>\n",
       "    <tr>\n",
       "      <th>6</th>\n",
       "      <td>1994-12-29</td>\n",
       "      <td>0.0125</td>\n",
       "      <td>MU</td>\n",
       "    </tr>\n",
       "    <tr>\n",
       "      <th>7</th>\n",
       "      <td>1995-03-30</td>\n",
       "      <td>0.0250</td>\n",
       "      <td>MU</td>\n",
       "    </tr>\n",
       "    <tr>\n",
       "      <th>8</th>\n",
       "      <td>1995-05-30</td>\n",
       "      <td>0.0250</td>\n",
       "      <td>MU</td>\n",
       "    </tr>\n",
       "    <tr>\n",
       "      <th>9</th>\n",
       "      <td>1995-08-09</td>\n",
       "      <td>0.0250</td>\n",
       "      <td>MU</td>\n",
       "    </tr>\n",
       "    <tr>\n",
       "      <th>10</th>\n",
       "      <td>1995-11-08</td>\n",
       "      <td>0.0250</td>\n",
       "      <td>MU</td>\n",
       "    </tr>\n",
       "    <tr>\n",
       "      <th>11</th>\n",
       "      <td>1995-12-26</td>\n",
       "      <td>0.0250</td>\n",
       "      <td>MU</td>\n",
       "    </tr>\n",
       "    <tr>\n",
       "      <th>12</th>\n",
       "      <td>1996-05-07</td>\n",
       "      <td>0.0250</td>\n",
       "      <td>MU</td>\n",
       "    </tr>\n",
       "    <tr>\n",
       "      <th>13</th>\n",
       "      <td>2021-09-30</td>\n",
       "      <td>0.1000</td>\n",
       "      <td>MU</td>\n",
       "    </tr>\n",
       "    <tr>\n",
       "      <th>14</th>\n",
       "      <td>2021-12-31</td>\n",
       "      <td>0.1000</td>\n",
       "      <td>MU</td>\n",
       "    </tr>\n",
       "    <tr>\n",
       "      <th>15</th>\n",
       "      <td>2022-04-08</td>\n",
       "      <td>0.1000</td>\n",
       "      <td>MU</td>\n",
       "    </tr>\n",
       "  </tbody>\n",
       "</table>\n",
       "</div>"
      ],
      "text/plain": [
       "        index  dividend ticker\n",
       "0  1991-11-22    0.0050     MU\n",
       "1  1992-11-27    0.0050     MU\n",
       "2  1993-11-26    0.0050     MU\n",
       "3  1994-04-26    0.0125     MU\n",
       "4  1994-07-19    0.0125     MU\n",
       "5  1994-09-26    0.0125     MU\n",
       "6  1994-12-29    0.0125     MU\n",
       "7  1995-03-30    0.0250     MU\n",
       "8  1995-05-30    0.0250     MU\n",
       "9  1995-08-09    0.0250     MU\n",
       "10 1995-11-08    0.0250     MU\n",
       "11 1995-12-26    0.0250     MU\n",
       "12 1996-05-07    0.0250     MU\n",
       "13 2021-09-30    0.1000     MU\n",
       "14 2021-12-31    0.1000     MU\n",
       "15 2022-04-08    0.1000     MU"
      ]
     },
     "execution_count": 116,
     "metadata": {},
     "output_type": "execute_result"
    }
   ],
   "source": [
    "div=stock_info.get_dividends(ticker, start_date = date_250y)\n",
    "div=div.reset_index()\n",
    "div"
   ]
  },
  {
   "cell_type": "code",
   "execution_count": null,
   "id": "e45c3b25-4bd1-4154-b9d0-8ec71c028499",
   "metadata": {},
   "outputs": [],
   "source": []
  }
 ],
 "metadata": {
  "kernelspec": {
   "display_name": "Python 3.8.2 64-bit",
   "language": "python",
   "name": "python3"
  },
  "language_info": {
   "codemirror_mode": {
    "name": "ipython",
    "version": 3
   },
   "file_extension": ".py",
   "mimetype": "text/x-python",
   "name": "python",
   "nbconvert_exporter": "python",
   "pygments_lexer": "ipython3",
   "version": "3.8.2"
  },
  "vscode": {
   "interpreter": {
    "hash": "31f2aee4e71d21fbe5cf8b01ff0e069b9275f58929596ceb00d14d90e3e16cd6"
   }
  }
 },
 "nbformat": 4,
 "nbformat_minor": 5
}
