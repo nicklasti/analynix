{
 "cells": [
  {
   "cell_type": "code",
   "execution_count": 6,
   "id": "d578f584-1371-4f6b-a8ea-673a23e928b1",
   "metadata": {},
   "outputs": [
    {
     "name": "stdout",
     "output_type": "stream",
     "text": [
      "ticker AAPL\n"
     ]
    },
    {
     "name": "stdout",
     "output_type": "stream",
     "text": [
      "<class 'int'>\n",
      "101934997504\n"
     ]
    }
   ],
   "source": [
    "import yfinance as yf\n",
    "from yahoo_fin import options\n",
    "from yahoo_fin import stock_info\n",
    "import datetime as dt\n",
    "from datetime import date\n",
    "from datetime import datetime\n",
    "from datetime import timedelta\n",
    "import pandas as pd\n",
    "import pandas_datareader as pdr\n",
    "import pandas_datareader.data as web\n",
    "import urllib.request, urllib.error, urllib.parse\n",
    "import requests\n",
    "import regex as re\n",
    "from dateutil.relativedelta import relativedelta\n",
    "%matplotlib inline\n",
    "\n",
    "text = input('ticker')\n",
    "    # pulls the ticker from the index.html form\n",
    "stock = yf.Ticker(text)\n",
    "    #gets the stock object into a variable\n",
    "profit = stock.info['netIncomeToCommon']\n",
    "    #gets the profit\n",
    "\n",
    "\n",
    "print(profit)"
   ]
  },
  {
   "cell_type": "code",
   "execution_count": null,
   "id": "88a9c988-c352-4699-b661-30a450e3c6b9",
   "metadata": {},
   "outputs": [],
   "source": []
  },
  {
   "cell_type": "code",
   "execution_count": 5,
   "id": "0e75fc45-6134-408c-bbfd-cb61b5ce1195",
   "metadata": {},
   "outputs": [
    {
     "name": "stdout",
     "output_type": "stream",
     "text": [
      "10.00M\n"
     ]
    }
   ],
   "source": [
    "    if len(str(profit)) == 15:\n",
    "        profitD = str(str(round(float(profit), -9))\n",
    "                      [:3])+'.'+str(str(round(float(profit), -9))[3:5]+'T')\n",
    "    if len(str(profit)) == 14:\n",
    "        profitD = str(str(round(float(profit), -9))\n",
    "                      [:2])+'.'+str(str(round(float(profit), -9))[2:4]+'T')\n",
    "    if len(str(profit)) == 13:\n",
    "        profitD = str(str(round(float(profit), -9))\n",
    "                      [:1])+'.'+str(str(round(float(avgCap), -9))[1:3]+'T')\n",
    "    elif len(str(profit)) == 12:\n",
    "        profitD = str(str(round(float(profit), -7))\n",
    "                      [:3])+'.'+str(str(round(float(profit), -7))[3:5]+'B')\n",
    "    elif len(str(profit)) == 11:\n",
    "        profitD = str(str(round(float(profit), -7))\n",
    "                      [:2])+'.'+str(str(round(float(profit), -7))[2:4]+'B')\n",
    "    elif len(str(profit)) == 10:\n",
    "        profitD = str(str(round(float(profit), -7))\n",
    "                      [:1])+'.'+str(str(round(float(profit), -7))[1:3]+'B')\n",
    "    elif len(str(profit)) == 9:\n",
    "        profitD = str(str(round(float(profit), -4))\n",
    "                      [:3])+'.'+str(str(round(float(profit), -4))[3:5]+'M')\n",
    "    elif len(str(profit)) == 8:\n",
    "        profitD = str(str(round(float(profit), -4))\n",
    "                      [:2])+'.'+str(str(round(float(profit), -4))[2:4]+'M')\n",
    "    elif len(str(profit)) == 7:\n",
    "        profitD = str(str(round(float(profit), -4))\n",
    "                      [:1])+'.'+str(str(round(float(profit), -4))[1:3]+'M')\n",
    "    elif len(str(profit)) < 7:\n",
    "        profitD = (format(int(profit), ',d'))\n",
    "print(profitD)"
   ]
  },
  {
   "cell_type": "code",
   "execution_count": 81,
   "id": "0c2d9ccf-42e8-4e82-8b77-af62bf853c1c",
   "metadata": {},
   "outputs": [
    {
     "name": "stdout",
     "output_type": "stream",
     "text": [
      "12.38B\n"
     ]
    }
   ],
   "source": [
    "import math\n",
    "\n",
    "millnames = {\n",
    "    2: 'M',\n",
    "    3: 'B',\n",
    "    4: 'T'\n",
    "}\n",
    "\n",
    "num_str = \"{:,}\".format(12389802345)\n",
    "\n",
    "print(\".\".join(num_str.split(',')[:2]) + millnames[num_str.count(',')])"
   ]
  },
  {
   "cell_type": "code",
   "execution_count": 82,
   "id": "8ac6622c-f614-48b7-90c0-40c00d09fdc5",
   "metadata": {},
   "outputs": [
    {
     "ename": "ValueError",
     "evalue": "invalid literal for int() with base 10: '100.00.00'",
     "output_type": "error",
     "traceback": [
      "\u001b[1;31m---------------------------------------------------------------------------\u001b[0m",
      "\u001b[1;31mValueError\u001b[0m                                Traceback (most recent call last)",
      "Input \u001b[1;32mIn [82]\u001b[0m, in \u001b[0;36m<cell line: 1>\u001b[1;34m()\u001b[0m\n\u001b[1;32m----> 1\u001b[0m \u001b[38;5;28;43mint\u001b[39;49m\u001b[43m(\u001b[49m\u001b[38;5;124;43m\"\u001b[39;49m\u001b[38;5;124;43m100.00.00\u001b[39;49m\u001b[38;5;124;43m\"\u001b[39;49m\u001b[43m)\u001b[49m\n",
      "\u001b[1;31mValueError\u001b[0m: invalid literal for int() with base 10: '100.00.00'"
     ]
    }
   ],
   "source": [
    "int(\"100.00.00\")"
   ]
  },
  {
   "cell_type": "code",
   "execution_count": null,
   "id": "86ac544c-77e1-45c7-af40-e05e3c1e17cc",
   "metadata": {},
   "outputs": [],
   "source": []
  },
  {
   "cell_type": "code",
   "execution_count": null,
   "id": "86e1216f-3a5a-4a42-b7a1-443b9e8991f0",
   "metadata": {},
   "outputs": [],
   "source": []
  }
 ],
 "metadata": {
  "kernelspec": {
   "display_name": "Python 3.8.2 64-bit",
   "language": "python",
   "name": "python3"
  },
  "language_info": {
   "codemirror_mode": {
    "name": "ipython",
    "version": 3
   },
   "file_extension": ".py",
   "mimetype": "text/x-python",
   "name": "python",
   "nbconvert_exporter": "python",
   "pygments_lexer": "ipython3",
   "version": "3.8.2"
  },
  "vscode": {
   "interpreter": {
    "hash": "31f2aee4e71d21fbe5cf8b01ff0e069b9275f58929596ceb00d14d90e3e16cd6"
   }
  }
 },
 "nbformat": 4,
 "nbformat_minor": 5
}
