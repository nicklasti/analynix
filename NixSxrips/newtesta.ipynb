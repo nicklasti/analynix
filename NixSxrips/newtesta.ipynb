{
 "cells": [
  {
   "cell_type": "code",
   "execution_count": null,
   "metadata": {},
   "outputs": [],
   "source": [
    "    pb_dif = pb - avg_pb\n",
    "    \n",
    "    cursor = connection.cursor()\n",
    "    cursor.execute('SELECT AVG(pb*pb) - AVG(pb_float)*AVG(pb) FROM myapp_stocktest WHERE industry = %s GROUP BY industry',[industry])\n",
    "    pb_top_var = cursor.fetchall()\n",
    "    for x in pb_top_var:\n",
    "        pb_top_var = x[0]\n",
    "    pb_var = pb_top_var/numba_o_stocks_in_industry\n",
    "    pb_stdev = math.sqrt(pb_var)\n",
    "    pb_stdevs = pb_dif/pb_stdev\n",
    "    if pb_stdevs >= 5:\n",
    "        pb_grade = 'A+'\n",
    "    elif pb_stdevs >= 4:\n",
    "        pb_grade = 'A'\n",
    "    elif pb_stdevs >= 3.8:\n",
    "        pb_grade = 'A-'\n",
    "    elif pb_stdevs >= 3:\n",
    "        pb_grade = 'B+'\n",
    "    elif pb_stdevs >= 1:\n",
    "        pb_grade = 'B'\n",
    "    elif pb_stdevs >= 0:\n",
    "        pb_grade = 'B-'\n",
    "    elif pb_stdevs >= -1:\n",
    "        pb_grade = 'C+'\n",
    "    elif pb_stdevs >= -2:\n",
    "        pb_grade = 'C'\n",
    "    elif pb_stdevs >= -3.:\n",
    "        pb_grade = 'C-'\n",
    "    elif pb_stdevs >= -3.4:\n",
    "        pb_grade = 'D+'\n",
    "    elif pb_stdevs >= -3.7:\n",
    "        pb_grade = 'D'\n",
    "    elif pb_stdevs >= -3.8:\n",
    "        pb_grade = 'D-'\n",
    "    elif pb_stdevs >= -3.9:\n",
    "        pb_grade = 'F'\n",
    "    elif pb_stdevs < -3.9:\n",
    "        pb_grade = 'F-'"
   ]
  }
 ],
 "metadata": {
  "kernelspec": {
   "display_name": "Python 3.9.7 ('base')",
   "language": "python",
   "name": "python3"
  },
  "language_info": {
   "name": "python",
   "version": "3.9.7"
  },
  "orig_nbformat": 4,
  "vscode": {
   "interpreter": {
    "hash": "c24ecc2928a1df641fb89905a028e959d05eac4f79c1af53f0bb766b01409011"
   }
  }
 },
 "nbformat": 4,
 "nbformat_minor": 2
}
