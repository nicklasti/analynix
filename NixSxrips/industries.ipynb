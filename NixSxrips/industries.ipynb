{
 "cells": [
  {
   "cell_type": "code",
   "execution_count": 23,
   "id": "3c852b02-a27e-4448-a049-7e22edc2a087",
   "metadata": {},
   "outputs": [
    {
     "name": "stderr",
     "output_type": "stream",
     "text": [
      "Exception ignored in: <coroutine object poop_fart at 0x7fcbb38fcb40>\n",
      "Traceback (most recent call last):\n",
      "  File \"<string>\", line 1, in <lambda>\n",
      "KeyError: '__import__'\n",
      "Exception ignored in: <coroutine object poop_fart at 0x7fcbb38fcb40>\n",
      "Traceback (most recent call last):\n",
      "  File \"<string>\", line 1, in <lambda>\n",
      "KeyError: '__import__'\n"
     ]
    },
    {
     "name": "stdout",
     "output_type": "stream",
     "text": [
      "Biotechnology\n",
      "indSize 890.25B\n",
      "890250000000.0\n",
      "751.0\n",
      "1185419440.7456725\n",
      "avgCap 1.19B\n",
      "mktcapfloat 75612372992.0\n",
      "mktShare 0.08493386463577647\n",
      "fixed indSize 890.25B\n",
      "mktSharePct 08.49%\n",
      "751.0\n",
      "tickerRegList ['AADI', 'ABCL', 'ABCM', 'ABEO', 'ABIO', 'ABOS', 'ABSI', 'ABUS', 'ABVC', 'ACAD', 'ACER', 'ACET', 'ACHL', 'ACHV', 'ACIU', 'ACLX', 'ACOR', 'ACRS', 'ACST', 'ACXP']\n",
      "count 20\n"
     ]
    }
   ],
   "source": [
    "import yfinance as yf\n",
    "from urllib.request import Request, urlopen\n",
    "import re\n",
    "\n",
    "req = Request('https://finviz.com/quote.ashx?t=MRNA', headers={'User-Agent': 'Mozilla/5.0'})\n",
    "webpage = urlopen(req).read().decode('utf-8')\n",
    "content = re.findall('(?<=class=\"tab-link\").*?(?=</a>)',webpage, re.DOTALL)\n",
    "sector = content[2]\n",
    "sector = sector[1:]\n",
    "sector = sector.strip()\n",
    "print(sector)\n",
    "\n",
    "text = 'MRNA'\n",
    "stock = yf.Ticker(text)\n",
    "mktCap = stock.info['marketCap']\n",
    "\n",
    "#################################IMPORTED#############################################################\n",
    "\n",
    "\n",
    "req2 = Request('https://finviz.com/groups.ashx?g=industry&v=120&o=name', headers={'User-Agent': 'Mozilla/5.0'})\n",
    "webpage2 = urlopen(req2).read().decode('utf-8')\n",
    "indSize = re.findall('(?<='+sector+').*?(?=class=\"body-table\")(.*?)(?=</td>)',webpage2, re.DOTALL)\n",
    "indSize = re.findall('[0-9.]+.',str(indSize))\n",
    "indSize = re.sub(r\"\\['(.*)'\\]\",r\"\\1\" , str(indSize))\n",
    "print('indSize', indSize)\n",
    "\n",
    "indSizeFloat = float(indSize[:-1])*1000000000\n",
    "print(indSizeFloat)\n",
    "\n",
    "sector2 = sector.lower()\n",
    "sector2 = sector2.replace(\" \",\"\")\n",
    "req3 = Request('https://finviz.com/screener.ashx?f=ind_'+sector2+'&v=121', headers={'User-Agent': 'Mozilla/5.0'})\n",
    "webpage3 = urlopen(req3).read().decode('utf-8')\n",
    "sectorCount = re.findall('(?<=<b>Total: </b>).*?(?=#)',webpage3, re.DOTALL)\n",
    "sectorCount = re.findall('[0-9.]+.',str(sectorCount))\n",
    "sectorCount = re.sub(r\"\\['(.*)'\\]\",r\"\\1\" , str(sectorCount))\n",
    "sectorCount = float(sectorCount)\n",
    "print(sectorCount)\n",
    "\n",
    "avgCapFloat = indSizeFloat / sectorCount\n",
    "print(avgCapFloat)\n",
    "\n",
    "avgCapInt = re.findall('([0-9].*)\\.',str(avgCapFloat))\n",
    "#gets rid of the decimal place numbers\n",
    "avgCap = re.sub(r\"\\['(.*)'\\]\",r\"\\1\" , str(avgCapInt))\n",
    "#gets rid of ['']\n",
    "if len(str(avgCap)) == 15:\n",
    "    avgCap = str(str(round(float(avgCap),-9))[:3])+'.'+str(str(round(float(avgCap),-9))[3:5]+'T')\n",
    "if len(str(avgCap)) == 14:\n",
    "    avgCap = str(str(round(float(avgCap),-9))[:2])+'.'+str(str(round(float(avgCap),-9))[2:4]+'T')\n",
    "if len(str(avgCap)) == 13:\n",
    "    avgCap = str(str(round(float(avgCap),-9))[:1])+'.'+str(str(round(float(avgCap),-9))[1:3]+'T')\n",
    "elif len(str(avgCap)) == 12:\n",
    "    avgCap = str(str(round(float(avgCap),-7))[:3])+'.'+str(str(round(float(avgCap),-7))[3:5]+'B')\n",
    "elif len(str(avgCap)) == 11:\n",
    "    avgCap = str(str(round(float(avgCap),-7))[:2])+'.'+str(str(round(float(avgCap),-7))[2:4]+'B')\n",
    "elif len(str(avgCap)) == 10:\n",
    "    avgCap = str(str(round(float(avgCap),-7))[:1])+'.'+str(str(round(float(avgCap),-7))[1:3]+'B')\n",
    "elif len(str(avgCap)) == 9:\n",
    "    avgCap = str(str(round(float(avgCap),-4))[:3])+'.'+str(str(round(float(avgCap),-4))[3:5]+'M')\n",
    "elif len(str(avgCap)) == 8:\n",
    "    avgCap = str(str(round(float(avgCap),-4))[:2])+'.'+str(str(round(float(avgCap),-4))[2:4]+'M')\n",
    "elif len(str(avgCap)) == 7:\n",
    "    avgCap = str(str(round(float(avgCap),-4))[:1])+'.'+str(str(round(float(avgCap),-4))[1:3]+'M')\n",
    "elif len(str(avgCap)) < 7:\n",
    "    avgCap = (format(int(avgCap), ',d'))\n",
    "print('avgCap', avgCap)\n",
    "\n",
    "mktCapFloat = float(mktCap)\n",
    "print('mktcapfloat',mktCapFloat)\n",
    "\n",
    "mktShareFloat = mktCapFloat / indSizeFloat\n",
    "print('mktShare',mktShareFloat)\n",
    "\n",
    "if len(indSize) >= 8:\n",
    "    indSize = str(str(round(indSizeFloat,-10))[:1]+'.'+str(round(indSizeFloat,-10))[1:3]+'T')\n",
    "elif len(indSize) < 8:\n",
    "    indSize=indSize\n",
    "print('fixed indSize',indSize)\n",
    "#fixes trillions\n",
    "\n",
    "mktSharePct = re.findall('[0-9].+',str(mktShareFloat))\n",
    "mktSharePct = re.sub(r\"\\['(.*)'\\]\",r\"\\1\" , str(mktSharePct))\n",
    "mktSharePct = round(float(mktSharePct),5)\n",
    "mktSharePct = str(mktSharePct)\n",
    "mktSharePct = ( mktSharePct[2:4] + '.' + mktSharePct[4:6] + '%' )\n",
    "print('mktSharePct',mktSharePct)\n",
    "print(sectorCount)\n",
    "\n",
    "import statistics\n",
    "avgRevReg = []\n",
    "\n",
    "req4 = Request('https://finviz.com/screener.ashx?f=ind_'+sector2, headers={'User-Agent': 'Mozilla/5.0'})\n",
    "webpage4 = urlopen(req4).read().decode('utf-8')\n",
    "tickerRegList = re.findall('(?<=class=\"screener-link-primary\">).*?(?=</a>)',webpage3, re.DOTALL)\n",
    "\n",
    "print('tickerRegList', tickerRegList)\n",
    "\n",
    "print('count',len(tickerRegList))\n"
   ]
  },
  {
   "cell_type": "code",
   "execution_count": 26,
   "id": "c21de749",
   "metadata": {},
   "outputs": [
    {
     "ename": "Exception",
     "evalue": "429 Client Error: Too Many Requests for url: https://finviz.com/quote.ashx?t=ADAG",
     "output_type": "error",
     "traceback": [
      "\u001b[0;31m---------------------------------------------------------------------------\u001b[0m",
      "\u001b[0;31mHTTPError\u001b[0m                                 Traceback (most recent call last)",
      "\u001b[0;32m~/opt/anaconda3/lib/python3.9/site-packages/finvizfinance/util.py\u001b[0m in \u001b[0;36mweb_scrap\u001b[0;34m(url)\u001b[0m\n\u001b[1;32m     95\u001b[0m         \u001b[0mwebsite\u001b[0m \u001b[0;34m=\u001b[0m \u001b[0msession\u001b[0m\u001b[0;34m.\u001b[0m\u001b[0mget\u001b[0m\u001b[0;34m(\u001b[0m\u001b[0murl\u001b[0m\u001b[0;34m,\u001b[0m \u001b[0mheaders\u001b[0m\u001b[0;34m=\u001b[0m\u001b[0mheaders\u001b[0m\u001b[0;34m,\u001b[0m \u001b[0mtimeout\u001b[0m\u001b[0;34m=\u001b[0m\u001b[0;36m10\u001b[0m\u001b[0;34m)\u001b[0m\u001b[0;34m\u001b[0m\u001b[0;34m\u001b[0m\u001b[0m\n\u001b[0;32m---> 96\u001b[0;31m         \u001b[0mwebsite\u001b[0m\u001b[0;34m.\u001b[0m\u001b[0mraise_for_status\u001b[0m\u001b[0;34m(\u001b[0m\u001b[0;34m)\u001b[0m\u001b[0;34m\u001b[0m\u001b[0;34m\u001b[0m\u001b[0m\n\u001b[0m\u001b[1;32m     97\u001b[0m         \u001b[0msoup\u001b[0m \u001b[0;34m=\u001b[0m \u001b[0mBeautifulSoup\u001b[0m\u001b[0;34m(\u001b[0m\u001b[0mwebsite\u001b[0m\u001b[0;34m.\u001b[0m\u001b[0mtext\u001b[0m\u001b[0;34m,\u001b[0m \u001b[0;34m\"lxml\"\u001b[0m\u001b[0;34m)\u001b[0m\u001b[0;34m\u001b[0m\u001b[0;34m\u001b[0m\u001b[0m\n",
      "\u001b[0;32m~/opt/anaconda3/lib/python3.9/site-packages/requests/models.py\u001b[0m in \u001b[0;36mraise_for_status\u001b[0;34m(self)\u001b[0m\n\u001b[1;32m    952\u001b[0m         \u001b[0;32mif\u001b[0m \u001b[0mhttp_error_msg\u001b[0m\u001b[0;34m:\u001b[0m\u001b[0;34m\u001b[0m\u001b[0;34m\u001b[0m\u001b[0m\n\u001b[0;32m--> 953\u001b[0;31m             \u001b[0;32mraise\u001b[0m \u001b[0mHTTPError\u001b[0m\u001b[0;34m(\u001b[0m\u001b[0mhttp_error_msg\u001b[0m\u001b[0;34m,\u001b[0m \u001b[0mresponse\u001b[0m\u001b[0;34m=\u001b[0m\u001b[0mself\u001b[0m\u001b[0;34m)\u001b[0m\u001b[0;34m\u001b[0m\u001b[0;34m\u001b[0m\u001b[0m\n\u001b[0m\u001b[1;32m    954\u001b[0m \u001b[0;34m\u001b[0m\u001b[0m\n",
      "\u001b[0;31mHTTPError\u001b[0m: 429 Client Error: Too Many Requests for url: https://finviz.com/quote.ashx?t=ADAG",
      "\nDuring handling of the above exception, another exception occurred:\n",
      "\u001b[0;31mException\u001b[0m                                 Traceback (most recent call last)",
      "\u001b[0;32m/var/folders/pc/8z2v_wv911q5h3376m3rlnjh0000gn/T/ipykernel_70770/187537571.py\u001b[0m in \u001b[0;36m<module>\u001b[0;34m\u001b[0m\n\u001b[1;32m     13\u001b[0m \u001b[0;34m\u001b[0m\u001b[0m\n\u001b[1;32m     14\u001b[0m \u001b[0;32mfor\u001b[0m \u001b[0mticker\u001b[0m \u001b[0;32min\u001b[0m \u001b[0mtickerRegList\u001b[0m\u001b[0;34m:\u001b[0m\u001b[0;34m\u001b[0m\u001b[0;34m\u001b[0m\u001b[0m\n\u001b[0;32m---> 15\u001b[0;31m     \u001b[0mstock\u001b[0m \u001b[0;34m=\u001b[0m \u001b[0mfinvizfinance\u001b[0m\u001b[0;34m(\u001b[0m\u001b[0mticker\u001b[0m\u001b[0;34m)\u001b[0m\u001b[0;34m\u001b[0m\u001b[0;34m\u001b[0m\u001b[0m\n\u001b[0m\u001b[1;32m     16\u001b[0m     \u001b[0mstock_fundament\u001b[0m \u001b[0;34m=\u001b[0m \u001b[0mstock\u001b[0m\u001b[0;34m.\u001b[0m\u001b[0mticker_fundament\u001b[0m\u001b[0;34m(\u001b[0m\u001b[0;34m)\u001b[0m\u001b[0;34m\u001b[0m\u001b[0;34m\u001b[0m\u001b[0m\n\u001b[1;32m     17\u001b[0m     \u001b[0msales\u001b[0m \u001b[0;34m=\u001b[0m \u001b[0mstock_fundament\u001b[0m\u001b[0;34m[\u001b[0m\u001b[0;34m'Sales'\u001b[0m\u001b[0;34m]\u001b[0m\u001b[0;34m\u001b[0m\u001b[0;34m\u001b[0m\u001b[0m\n",
      "\u001b[0;32m~/opt/anaconda3/lib/python3.9/site-packages/finvizfinance/quote.py\u001b[0m in \u001b[0;36m__init__\u001b[0;34m(self, ticker, verbose)\u001b[0m\n\u001b[1;32m     59\u001b[0m         \u001b[0mself\u001b[0m\u001b[0;34m.\u001b[0m\u001b[0mflag\u001b[0m \u001b[0;34m=\u001b[0m \u001b[0;32mFalse\u001b[0m\u001b[0;34m\u001b[0m\u001b[0;34m\u001b[0m\u001b[0m\n\u001b[1;32m     60\u001b[0m         \u001b[0mself\u001b[0m\u001b[0;34m.\u001b[0m\u001b[0mquote_url\u001b[0m \u001b[0;34m=\u001b[0m \u001b[0mQUOTE_URL\u001b[0m\u001b[0;34m.\u001b[0m\u001b[0mformat\u001b[0m\u001b[0;34m(\u001b[0m\u001b[0mticker\u001b[0m\u001b[0;34m=\u001b[0m\u001b[0mticker\u001b[0m\u001b[0;34m)\u001b[0m\u001b[0;34m\u001b[0m\u001b[0;34m\u001b[0m\u001b[0m\n\u001b[0;32m---> 61\u001b[0;31m         \u001b[0mself\u001b[0m\u001b[0;34m.\u001b[0m\u001b[0msoup\u001b[0m \u001b[0;34m=\u001b[0m \u001b[0mweb_scrap\u001b[0m\u001b[0;34m(\u001b[0m\u001b[0mself\u001b[0m\u001b[0;34m.\u001b[0m\u001b[0mquote_url\u001b[0m\u001b[0;34m)\u001b[0m\u001b[0;34m\u001b[0m\u001b[0;34m\u001b[0m\u001b[0m\n\u001b[0m\u001b[1;32m     62\u001b[0m         \u001b[0;32mif\u001b[0m \u001b[0mself\u001b[0m\u001b[0;34m.\u001b[0m\u001b[0m_checkexist\u001b[0m\u001b[0;34m(\u001b[0m\u001b[0mverbose\u001b[0m\u001b[0;34m)\u001b[0m\u001b[0;34m:\u001b[0m\u001b[0;34m\u001b[0m\u001b[0;34m\u001b[0m\u001b[0m\n\u001b[1;32m     63\u001b[0m             \u001b[0mself\u001b[0m\u001b[0;34m.\u001b[0m\u001b[0mflag\u001b[0m \u001b[0;34m=\u001b[0m \u001b[0;32mTrue\u001b[0m\u001b[0;34m\u001b[0m\u001b[0;34m\u001b[0m\u001b[0m\n",
      "\u001b[0;32m~/opt/anaconda3/lib/python3.9/site-packages/finvizfinance/util.py\u001b[0m in \u001b[0;36mweb_scrap\u001b[0;34m(url)\u001b[0m\n\u001b[1;32m     97\u001b[0m         \u001b[0msoup\u001b[0m \u001b[0;34m=\u001b[0m \u001b[0mBeautifulSoup\u001b[0m\u001b[0;34m(\u001b[0m\u001b[0mwebsite\u001b[0m\u001b[0;34m.\u001b[0m\u001b[0mtext\u001b[0m\u001b[0;34m,\u001b[0m \u001b[0;34m\"lxml\"\u001b[0m\u001b[0;34m)\u001b[0m\u001b[0;34m\u001b[0m\u001b[0;34m\u001b[0m\u001b[0m\n\u001b[1;32m     98\u001b[0m     \u001b[0;32mexcept\u001b[0m \u001b[0mrequests\u001b[0m\u001b[0;34m.\u001b[0m\u001b[0mexceptions\u001b[0m\u001b[0;34m.\u001b[0m\u001b[0mHTTPError\u001b[0m \u001b[0;32mas\u001b[0m \u001b[0merr\u001b[0m\u001b[0;34m:\u001b[0m\u001b[0;34m\u001b[0m\u001b[0;34m\u001b[0m\u001b[0m\n\u001b[0;32m---> 99\u001b[0;31m         \u001b[0;32mraise\u001b[0m \u001b[0mException\u001b[0m\u001b[0;34m(\u001b[0m\u001b[0merr\u001b[0m\u001b[0;34m)\u001b[0m\u001b[0;34m\u001b[0m\u001b[0;34m\u001b[0m\u001b[0m\n\u001b[0m\u001b[1;32m    100\u001b[0m     \u001b[0;32mexcept\u001b[0m \u001b[0mrequests\u001b[0m\u001b[0;34m.\u001b[0m\u001b[0mexceptions\u001b[0m\u001b[0;34m.\u001b[0m\u001b[0mTimeout\u001b[0m \u001b[0;32mas\u001b[0m \u001b[0merr\u001b[0m\u001b[0;34m:\u001b[0m\u001b[0;34m\u001b[0m\u001b[0;34m\u001b[0m\u001b[0m\n\u001b[1;32m    101\u001b[0m         \u001b[0;32mraise\u001b[0m \u001b[0mException\u001b[0m\u001b[0;34m(\u001b[0m\u001b[0merr\u001b[0m\u001b[0;34m)\u001b[0m\u001b[0;34m\u001b[0m\u001b[0;34m\u001b[0m\u001b[0m\n",
      "\u001b[0;31mException\u001b[0m: 429 Client Error: Too Many Requests for url: https://finviz.com/quote.ashx?t=ADAG"
     ]
    }
   ],
   "source": [
    "from finvizfinance.quote import finvizfinance\n",
    "\n",
    "DOLLAR_MAPPING = {\n",
    "    'T': float(1000000000000),\n",
    "    'B': float(1000000000),\n",
    "    'M': float(1000000),\n",
    "    'K': float(1000),\n",
    "    'e': float(0)\n",
    "}\n",
    "\n",
    "tickers = ['AADI', 'ABCL', 'ABCM', 'ABEO', 'ABIO']\n",
    "tickerList = []\n",
    "\n",
    "for ticker in tickerRegList:\n",
    "    stock = finvizfinance(ticker)\n",
    "    stock_fundament = stock.ticker_fundament()\n",
    "    sales = stock_fundament['Sales']\n",
    "    if sales == '-':\n",
    "        continue\n",
    "    revenue = float(sales[:-1]) * float(DOLLAR_MAPPING[sales[-1]])\n",
    "    tickerList.append(revenue)\n",
    "\n",
    "print(tickerList)"
   ]
  },
  {
   "cell_type": "code",
   "execution_count": 24,
   "id": "366fd95f-990d-4306-a6ed-9434f6c865da",
   "metadata": {},
   "outputs": [
    {
     "name": "stdout",
     "output_type": "stream",
     "text": [
      "['AADI', 'ABCL', 'ABCM', 'ABEO', 'ABIO', 'ABOS', 'ABSI', 'ABUS', 'ABVC', 'ACAD', 'ACER', 'ACET', 'ACHL', 'ACHV', 'ACIU', 'ACLX', 'ACOR', 'ACRS', 'ACST', 'ACXP', 'ADAG', 'ADAP', 'ADCT', 'ADGI', 'ADIL', 'ADMA', 'ADPT', 'ADTX', 'ADVM', 'ADXN', 'AEZS', 'AFMD', 'AGE', 'AGEN', 'AGIO', 'AGLE', 'AGTC', 'AIKI', 'AIM', 'AKBA', 'AKRO', 'AKTX', 'AKUS', 'ALBO', 'ALDX', 'ALEC', 'ALGS', 'ALKS', 'ALLK', 'ALLO', 'ALLR', 'ALNA', 'ALNY', 'ALPN', 'ALRN', 'ALT', 'ALVR', 'ALXO', 'ALZN', 'AMAM', 'AMLX', 'AMPE', 'AMRN', 'AMTI', 'ANAB', 'ANEB', 'ANGN', 'ANIK', 'ANNX', 'ANPC', 'ANTX', 'ANVS', 'APLS', 'APLT', 'APM', 'APRE', 'APTO', 'APTX', 'APVO', 'AQST', 'ARAV', 'ARCT', 'ARDS', 'ARDX', 'ARGX', 'ARMP', 'ARQT', 'ARTL', 'ARVN', 'ARWR', 'ASLN', 'ASMB', 'ASND', 'ATAI', 'ATHA', 'ATHE', 'ATHX', 'ATNF', 'ATNM', 'ATOS']\n",
      "count 100\n"
     ]
    }
   ],
   "source": [
    "c\n",
    "\n",
    "#missing page 7-16\n",
    "#missing page 22 - 31\n",
    "#missing page 37-38"
   ]
  },
  {
   "cell_type": "code",
   "execution_count": 27,
   "id": "c40bb4a8-a368-456d-86e3-45cfb08cac51",
   "metadata": {},
   "outputs": [
    {
     "name": "stdout",
     "output_type": "stream",
     "text": [
      "['AADI', 'ABCL', 'ABCM', 'ABEO', 'ABIO', 'ABOS', 'ABSI', 'ABUS', 'ABVC', 'ACAD', 'ACER', 'ACET', 'ACHL', 'ACHV', 'ACIU', 'ACLX', 'ACOR', 'ACRS', 'ACST', 'ACXP', 'ADAG', 'ADAP', 'ADCT', 'ADGI', 'ADIL', 'ADMA', 'ADPT', 'ADTX', 'ADVM', 'ADXN', 'AEZS', 'AFMD', 'AGE', 'AGEN', 'AGIO', 'AGLE', 'AGTC', 'AIKI', 'AIM', 'AKBA', 'AKRO', 'AKTX', 'AKUS', 'ALBO', 'ALDX', 'ALEC', 'ALGS', 'ALKS', 'ALLK', 'ALLO', 'ALLR', 'ALNA', 'ALNY', 'ALPN', 'ALRN', 'ALT', 'ALVR', 'ALXO', 'ALZN', 'AMAM', 'AMLX', 'AMPE', 'AMRN', 'AMTI', 'ANAB', 'ANEB', 'ANGN', 'ANIK', 'ANNX', 'ANPC', 'ANTX', 'ANVS', 'APLS', 'APLT', 'APM', 'APRE', 'APTO', 'APTX', 'APVO', 'AQST', 'ARAV', 'ARCT', 'ARDS', 'ARDX', 'ARGX', 'ARMP', 'ARQT', 'ARTL', 'ARVN', 'ARWR', 'ASLN', 'ASMB', 'ASND', 'ATAI', 'ATHA', 'ATHE', 'ATHX', 'ATNF', 'ATNM', 'ATOS', 'ATRA', 'ATXI', 'ATXS', 'AUPH', 'AURA', 'AUTL', 'AVEO', 'AVIR', 'AVRO', 'AVTE', 'AVTX', 'AVXL', 'AXLA', 'AXSM', 'AYLA', 'AYTU', 'BBI', 'BBIO', 'BCAB', 'BCDA', 'BCEL', 'BCLI', 'BCRX', 'BCTX', 'BCYC', 'BDTX', 'BEAM', 'BGNE', 'BHVN', 'BIOR', 'BIVI', 'BLCM', 'BLI', 'BLPH', 'BLRX', 'BLTE', 'BLU', 'BLUE', 'BMEA', 'BMRN', 'BNOX', 'BNTC', 'BNTX', 'BOLT', 'BPMC', 'BPTH', 'BPTS', 'BRTX', 'BTAI', 'BTTX', 'BTX', 'BVXV', 'BWV', 'BXRX', 'BYSI', 'CABA', 'CADL', 'CALA', 'CALT', 'CANF', 'CAPR', 'CARA', 'CASI', 'CBAY', 'CBIO', 'CCCC', 'CCXI', 'CDAK', 'CDMO', 'CDTX', 'CDXC', 'CDXS', 'CELU', 'CELZ', 'CERE', 'CERS', 'CFRX', 'CGEM', 'CGEN', 'CGTX']\n",
      "count 180\n"
     ]
    }
   ],
   "source": [
    "rlist = ['101','121','141','161']\n",
    "for page in rlist:\n",
    "    get_tickers_from_page(page)\n",
    "    \n",
    "print(tickerRegList)\n",
    "\n",
    "print('count',len(tickerRegList))"
   ]
  },
  {
   "cell_type": "code",
   "execution_count": 28,
   "id": "bd7da482-6721-471a-9230-3f1c962aa227",
   "metadata": {},
   "outputs": [
    {
     "name": "stdout",
     "output_type": "stream",
     "text": [
      "['AADI', 'ABCL', 'ABCM', 'ABEO', 'ABIO', 'ABOS', 'ABSI', 'ABUS', 'ABVC', 'ACAD', 'ACER', 'ACET', 'ACHL', 'ACHV', 'ACIU', 'ACLX', 'ACOR', 'ACRS', 'ACST', 'ACXP', 'ADAG', 'ADAP', 'ADCT', 'ADGI', 'ADIL', 'ADMA', 'ADPT', 'ADTX', 'ADVM', 'ADXN', 'AEZS', 'AFMD', 'AGE', 'AGEN', 'AGIO', 'AGLE', 'AGTC', 'AIKI', 'AIM', 'AKBA', 'AKRO', 'AKTX', 'AKUS', 'ALBO', 'ALDX', 'ALEC', 'ALGS', 'ALKS', 'ALLK', 'ALLO', 'ALLR', 'ALNA', 'ALNY', 'ALPN', 'ALRN', 'ALT', 'ALVR', 'ALXO', 'ALZN', 'AMAM', 'AMLX', 'AMPE', 'AMRN', 'AMTI', 'ANAB', 'ANEB', 'ANGN', 'ANIK', 'ANNX', 'ANPC', 'ANTX', 'ANVS', 'APLS', 'APLT', 'APM', 'APRE', 'APTO', 'APTX', 'APVO', 'AQST', 'ARAV', 'ARCT', 'ARDS', 'ARDX', 'ARGX', 'ARMP', 'ARQT', 'ARTL', 'ARVN', 'ARWR', 'ASLN', 'ASMB', 'ASND', 'ATAI', 'ATHA', 'ATHE', 'ATHX', 'ATNF', 'ATNM', 'ATOS', 'ATRA', 'ATXI', 'ATXS', 'AUPH', 'AURA', 'AUTL', 'AVEO', 'AVIR', 'AVRO', 'AVTE', 'AVTX', 'AVXL', 'AXLA', 'AXSM', 'AYLA', 'AYTU', 'BBI', 'BBIO', 'BCAB', 'BCDA', 'BCEL', 'BCLI', 'BCRX', 'BCTX', 'BCYC', 'BDTX', 'BEAM', 'BGNE', 'BHVN', 'BIOR', 'BIVI', 'BLCM', 'BLI', 'BLPH', 'BLRX', 'BLTE', 'BLU', 'BLUE', 'BMEA', 'BMRN', 'BNOX', 'BNTC', 'BNTX', 'BOLT', 'BPMC', 'BPTH', 'BPTS', 'BRTX', 'BTAI', 'BTTX', 'BTX', 'BVXV', 'BWV', 'BXRX', 'BYSI', 'CABA', 'CADL', 'CALA', 'CALT', 'CANF', 'CAPR', 'CARA', 'CASI', 'CBAY', 'CBIO', 'CCCC', 'CCXI', 'CDAK', 'CDMO', 'CDTX', 'CDXC', 'CDXS', 'CELU', 'CELZ', 'CERE', 'CERS', 'CFRX', 'CGEM', 'CGEN', 'CGTX', 'CHRS', 'CINC', 'CING', 'CKPT', 'CLBS', 'CLDX', 'CLGN', 'CLLS', 'CLNN', 'CLRB', 'CLSD', 'CLSN', 'CLVS', 'CMMB', 'CMPX', 'CMRA', 'CMRX', 'CNCE', 'CNSP', 'CNTA', 'CNTB', 'CNTX', 'COCP', 'COGT', 'CORT', 'CPRX', 'CRBP', 'CRBU', 'CRDF', 'CRIS', 'CRMD', 'CRNX', 'CRSP', 'CRTX', 'CRVS', 'CSBR', 'CTIC', 'CTMX', 'CTXR', 'CUE', 'CVAC', 'CVM', 'CWBR', 'CYAD', 'CYBN', 'CYCC', 'CYCN', 'CYT', 'CYTK', 'CYTO', 'DARE', 'DAWN', 'DBTX', 'DBVT', 'DCPH', 'DFFN', 'DICE', 'DMAC', 'DNA', 'DNLI', 'DRMA', 'DRTS', 'DRUG', 'DSGN', 'DTIL', 'DVAX', 'DYAI', 'DYN', 'EDIT', 'EDSA', 'EFTR', 'EIGR', 'ELDN', 'ELEV', 'ELOX', 'ELYM', 'ENLV', 'ENOB', 'ENSC', 'ENTA']\n",
      "count 260\n"
     ]
    }
   ],
   "source": [
    "rlist = ['181','201','221','241']\n",
    "for page in rlist:\n",
    "    get_tickers_from_page(page)\n",
    "    \n",
    "print(tickerRegList)\n",
    "\n",
    "print('count',len(tickerRegList))"
   ]
  },
  {
   "cell_type": "code",
   "execution_count": 29,
   "id": "e356aaf1-a1e6-469b-94b0-b4d39b6ad614",
   "metadata": {},
   "outputs": [
    {
     "name": "stdout",
     "output_type": "stream",
     "text": [
      "['AADI', 'ABCL', 'ABCM', 'ABEO', 'ABIO', 'ABOS', 'ABSI', 'ABUS', 'ABVC', 'ACAD', 'ACER', 'ACET', 'ACHL', 'ACHV', 'ACIU', 'ACLX', 'ACOR', 'ACRS', 'ACST', 'ACXP', 'ADAG', 'ADAP', 'ADCT', 'ADGI', 'ADIL', 'ADMA', 'ADPT', 'ADTX', 'ADVM', 'ADXN', 'AEZS', 'AFMD', 'AGE', 'AGEN', 'AGIO', 'AGLE', 'AGTC', 'AIKI', 'AIM', 'AKBA', 'AKRO', 'AKTX', 'AKUS', 'ALBO', 'ALDX', 'ALEC', 'ALGS', 'ALKS', 'ALLK', 'ALLO', 'ALLR', 'ALNA', 'ALNY', 'ALPN', 'ALRN', 'ALT', 'ALVR', 'ALXO', 'ALZN', 'AMAM', 'AMLX', 'AMPE', 'AMRN', 'AMTI', 'ANAB', 'ANEB', 'ANGN', 'ANIK', 'ANNX', 'ANPC', 'ANTX', 'ANVS', 'APLS', 'APLT', 'APM', 'APRE', 'APTO', 'APTX', 'APVO', 'AQST', 'ARAV', 'ARCT', 'ARDS', 'ARDX', 'ARGX', 'ARMP', 'ARQT', 'ARTL', 'ARVN', 'ARWR', 'ASLN', 'ASMB', 'ASND', 'ATAI', 'ATHA', 'ATHE', 'ATHX', 'ATNF', 'ATNM', 'ATOS', 'ATRA', 'ATXI', 'ATXS', 'AUPH', 'AURA', 'AUTL', 'AVEO', 'AVIR', 'AVRO', 'AVTE', 'AVTX', 'AVXL', 'AXLA', 'AXSM', 'AYLA', 'AYTU', 'BBI', 'BBIO', 'BCAB', 'BCDA', 'BCEL', 'BCLI', 'BCRX', 'BCTX', 'BCYC', 'BDTX', 'BEAM', 'BGNE', 'BHVN', 'BIOR', 'BIVI', 'BLCM', 'BLI', 'BLPH', 'BLRX', 'BLTE', 'BLU', 'BLUE', 'BMEA', 'BMRN', 'BNOX', 'BNTC', 'BNTX', 'BOLT', 'BPMC', 'BPTH', 'BPTS', 'BRTX', 'BTAI', 'BTTX', 'BTX', 'BVXV', 'BWV', 'BXRX', 'BYSI', 'CABA', 'CADL', 'CALA', 'CALT', 'CANF', 'CAPR', 'CARA', 'CASI', 'CBAY', 'CBIO', 'CCCC', 'CCXI', 'CDAK', 'CDMO', 'CDTX', 'CDXC', 'CDXS', 'CELU', 'CELZ', 'CERE', 'CERS', 'CFRX', 'CGEM', 'CGEN', 'CGTX', 'CHRS', 'CINC', 'CING', 'CKPT', 'CLBS', 'CLDX', 'CLGN', 'CLLS', 'CLNN', 'CLRB', 'CLSD', 'CLSN', 'CLVS', 'CMMB', 'CMPX', 'CMRA', 'CMRX', 'CNCE', 'CNSP', 'CNTA', 'CNTB', 'CNTX', 'COCP', 'COGT', 'CORT', 'CPRX', 'CRBP', 'CRBU', 'CRDF', 'CRIS', 'CRMD', 'CRNX', 'CRSP', 'CRTX', 'CRVS', 'CSBR', 'CTIC', 'CTMX', 'CTXR', 'CUE', 'CVAC', 'CVM', 'CWBR', 'CYAD', 'CYBN', 'CYCC', 'CYCN', 'CYT', 'CYTK', 'CYTO', 'DARE', 'DAWN', 'DBTX', 'DBVT', 'DCPH', 'DFFN', 'DICE', 'DMAC', 'DNA', 'DNLI', 'DRMA', 'DRTS', 'DRUG', 'DSGN', 'DTIL', 'DVAX', 'DYAI', 'DYN', 'EDIT', 'EDSA', 'EFTR', 'EIGR', 'ELDN', 'ELEV', 'ELOX', 'ELYM', 'ENLV', 'ENOB', 'ENSC', 'ENTA', 'ENTX', 'ENVB', 'EPIX', 'EPZM', 'EQ', 'EQRX', 'ERAS', 'ERYP', 'ESPR', 'ETNB', 'ETON', 'EVAX', 'EVFM', 'EVGN', 'EVLO', 'EWTX', 'EXAI', 'EXEL', 'EYEN', 'EYPT', 'FATE', 'FBIO', 'FBIOP', 'FBRX', 'FDMT', 'FENC', 'FGEN', 'FHTX', 'FIXX', 'FMTX', 'FNCH', 'FOLD', 'FREQ', 'FRLN', 'FSTX', 'FULC', 'FUSN', 'FWBI', 'FWP', 'GALT', 'GANX', 'GBIO', 'GBT', 'GERN', 'GHRS', 'GLMD', 'GLPG', 'GLS', 'GLSI', 'GLTO', 'GLUE', 'GLYC', 'GMAB', 'GMDA', 'GMTX', 'GNFT', 'GNPX', 'GNTA', 'GOSS', 'GOVX', 'GRAY', 'GRCL', 'GRNA', 'GRPH', 'GRTS', 'GRTX', 'GTBP', 'GTHX', 'HALO', 'HARP', 'HCWB', 'HEPA', 'HGEN', 'HILS', 'HOOK', 'HOTH', 'HOWL', 'HRMY', 'HRTX', 'HSTO']\n",
      "count 340\n"
     ]
    }
   ],
   "source": [
    "rlist = ['261','281','301','321']\n",
    "for page in rlist:\n",
    "    get_tickers_from_page(page)\n",
    "    \n",
    "print(tickerRegList)\n",
    "\n",
    "print('count',len(tickerRegList))"
   ]
  },
  {
   "cell_type": "code",
   "execution_count": 30,
   "id": "78241760-8064-459d-b0fe-3e3375eec1f4",
   "metadata": {},
   "outputs": [
    {
     "name": "stdout",
     "output_type": "stream",
     "text": [
      "['AADI', 'ABCL', 'ABCM', 'ABEO', 'ABIO', 'ABOS', 'ABSI', 'ABUS', 'ABVC', 'ACAD', 'ACER', 'ACET', 'ACHL', 'ACHV', 'ACIU', 'ACLX', 'ACOR', 'ACRS', 'ACST', 'ACXP', 'ADAG', 'ADAP', 'ADCT', 'ADGI', 'ADIL', 'ADMA', 'ADPT', 'ADTX', 'ADVM', 'ADXN', 'AEZS', 'AFMD', 'AGE', 'AGEN', 'AGIO', 'AGLE', 'AGTC', 'AIKI', 'AIM', 'AKBA', 'AKRO', 'AKTX', 'AKUS', 'ALBO', 'ALDX', 'ALEC', 'ALGS', 'ALKS', 'ALLK', 'ALLO', 'ALLR', 'ALNA', 'ALNY', 'ALPN', 'ALRN', 'ALT', 'ALVR', 'ALXO', 'ALZN', 'AMAM', 'AMLX', 'AMPE', 'AMRN', 'AMTI', 'ANAB', 'ANEB', 'ANGN', 'ANIK', 'ANNX', 'ANPC', 'ANTX', 'ANVS', 'APLS', 'APLT', 'APM', 'APRE', 'APTO', 'APTX', 'APVO', 'AQST', 'ARAV', 'ARCT', 'ARDS', 'ARDX', 'ARGX', 'ARMP', 'ARQT', 'ARTL', 'ARVN', 'ARWR', 'ASLN', 'ASMB', 'ASND', 'ATAI', 'ATHA', 'ATHE', 'ATHX', 'ATNF', 'ATNM', 'ATOS', 'ATRA', 'ATXI', 'ATXS', 'AUPH', 'AURA', 'AUTL', 'AVEO', 'AVIR', 'AVRO', 'AVTE', 'AVTX', 'AVXL', 'AXLA', 'AXSM', 'AYLA', 'AYTU', 'BBI', 'BBIO', 'BCAB', 'BCDA', 'BCEL', 'BCLI', 'BCRX', 'BCTX', 'BCYC', 'BDTX', 'BEAM', 'BGNE', 'BHVN', 'BIOR', 'BIVI', 'BLCM', 'BLI', 'BLPH', 'BLRX', 'BLTE', 'BLU', 'BLUE', 'BMEA', 'BMRN', 'BNOX', 'BNTC', 'BNTX', 'BOLT', 'BPMC', 'BPTH', 'BPTS', 'BRTX', 'BTAI', 'BTTX', 'BTX', 'BVXV', 'BWV', 'BXRX', 'BYSI', 'CABA', 'CADL', 'CALA', 'CALT', 'CANF', 'CAPR', 'CARA', 'CASI', 'CBAY', 'CBIO', 'CCCC', 'CCXI', 'CDAK', 'CDMO', 'CDTX', 'CDXC', 'CDXS', 'CELU', 'CELZ', 'CERE', 'CERS', 'CFRX', 'CGEM', 'CGEN', 'CGTX', 'CHRS', 'CINC', 'CING', 'CKPT', 'CLBS', 'CLDX', 'CLGN', 'CLLS', 'CLNN', 'CLRB', 'CLSD', 'CLSN', 'CLVS', 'CMMB', 'CMPX', 'CMRA', 'CMRX', 'CNCE', 'CNSP', 'CNTA', 'CNTB', 'CNTX', 'COCP', 'COGT', 'CORT', 'CPRX', 'CRBP', 'CRBU', 'CRDF', 'CRIS', 'CRMD', 'CRNX', 'CRSP', 'CRTX', 'CRVS', 'CSBR', 'CTIC', 'CTMX', 'CTXR', 'CUE', 'CVAC', 'CVM', 'CWBR', 'CYAD', 'CYBN', 'CYCC', 'CYCN', 'CYT', 'CYTK', 'CYTO', 'DARE', 'DAWN', 'DBTX', 'DBVT', 'DCPH', 'DFFN', 'DICE', 'DMAC', 'DNA', 'DNLI', 'DRMA', 'DRTS', 'DRUG', 'DSGN', 'DTIL', 'DVAX', 'DYAI', 'DYN', 'EDIT', 'EDSA', 'EFTR', 'EIGR', 'ELDN', 'ELEV', 'ELOX', 'ELYM', 'ENLV', 'ENOB', 'ENSC', 'ENTA', 'ENTX', 'ENVB', 'EPIX', 'EPZM', 'EQ', 'EQRX', 'ERAS', 'ERYP', 'ESPR', 'ETNB', 'ETON', 'EVAX', 'EVFM', 'EVGN', 'EVLO', 'EWTX', 'EXAI', 'EXEL', 'EYEN', 'EYPT', 'FATE', 'FBIO', 'FBIOP', 'FBRX', 'FDMT', 'FENC', 'FGEN', 'FHTX', 'FIXX', 'FMTX', 'FNCH', 'FOLD', 'FREQ', 'FRLN', 'FSTX', 'FULC', 'FUSN', 'FWBI', 'FWP', 'GALT', 'GANX', 'GBIO', 'GBT', 'GERN', 'GHRS', 'GLMD', 'GLPG', 'GLS', 'GLSI', 'GLTO', 'GLUE', 'GLYC', 'GMAB', 'GMDA', 'GMTX', 'GNFT', 'GNPX', 'GNTA', 'GOSS', 'GOVX', 'GRAY', 'GRCL', 'GRNA', 'GRPH', 'GRTS', 'GRTX', 'GTBP', 'GTHX', 'HALO', 'HARP', 'HCWB', 'HEPA', 'HGEN', 'HILS', 'HOOK', 'HOTH', 'HOWL', 'HRMY', 'HRTX', 'HSTO', 'HUMA', 'IBIO', 'IBRX', 'ICCC', 'ICPT', 'ICVX', 'IDRA', 'IDYA', 'IFRX', 'IGMS', 'IKNA', 'IKT', 'IMAB', 'IMCR', 'IMGN', 'IMGO', 'IMMP', 'IMMX', 'IMNM', 'IMPL', 'IMRA', 'IMRN', 'IMRX', 'IMTX', 'IMUX', 'IMV', 'IMVT', 'INAB', 'INBX', 'INCY', 'INDP', 'INFI', 'INKT', 'INM', 'INMB', 'INO', 'INSM', 'INVA', 'INZY', 'IOBT', 'IONS', 'IOVA', 'IPA', 'IPHA', 'IPSC', 'ISEE', 'ITCI', 'ITOS', 'ITRM', 'IVA', 'JAGX', 'JANX', 'JAZZ', 'JNCE', 'JSPR', 'KALA', 'KALV', 'KDNY', 'KMPH', 'KNSA', 'KNTE', 'KOD', 'KPRX', 'KPTI', 'KRBP', 'KRON', 'KROS', 'KRTX', 'KRYS', 'KTRA', 'KTTA', 'KURA', 'KYMR', 'KZIA', 'KZR', 'LABP', 'LBPH', 'LCTX', 'LEGN', 'LEXX']\n",
      "count 420\n"
     ]
    }
   ],
   "source": [
    "rlist = ['341','361','381','401']\n",
    "for page in rlist:\n",
    "    get_tickers_from_page(page)\n",
    "    \n",
    "print(tickerRegList)\n",
    "\n",
    "print('count',len(tickerRegList))"
   ]
  },
  {
   "cell_type": "code",
   "execution_count": 31,
   "id": "78e76c3c-6909-400a-8653-fcf066c3d8f3",
   "metadata": {},
   "outputs": [
    {
     "name": "stdout",
     "output_type": "stream",
     "text": [
      "['AADI', 'ABCL', 'ABCM', 'ABEO', 'ABIO', 'ABOS', 'ABSI', 'ABUS', 'ABVC', 'ACAD', 'ACER', 'ACET', 'ACHL', 'ACHV', 'ACIU', 'ACLX', 'ACOR', 'ACRS', 'ACST', 'ACXP', 'ADAG', 'ADAP', 'ADCT', 'ADGI', 'ADIL', 'ADMA', 'ADPT', 'ADTX', 'ADVM', 'ADXN', 'AEZS', 'AFMD', 'AGE', 'AGEN', 'AGIO', 'AGLE', 'AGTC', 'AIKI', 'AIM', 'AKBA', 'AKRO', 'AKTX', 'AKUS', 'ALBO', 'ALDX', 'ALEC', 'ALGS', 'ALKS', 'ALLK', 'ALLO', 'ALLR', 'ALNA', 'ALNY', 'ALPN', 'ALRN', 'ALT', 'ALVR', 'ALXO', 'ALZN', 'AMAM', 'AMLX', 'AMPE', 'AMRN', 'AMTI', 'ANAB', 'ANEB', 'ANGN', 'ANIK', 'ANNX', 'ANPC', 'ANTX', 'ANVS', 'APLS', 'APLT', 'APM', 'APRE', 'APTO', 'APTX', 'APVO', 'AQST', 'ARAV', 'ARCT', 'ARDS', 'ARDX', 'ARGX', 'ARMP', 'ARQT', 'ARTL', 'ARVN', 'ARWR', 'ASLN', 'ASMB', 'ASND', 'ATAI', 'ATHA', 'ATHE', 'ATHX', 'ATNF', 'ATNM', 'ATOS', 'ATRA', 'ATXI', 'ATXS', 'AUPH', 'AURA', 'AUTL', 'AVEO', 'AVIR', 'AVRO', 'AVTE', 'AVTX', 'AVXL', 'AXLA', 'AXSM', 'AYLA', 'AYTU', 'BBI', 'BBIO', 'BCAB', 'BCDA', 'BCEL', 'BCLI', 'BCRX', 'BCTX', 'BCYC', 'BDTX', 'BEAM', 'BGNE', 'BHVN', 'BIOR', 'BIVI', 'BLCM', 'BLI', 'BLPH', 'BLRX', 'BLTE', 'BLU', 'BLUE', 'BMEA', 'BMRN', 'BNOX', 'BNTC', 'BNTX', 'BOLT', 'BPMC', 'BPTH', 'BPTS', 'BRTX', 'BTAI', 'BTTX', 'BTX', 'BVXV', 'BWV', 'BXRX', 'BYSI', 'CABA', 'CADL', 'CALA', 'CALT', 'CANF', 'CAPR', 'CARA', 'CASI', 'CBAY', 'CBIO', 'CCCC', 'CCXI', 'CDAK', 'CDMO', 'CDTX', 'CDXC', 'CDXS', 'CELU', 'CELZ', 'CERE', 'CERS', 'CFRX', 'CGEM', 'CGEN', 'CGTX', 'CHRS', 'CINC', 'CING', 'CKPT', 'CLBS', 'CLDX', 'CLGN', 'CLLS', 'CLNN', 'CLRB', 'CLSD', 'CLSN', 'CLVS', 'CMMB', 'CMPX', 'CMRA', 'CMRX', 'CNCE', 'CNSP', 'CNTA', 'CNTB', 'CNTX', 'COCP', 'COGT', 'CORT', 'CPRX', 'CRBP', 'CRBU', 'CRDF', 'CRIS', 'CRMD', 'CRNX', 'CRSP', 'CRTX', 'CRVS', 'CSBR', 'CTIC', 'CTMX', 'CTXR', 'CUE', 'CVAC', 'CVM', 'CWBR', 'CYAD', 'CYBN', 'CYCC', 'CYCN', 'CYT', 'CYTK', 'CYTO', 'DARE', 'DAWN', 'DBTX', 'DBVT', 'DCPH', 'DFFN', 'DICE', 'DMAC', 'DNA', 'DNLI', 'DRMA', 'DRTS', 'DRUG', 'DSGN', 'DTIL', 'DVAX', 'DYAI', 'DYN', 'EDIT', 'EDSA', 'EFTR', 'EIGR', 'ELDN', 'ELEV', 'ELOX', 'ELYM', 'ENLV', 'ENOB', 'ENSC', 'ENTA', 'ENTX', 'ENVB', 'EPIX', 'EPZM', 'EQ', 'EQRX', 'ERAS', 'ERYP', 'ESPR', 'ETNB', 'ETON', 'EVAX', 'EVFM', 'EVGN', 'EVLO', 'EWTX', 'EXAI', 'EXEL', 'EYEN', 'EYPT', 'FATE', 'FBIO', 'FBIOP', 'FBRX', 'FDMT', 'FENC', 'FGEN', 'FHTX', 'FIXX', 'FMTX', 'FNCH', 'FOLD', 'FREQ', 'FRLN', 'FSTX', 'FULC', 'FUSN', 'FWBI', 'FWP', 'GALT', 'GANX', 'GBIO', 'GBT', 'GERN', 'GHRS', 'GLMD', 'GLPG', 'GLS', 'GLSI', 'GLTO', 'GLUE', 'GLYC', 'GMAB', 'GMDA', 'GMTX', 'GNFT', 'GNPX', 'GNTA', 'GOSS', 'GOVX', 'GRAY', 'GRCL', 'GRNA', 'GRPH', 'GRTS', 'GRTX', 'GTBP', 'GTHX', 'HALO', 'HARP', 'HCWB', 'HEPA', 'HGEN', 'HILS', 'HOOK', 'HOTH', 'HOWL', 'HRMY', 'HRTX', 'HSTO', 'HUMA', 'IBIO', 'IBRX', 'ICCC', 'ICPT', 'ICVX', 'IDRA', 'IDYA', 'IFRX', 'IGMS', 'IKNA', 'IKT', 'IMAB', 'IMCR', 'IMGN', 'IMGO', 'IMMP', 'IMMX', 'IMNM', 'IMPL', 'IMRA', 'IMRN', 'IMRX', 'IMTX', 'IMUX', 'IMV', 'IMVT', 'INAB', 'INBX', 'INCY', 'INDP', 'INFI', 'INKT', 'INM', 'INMB', 'INO', 'INSM', 'INVA', 'INZY', 'IOBT', 'IONS', 'IOVA', 'IPA', 'IPHA', 'IPSC', 'ISEE', 'ITCI', 'ITOS', 'ITRM', 'IVA', 'JAGX', 'JANX', 'JAZZ', 'JNCE', 'JSPR', 'KALA', 'KALV', 'KDNY', 'KMPH', 'KNSA', 'KNTE', 'KOD', 'KPRX', 'KPTI', 'KRBP', 'KRON', 'KROS', 'KRTX', 'KRYS', 'KTRA', 'KTTA', 'KURA', 'KYMR', 'KZIA', 'KZR', 'LABP', 'LBPH', 'LCTX', 'LEGN', 'LEXX', 'LGND', 'LGVN', 'LIAN', 'LIFE', 'LIXT', 'LJPC', 'LMNL', 'LOGC', 'LPCN', 'LPTX', 'LQDA', 'LRMR', 'LTRN', 'LUMO', 'LVTX', 'LXRX', 'LYEL', 'LYRA', 'MACK', 'MBIO', 'MBRX', 'MCRB', 'MDGL', 'MDNA', 'MDWD', 'MEIP', 'MESO', 'MGNX', 'MGTA', 'MGTX', 'MIRM', 'MIRO', 'MIST', 'MITO', 'MLTX', 'MNKD', 'MNMD', 'MNOV', 'MNPR', 'MOLN', 'MOR', 'MORF', 'MREO', 'MRKR', 'MRNA', 'MRNS', 'MRSN', 'MRTX', 'MRUS', 'MRVI', 'MTCR', 'MTEM', 'MTNB', 'MTP', 'MYMD', 'MYOV', 'NAUT', 'NAVB', 'NBIX', 'NBRV', 'NBSE', 'NBTX', 'NBY', 'NCNA', 'NERV', 'NEXI', 'NGM', 'NHWK', 'NKTR', 'NKTX', 'NLSP', 'NMTR', 'NNVC', 'NOVN', 'NRBO', 'NRIX', 'NRSN', 'NRXP', 'NSTG', 'NTLA']\n",
      "count 500\n"
     ]
    }
   ],
   "source": [
    "rlist = ['421','441','461','481']\n",
    "for page in rlist:\n",
    "    get_tickers_from_page(page)\n",
    "    \n",
    "print(tickerRegList)\n",
    "\n",
    "print('count',len(tickerRegList))"
   ]
  },
  {
   "cell_type": "code",
   "execution_count": 32,
   "id": "37d3cb6f-1a68-41fe-a556-d17eb4249d91",
   "metadata": {},
   "outputs": [
    {
     "name": "stdout",
     "output_type": "stream",
     "text": [
      "['AADI', 'ABCL', 'ABCM', 'ABEO', 'ABIO', 'ABOS', 'ABSI', 'ABUS', 'ABVC', 'ACAD', 'ACER', 'ACET', 'ACHL', 'ACHV', 'ACIU', 'ACLX', 'ACOR', 'ACRS', 'ACST', 'ACXP', 'ADAG', 'ADAP', 'ADCT', 'ADGI', 'ADIL', 'ADMA', 'ADPT', 'ADTX', 'ADVM', 'ADXN', 'AEZS', 'AFMD', 'AGE', 'AGEN', 'AGIO', 'AGLE', 'AGTC', 'AIKI', 'AIM', 'AKBA', 'AKRO', 'AKTX', 'AKUS', 'ALBO', 'ALDX', 'ALEC', 'ALGS', 'ALKS', 'ALLK', 'ALLO', 'ALLR', 'ALNA', 'ALNY', 'ALPN', 'ALRN', 'ALT', 'ALVR', 'ALXO', 'ALZN', 'AMAM', 'AMLX', 'AMPE', 'AMRN', 'AMTI', 'ANAB', 'ANEB', 'ANGN', 'ANIK', 'ANNX', 'ANPC', 'ANTX', 'ANVS', 'APLS', 'APLT', 'APM', 'APRE', 'APTO', 'APTX', 'APVO', 'AQST', 'ARAV', 'ARCT', 'ARDS', 'ARDX', 'ARGX', 'ARMP', 'ARQT', 'ARTL', 'ARVN', 'ARWR', 'ASLN', 'ASMB', 'ASND', 'ATAI', 'ATHA', 'ATHE', 'ATHX', 'ATNF', 'ATNM', 'ATOS', 'ATRA', 'ATXI', 'ATXS', 'AUPH', 'AURA', 'AUTL', 'AVEO', 'AVIR', 'AVRO', 'AVTE', 'AVTX', 'AVXL', 'AXLA', 'AXSM', 'AYLA', 'AYTU', 'BBI', 'BBIO', 'BCAB', 'BCDA', 'BCEL', 'BCLI', 'BCRX', 'BCTX', 'BCYC', 'BDTX', 'BEAM', 'BGNE', 'BHVN', 'BIOR', 'BIVI', 'BLCM', 'BLI', 'BLPH', 'BLRX', 'BLTE', 'BLU', 'BLUE', 'BMEA', 'BMRN', 'BNOX', 'BNTC', 'BNTX', 'BOLT', 'BPMC', 'BPTH', 'BPTS', 'BRTX', 'BTAI', 'BTTX', 'BTX', 'BVXV', 'BWV', 'BXRX', 'BYSI', 'CABA', 'CADL', 'CALA', 'CALT', 'CANF', 'CAPR', 'CARA', 'CASI', 'CBAY', 'CBIO', 'CCCC', 'CCXI', 'CDAK', 'CDMO', 'CDTX', 'CDXC', 'CDXS', 'CELU', 'CELZ', 'CERE', 'CERS', 'CFRX', 'CGEM', 'CGEN', 'CGTX', 'CHRS', 'CINC', 'CING', 'CKPT', 'CLBS', 'CLDX', 'CLGN', 'CLLS', 'CLNN', 'CLRB', 'CLSD', 'CLSN', 'CLVS', 'CMMB', 'CMPX', 'CMRA', 'CMRX', 'CNCE', 'CNSP', 'CNTA', 'CNTB', 'CNTX', 'COCP', 'COGT', 'CORT', 'CPRX', 'CRBP', 'CRBU', 'CRDF', 'CRIS', 'CRMD', 'CRNX', 'CRSP', 'CRTX', 'CRVS', 'CSBR', 'CTIC', 'CTMX', 'CTXR', 'CUE', 'CVAC', 'CVM', 'CWBR', 'CYAD', 'CYBN', 'CYCC', 'CYCN', 'CYT', 'CYTK', 'CYTO', 'DARE', 'DAWN', 'DBTX', 'DBVT', 'DCPH', 'DFFN', 'DICE', 'DMAC', 'DNA', 'DNLI', 'DRMA', 'DRTS', 'DRUG', 'DSGN', 'DTIL', 'DVAX', 'DYAI', 'DYN', 'EDIT', 'EDSA', 'EFTR', 'EIGR', 'ELDN', 'ELEV', 'ELOX', 'ELYM', 'ENLV', 'ENOB', 'ENSC', 'ENTA', 'ENTX', 'ENVB', 'EPIX', 'EPZM', 'EQ', 'EQRX', 'ERAS', 'ERYP', 'ESPR', 'ETNB', 'ETON', 'EVAX', 'EVFM', 'EVGN', 'EVLO', 'EWTX', 'EXAI', 'EXEL', 'EYEN', 'EYPT', 'FATE', 'FBIO', 'FBIOP', 'FBRX', 'FDMT', 'FENC', 'FGEN', 'FHTX', 'FIXX', 'FMTX', 'FNCH', 'FOLD', 'FREQ', 'FRLN', 'FSTX', 'FULC', 'FUSN', 'FWBI', 'FWP', 'GALT', 'GANX', 'GBIO', 'GBT', 'GERN', 'GHRS', 'GLMD', 'GLPG', 'GLS', 'GLSI', 'GLTO', 'GLUE', 'GLYC', 'GMAB', 'GMDA', 'GMTX', 'GNFT', 'GNPX', 'GNTA', 'GOSS', 'GOVX', 'GRAY', 'GRCL', 'GRNA', 'GRPH', 'GRTS', 'GRTX', 'GTBP', 'GTHX', 'HALO', 'HARP', 'HCWB', 'HEPA', 'HGEN', 'HILS', 'HOOK', 'HOTH', 'HOWL', 'HRMY', 'HRTX', 'HSTO', 'HUMA', 'IBIO', 'IBRX', 'ICCC', 'ICPT', 'ICVX', 'IDRA', 'IDYA', 'IFRX', 'IGMS', 'IKNA', 'IKT', 'IMAB', 'IMCR', 'IMGN', 'IMGO', 'IMMP', 'IMMX', 'IMNM', 'IMPL', 'IMRA', 'IMRN', 'IMRX', 'IMTX', 'IMUX', 'IMV', 'IMVT', 'INAB', 'INBX', 'INCY', 'INDP', 'INFI', 'INKT', 'INM', 'INMB', 'INO', 'INSM', 'INVA', 'INZY', 'IOBT', 'IONS', 'IOVA', 'IPA', 'IPHA', 'IPSC', 'ISEE', 'ITCI', 'ITOS', 'ITRM', 'IVA', 'JAGX', 'JANX', 'JAZZ', 'JNCE', 'JSPR', 'KALA', 'KALV', 'KDNY', 'KMPH', 'KNSA', 'KNTE', 'KOD', 'KPRX', 'KPTI', 'KRBP', 'KRON', 'KROS', 'KRTX', 'KRYS', 'KTRA', 'KTTA', 'KURA', 'KYMR', 'KZIA', 'KZR', 'LABP', 'LBPH', 'LCTX', 'LEGN', 'LEXX', 'LGND', 'LGVN', 'LIAN', 'LIFE', 'LIXT', 'LJPC', 'LMNL', 'LOGC', 'LPCN', 'LPTX', 'LQDA', 'LRMR', 'LTRN', 'LUMO', 'LVTX', 'LXRX', 'LYEL', 'LYRA', 'MACK', 'MBIO', 'MBRX', 'MCRB', 'MDGL', 'MDNA', 'MDWD', 'MEIP', 'MESO', 'MGNX', 'MGTA', 'MGTX', 'MIRM', 'MIRO', 'MIST', 'MITO', 'MLTX', 'MNKD', 'MNMD', 'MNOV', 'MNPR', 'MOLN', 'MOR', 'MORF', 'MREO', 'MRKR', 'MRNA', 'MRNS', 'MRSN', 'MRTX', 'MRUS', 'MRVI', 'MTCR', 'MTEM', 'MTNB', 'MTP', 'MYMD', 'MYOV', 'NAUT', 'NAVB', 'NBIX', 'NBRV', 'NBSE', 'NBTX', 'NBY', 'NCNA', 'NERV', 'NEXI', 'NGM', 'NHWK', 'NKTR', 'NKTX', 'NLSP', 'NMTR', 'NNVC', 'NOVN', 'NRBO', 'NRIX', 'NRSN', 'NRXP', 'NSTG', 'NTLA', 'NTRB', 'NTRBW', 'NUVB', 'NUVL', 'NVAX', 'NVCT', 'NVIV', 'NXTC', 'NYMX', 'OBSV', 'OCGN', 'OCUL', 'OCUP', 'OCX', 'OGEN', 'OLMA', 'OMER', 'OMGA', 'ONCR', 'ONCS', 'ONCT', 'ONCY', 'ONTX', 'OPNT', 'OPT', 'ORGS', 'ORIC', 'ORMP', 'ORTX', 'OTIC', 'OTLK', 'OVID', 'OYST', 'PALI', 'PASG', 'PBLA', 'PBYI', 'PCSA', 'PCVX', 'PDSB', 'PEPG', 'PGEN', 'PHAR', 'PHAS', 'PHAT', 'PHIO', 'PHVS', 'PIRS', 'PLRX', 'PLUR', 'PLX', 'PMCB', 'PMVP', 'PNT', 'PPBT', 'PRAX', 'PRDS', 'PRLD', 'PROK', 'PRQR', 'PRTA', 'PRTG', 'PRTK', 'PRVB', 'PSNL', 'PSTI', 'PSTV', 'PSTX', 'PTCT', 'PTE', 'PTGX', 'PTIX', 'PTN', 'PULM', 'PYPD', 'PYXS', 'QLGN', 'QNRX', 'QSI', 'QURE']\n",
      "count 580\n"
     ]
    }
   ],
   "source": [
    "rlist = ['501','521','541','561']\n",
    "for page in rlist:\n",
    "    get_tickers_from_page(page)\n",
    "    \n",
    "print(tickerRegList)\n",
    "\n",
    "print('count',len(tickerRegList))"
   ]
  },
  {
   "cell_type": "code",
   "execution_count": 33,
   "id": "1661fc1f-ae09-46a6-a6e4-45e13230ee70",
   "metadata": {},
   "outputs": [
    {
     "name": "stdout",
     "output_type": "stream",
     "text": [
      "['AADI', 'ABCL', 'ABCM', 'ABEO', 'ABIO', 'ABOS', 'ABSI', 'ABUS', 'ABVC', 'ACAD', 'ACER', 'ACET', 'ACHL', 'ACHV', 'ACIU', 'ACLX', 'ACOR', 'ACRS', 'ACST', 'ACXP', 'ADAG', 'ADAP', 'ADCT', 'ADGI', 'ADIL', 'ADMA', 'ADPT', 'ADTX', 'ADVM', 'ADXN', 'AEZS', 'AFMD', 'AGE', 'AGEN', 'AGIO', 'AGLE', 'AGTC', 'AIKI', 'AIM', 'AKBA', 'AKRO', 'AKTX', 'AKUS', 'ALBO', 'ALDX', 'ALEC', 'ALGS', 'ALKS', 'ALLK', 'ALLO', 'ALLR', 'ALNA', 'ALNY', 'ALPN', 'ALRN', 'ALT', 'ALVR', 'ALXO', 'ALZN', 'AMAM', 'AMLX', 'AMPE', 'AMRN', 'AMTI', 'ANAB', 'ANEB', 'ANGN', 'ANIK', 'ANNX', 'ANPC', 'ANTX', 'ANVS', 'APLS', 'APLT', 'APM', 'APRE', 'APTO', 'APTX', 'APVO', 'AQST', 'ARAV', 'ARCT', 'ARDS', 'ARDX', 'ARGX', 'ARMP', 'ARQT', 'ARTL', 'ARVN', 'ARWR', 'ASLN', 'ASMB', 'ASND', 'ATAI', 'ATHA', 'ATHE', 'ATHX', 'ATNF', 'ATNM', 'ATOS', 'ATRA', 'ATXI', 'ATXS', 'AUPH', 'AURA', 'AUTL', 'AVEO', 'AVIR', 'AVRO', 'AVTE', 'AVTX', 'AVXL', 'AXLA', 'AXSM', 'AYLA', 'AYTU', 'BBI', 'BBIO', 'BCAB', 'BCDA', 'BCEL', 'BCLI', 'BCRX', 'BCTX', 'BCYC', 'BDTX', 'BEAM', 'BGNE', 'BHVN', 'BIOR', 'BIVI', 'BLCM', 'BLI', 'BLPH', 'BLRX', 'BLTE', 'BLU', 'BLUE', 'BMEA', 'BMRN', 'BNOX', 'BNTC', 'BNTX', 'BOLT', 'BPMC', 'BPTH', 'BPTS', 'BRTX', 'BTAI', 'BTTX', 'BTX', 'BVXV', 'BWV', 'BXRX', 'BYSI', 'CABA', 'CADL', 'CALA', 'CALT', 'CANF', 'CAPR', 'CARA', 'CASI', 'CBAY', 'CBIO', 'CCCC', 'CCXI', 'CDAK', 'CDMO', 'CDTX', 'CDXC', 'CDXS', 'CELU', 'CELZ', 'CERE', 'CERS', 'CFRX', 'CGEM', 'CGEN', 'CGTX', 'CHRS', 'CINC', 'CING', 'CKPT', 'CLBS', 'CLDX', 'CLGN', 'CLLS', 'CLNN', 'CLRB', 'CLSD', 'CLSN', 'CLVS', 'CMMB', 'CMPX', 'CMRA', 'CMRX', 'CNCE', 'CNSP', 'CNTA', 'CNTB', 'CNTX', 'COCP', 'COGT', 'CORT', 'CPRX', 'CRBP', 'CRBU', 'CRDF', 'CRIS', 'CRMD', 'CRNX', 'CRSP', 'CRTX', 'CRVS', 'CSBR', 'CTIC', 'CTMX', 'CTXR', 'CUE', 'CVAC', 'CVM', 'CWBR', 'CYAD', 'CYBN', 'CYCC', 'CYCN', 'CYT', 'CYTK', 'CYTO', 'DARE', 'DAWN', 'DBTX', 'DBVT', 'DCPH', 'DFFN', 'DICE', 'DMAC', 'DNA', 'DNLI', 'DRMA', 'DRTS', 'DRUG', 'DSGN', 'DTIL', 'DVAX', 'DYAI', 'DYN', 'EDIT', 'EDSA', 'EFTR', 'EIGR', 'ELDN', 'ELEV', 'ELOX', 'ELYM', 'ENLV', 'ENOB', 'ENSC', 'ENTA', 'ENTX', 'ENVB', 'EPIX', 'EPZM', 'EQ', 'EQRX', 'ERAS', 'ERYP', 'ESPR', 'ETNB', 'ETON', 'EVAX', 'EVFM', 'EVGN', 'EVLO', 'EWTX', 'EXAI', 'EXEL', 'EYEN', 'EYPT', 'FATE', 'FBIO', 'FBIOP', 'FBRX', 'FDMT', 'FENC', 'FGEN', 'FHTX', 'FIXX', 'FMTX', 'FNCH', 'FOLD', 'FREQ', 'FRLN', 'FSTX', 'FULC', 'FUSN', 'FWBI', 'FWP', 'GALT', 'GANX', 'GBIO', 'GBT', 'GERN', 'GHRS', 'GLMD', 'GLPG', 'GLS', 'GLSI', 'GLTO', 'GLUE', 'GLYC', 'GMAB', 'GMDA', 'GMTX', 'GNFT', 'GNPX', 'GNTA', 'GOSS', 'GOVX', 'GRAY', 'GRCL', 'GRNA', 'GRPH', 'GRTS', 'GRTX', 'GTBP', 'GTHX', 'HALO', 'HARP', 'HCWB', 'HEPA', 'HGEN', 'HILS', 'HOOK', 'HOTH', 'HOWL', 'HRMY', 'HRTX', 'HSTO', 'HUMA', 'IBIO', 'IBRX', 'ICCC', 'ICPT', 'ICVX', 'IDRA', 'IDYA', 'IFRX', 'IGMS', 'IKNA', 'IKT', 'IMAB', 'IMCR', 'IMGN', 'IMGO', 'IMMP', 'IMMX', 'IMNM', 'IMPL', 'IMRA', 'IMRN', 'IMRX', 'IMTX', 'IMUX', 'IMV', 'IMVT', 'INAB', 'INBX', 'INCY', 'INDP', 'INFI', 'INKT', 'INM', 'INMB', 'INO', 'INSM', 'INVA', 'INZY', 'IOBT', 'IONS', 'IOVA', 'IPA', 'IPHA', 'IPSC', 'ISEE', 'ITCI', 'ITOS', 'ITRM', 'IVA', 'JAGX', 'JANX', 'JAZZ', 'JNCE', 'JSPR', 'KALA', 'KALV', 'KDNY', 'KMPH', 'KNSA', 'KNTE', 'KOD', 'KPRX', 'KPTI', 'KRBP', 'KRON', 'KROS', 'KRTX', 'KRYS', 'KTRA', 'KTTA', 'KURA', 'KYMR', 'KZIA', 'KZR', 'LABP', 'LBPH', 'LCTX', 'LEGN', 'LEXX', 'LGND', 'LGVN', 'LIAN', 'LIFE', 'LIXT', 'LJPC', 'LMNL', 'LOGC', 'LPCN', 'LPTX', 'LQDA', 'LRMR', 'LTRN', 'LUMO', 'LVTX', 'LXRX', 'LYEL', 'LYRA', 'MACK', 'MBIO', 'MBRX', 'MCRB', 'MDGL', 'MDNA', 'MDWD', 'MEIP', 'MESO', 'MGNX', 'MGTA', 'MGTX', 'MIRM', 'MIRO', 'MIST', 'MITO', 'MLTX', 'MNKD', 'MNMD', 'MNOV', 'MNPR', 'MOLN', 'MOR', 'MORF', 'MREO', 'MRKR', 'MRNA', 'MRNS', 'MRSN', 'MRTX', 'MRUS', 'MRVI', 'MTCR', 'MTEM', 'MTNB', 'MTP', 'MYMD', 'MYOV', 'NAUT', 'NAVB', 'NBIX', 'NBRV', 'NBSE', 'NBTX', 'NBY', 'NCNA', 'NERV', 'NEXI', 'NGM', 'NHWK', 'NKTR', 'NKTX', 'NLSP', 'NMTR', 'NNVC', 'NOVN', 'NRBO', 'NRIX', 'NRSN', 'NRXP', 'NSTG', 'NTLA', 'NTRB', 'NTRBW', 'NUVB', 'NUVL', 'NVAX', 'NVCT', 'NVIV', 'NXTC', 'NYMX', 'OBSV', 'OCGN', 'OCUL', 'OCUP', 'OCX', 'OGEN', 'OLMA', 'OMER', 'OMGA', 'ONCR', 'ONCS', 'ONCT', 'ONCY', 'ONTX', 'OPNT', 'OPT', 'ORGS', 'ORIC', 'ORMP', 'ORTX', 'OTIC', 'OTLK', 'OVID', 'OYST', 'PALI', 'PASG', 'PBLA', 'PBYI', 'PCSA', 'PCVX', 'PDSB', 'PEPG', 'PGEN', 'PHAR', 'PHAS', 'PHAT', 'PHIO', 'PHVS', 'PIRS', 'PLRX', 'PLUR', 'PLX', 'PMCB', 'PMVP', 'PNT', 'PPBT', 'PRAX', 'PRDS', 'PRLD', 'PROK', 'PRQR', 'PRTA', 'PRTG', 'PRTK', 'PRVB', 'PSNL', 'PSTI', 'PSTV', 'PSTX', 'PTCT', 'PTE', 'PTGX', 'PTIX', 'PTN', 'PULM', 'PYPD', 'PYXS', 'QLGN', 'QNRX', 'QSI', 'QURE', 'RAIN', 'RANI', 'RAPT', 'RARE', 'RCKT', 'RCOR', 'RCUS', 'REGN', 'REPL', 'RETA', 'REVB', 'RFL', 'RGLS', 'RGNX', 'RIGL', 'RLAY', 'RLYB', 'RNA', 'RNAZ', 'RNXT', 'ROIV', 'RPHM', 'RPRX', 'RPTX', 'RUBY', 'RVLP', 'RVMD', 'RVNC', 'RVPH', 'RXDX', 'RXRX', 'RYTM', 'RZLT', 'SABS', 'SAGE', 'SANA', 'SAVA', 'SBTX', 'SCPH', 'SCPS', 'SEEL', 'SEER', 'SELB', 'SESN', 'SGEN', 'SGMO', 'SGTX', 'SIGA', 'SIOX', 'SLGL', 'SLRX', 'SLS', 'SMMT', 'SNDX', 'SNGX', 'SNPX', 'SNSE', 'SNTI', 'SONN', 'SPPI', 'SPRB', 'SPRC', 'SPRO', 'SQZ', 'SRNE', 'SRPT', 'SRRK', 'SRZN', 'SRZNW', 'STAB', 'STOK', 'STRO', 'STSA', 'STTK', 'SURF', 'SVRA', 'SWTX', 'SYBX', 'SYN', 'SYRS']\n",
      "count 660\n"
     ]
    }
   ],
   "source": [
    "rlist = ['581','601','621','641']\n",
    "for page in rlist:\n",
    "    get_tickers_from_page(page)\n",
    "    \n",
    "print(tickerRegList)\n",
    "\n",
    "print('count',len(tickerRegList))"
   ]
  },
  {
   "cell_type": "code",
   "execution_count": 34,
   "id": "3f69c6b1-2216-478c-8fe1-24cd30144b16",
   "metadata": {},
   "outputs": [
    {
     "name": "stdout",
     "output_type": "stream",
     "text": [
      "['AADI', 'ABCL', 'ABCM', 'ABEO', 'ABIO', 'ABOS', 'ABSI', 'ABUS', 'ABVC', 'ACAD', 'ACER', 'ACET', 'ACHL', 'ACHV', 'ACIU', 'ACLX', 'ACOR', 'ACRS', 'ACST', 'ACXP', 'ADAG', 'ADAP', 'ADCT', 'ADGI', 'ADIL', 'ADMA', 'ADPT', 'ADTX', 'ADVM', 'ADXN', 'AEZS', 'AFMD', 'AGE', 'AGEN', 'AGIO', 'AGLE', 'AGTC', 'AIKI', 'AIM', 'AKBA', 'AKRO', 'AKTX', 'AKUS', 'ALBO', 'ALDX', 'ALEC', 'ALGS', 'ALKS', 'ALLK', 'ALLO', 'ALLR', 'ALNA', 'ALNY', 'ALPN', 'ALRN', 'ALT', 'ALVR', 'ALXO', 'ALZN', 'AMAM', 'AMLX', 'AMPE', 'AMRN', 'AMTI', 'ANAB', 'ANEB', 'ANGN', 'ANIK', 'ANNX', 'ANPC', 'ANTX', 'ANVS', 'APLS', 'APLT', 'APM', 'APRE', 'APTO', 'APTX', 'APVO', 'AQST', 'ARAV', 'ARCT', 'ARDS', 'ARDX', 'ARGX', 'ARMP', 'ARQT', 'ARTL', 'ARVN', 'ARWR', 'ASLN', 'ASMB', 'ASND', 'ATAI', 'ATHA', 'ATHE', 'ATHX', 'ATNF', 'ATNM', 'ATOS', 'ATRA', 'ATXI', 'ATXS', 'AUPH', 'AURA', 'AUTL', 'AVEO', 'AVIR', 'AVRO', 'AVTE', 'AVTX', 'AVXL', 'AXLA', 'AXSM', 'AYLA', 'AYTU', 'BBI', 'BBIO', 'BCAB', 'BCDA', 'BCEL', 'BCLI', 'BCRX', 'BCTX', 'BCYC', 'BDTX', 'BEAM', 'BGNE', 'BHVN', 'BIOR', 'BIVI', 'BLCM', 'BLI', 'BLPH', 'BLRX', 'BLTE', 'BLU', 'BLUE', 'BMEA', 'BMRN', 'BNOX', 'BNTC', 'BNTX', 'BOLT', 'BPMC', 'BPTH', 'BPTS', 'BRTX', 'BTAI', 'BTTX', 'BTX', 'BVXV', 'BWV', 'BXRX', 'BYSI', 'CABA', 'CADL', 'CALA', 'CALT', 'CANF', 'CAPR', 'CARA', 'CASI', 'CBAY', 'CBIO', 'CCCC', 'CCXI', 'CDAK', 'CDMO', 'CDTX', 'CDXC', 'CDXS', 'CELU', 'CELZ', 'CERE', 'CERS', 'CFRX', 'CGEM', 'CGEN', 'CGTX', 'CHRS', 'CINC', 'CING', 'CKPT', 'CLBS', 'CLDX', 'CLGN', 'CLLS', 'CLNN', 'CLRB', 'CLSD', 'CLSN', 'CLVS', 'CMMB', 'CMPX', 'CMRA', 'CMRX', 'CNCE', 'CNSP', 'CNTA', 'CNTB', 'CNTX', 'COCP', 'COGT', 'CORT', 'CPRX', 'CRBP', 'CRBU', 'CRDF', 'CRIS', 'CRMD', 'CRNX', 'CRSP', 'CRTX', 'CRVS', 'CSBR', 'CTIC', 'CTMX', 'CTXR', 'CUE', 'CVAC', 'CVM', 'CWBR', 'CYAD', 'CYBN', 'CYCC', 'CYCN', 'CYT', 'CYTK', 'CYTO', 'DARE', 'DAWN', 'DBTX', 'DBVT', 'DCPH', 'DFFN', 'DICE', 'DMAC', 'DNA', 'DNLI', 'DRMA', 'DRTS', 'DRUG', 'DSGN', 'DTIL', 'DVAX', 'DYAI', 'DYN', 'EDIT', 'EDSA', 'EFTR', 'EIGR', 'ELDN', 'ELEV', 'ELOX', 'ELYM', 'ENLV', 'ENOB', 'ENSC', 'ENTA', 'ENTX', 'ENVB', 'EPIX', 'EPZM', 'EQ', 'EQRX', 'ERAS', 'ERYP', 'ESPR', 'ETNB', 'ETON', 'EVAX', 'EVFM', 'EVGN', 'EVLO', 'EWTX', 'EXAI', 'EXEL', 'EYEN', 'EYPT', 'FATE', 'FBIO', 'FBIOP', 'FBRX', 'FDMT', 'FENC', 'FGEN', 'FHTX', 'FIXX', 'FMTX', 'FNCH', 'FOLD', 'FREQ', 'FRLN', 'FSTX', 'FULC', 'FUSN', 'FWBI', 'FWP', 'GALT', 'GANX', 'GBIO', 'GBT', 'GERN', 'GHRS', 'GLMD', 'GLPG', 'GLS', 'GLSI', 'GLTO', 'GLUE', 'GLYC', 'GMAB', 'GMDA', 'GMTX', 'GNFT', 'GNPX', 'GNTA', 'GOSS', 'GOVX', 'GRAY', 'GRCL', 'GRNA', 'GRPH', 'GRTS', 'GRTX', 'GTBP', 'GTHX', 'HALO', 'HARP', 'HCWB', 'HEPA', 'HGEN', 'HILS', 'HOOK', 'HOTH', 'HOWL', 'HRMY', 'HRTX', 'HSTO', 'HUMA', 'IBIO', 'IBRX', 'ICCC', 'ICPT', 'ICVX', 'IDRA', 'IDYA', 'IFRX', 'IGMS', 'IKNA', 'IKT', 'IMAB', 'IMCR', 'IMGN', 'IMGO', 'IMMP', 'IMMX', 'IMNM', 'IMPL', 'IMRA', 'IMRN', 'IMRX', 'IMTX', 'IMUX', 'IMV', 'IMVT', 'INAB', 'INBX', 'INCY', 'INDP', 'INFI', 'INKT', 'INM', 'INMB', 'INO', 'INSM', 'INVA', 'INZY', 'IOBT', 'IONS', 'IOVA', 'IPA', 'IPHA', 'IPSC', 'ISEE', 'ITCI', 'ITOS', 'ITRM', 'IVA', 'JAGX', 'JANX', 'JAZZ', 'JNCE', 'JSPR', 'KALA', 'KALV', 'KDNY', 'KMPH', 'KNSA', 'KNTE', 'KOD', 'KPRX', 'KPTI', 'KRBP', 'KRON', 'KROS', 'KRTX', 'KRYS', 'KTRA', 'KTTA', 'KURA', 'KYMR', 'KZIA', 'KZR', 'LABP', 'LBPH', 'LCTX', 'LEGN', 'LEXX', 'LGND', 'LGVN', 'LIAN', 'LIFE', 'LIXT', 'LJPC', 'LMNL', 'LOGC', 'LPCN', 'LPTX', 'LQDA', 'LRMR', 'LTRN', 'LUMO', 'LVTX', 'LXRX', 'LYEL', 'LYRA', 'MACK', 'MBIO', 'MBRX', 'MCRB', 'MDGL', 'MDNA', 'MDWD', 'MEIP', 'MESO', 'MGNX', 'MGTA', 'MGTX', 'MIRM', 'MIRO', 'MIST', 'MITO', 'MLTX', 'MNKD', 'MNMD', 'MNOV', 'MNPR', 'MOLN', 'MOR', 'MORF', 'MREO', 'MRKR', 'MRNA', 'MRNS', 'MRSN', 'MRTX', 'MRUS', 'MRVI', 'MTCR', 'MTEM', 'MTNB', 'MTP', 'MYMD', 'MYOV', 'NAUT', 'NAVB', 'NBIX', 'NBRV', 'NBSE', 'NBTX', 'NBY', 'NCNA', 'NERV', 'NEXI', 'NGM', 'NHWK', 'NKTR', 'NKTX', 'NLSP', 'NMTR', 'NNVC', 'NOVN', 'NRBO', 'NRIX', 'NRSN', 'NRXP', 'NSTG', 'NTLA', 'NTRB', 'NTRBW', 'NUVB', 'NUVL', 'NVAX', 'NVCT', 'NVIV', 'NXTC', 'NYMX', 'OBSV', 'OCGN', 'OCUL', 'OCUP', 'OCX', 'OGEN', 'OLMA', 'OMER', 'OMGA', 'ONCR', 'ONCS', 'ONCT', 'ONCY', 'ONTX', 'OPNT', 'OPT', 'ORGS', 'ORIC', 'ORMP', 'ORTX', 'OTIC', 'OTLK', 'OVID', 'OYST', 'PALI', 'PASG', 'PBLA', 'PBYI', 'PCSA', 'PCVX', 'PDSB', 'PEPG', 'PGEN', 'PHAR', 'PHAS', 'PHAT', 'PHIO', 'PHVS', 'PIRS', 'PLRX', 'PLUR', 'PLX', 'PMCB', 'PMVP', 'PNT', 'PPBT', 'PRAX', 'PRDS', 'PRLD', 'PROK', 'PRQR', 'PRTA', 'PRTG', 'PRTK', 'PRVB', 'PSNL', 'PSTI', 'PSTV', 'PSTX', 'PTCT', 'PTE', 'PTGX', 'PTIX', 'PTN', 'PULM', 'PYPD', 'PYXS', 'QLGN', 'QNRX', 'QSI', 'QURE', 'RAIN', 'RANI', 'RAPT', 'RARE', 'RCKT', 'RCOR', 'RCUS', 'REGN', 'REPL', 'RETA', 'REVB', 'RFL', 'RGLS', 'RGNX', 'RIGL', 'RLAY', 'RLYB', 'RNA', 'RNAZ', 'RNXT', 'ROIV', 'RPHM', 'RPRX', 'RPTX', 'RUBY', 'RVLP', 'RVMD', 'RVNC', 'RVPH', 'RXDX', 'RXRX', 'RYTM', 'RZLT', 'SABS', 'SAGE', 'SANA', 'SAVA', 'SBTX', 'SCPH', 'SCPS', 'SEEL', 'SEER', 'SELB', 'SESN', 'SGEN', 'SGMO', 'SGTX', 'SIGA', 'SIOX', 'SLGL', 'SLRX', 'SLS', 'SMMT', 'SNDX', 'SNGX', 'SNPX', 'SNSE', 'SNTI', 'SONN', 'SPPI', 'SPRB', 'SPRC', 'SPRO', 'SQZ', 'SRNE', 'SRPT', 'SRRK', 'SRZN', 'SRZNW', 'STAB', 'STOK', 'STRO', 'STSA', 'STTK', 'SURF', 'SVRA', 'SWTX', 'SYBX', 'SYN', 'SYRS', 'TALS', 'TARA', 'TARS', 'TBPH', 'TCBP', 'TCON', 'TCRR', 'TCRT', 'TCRX', 'TECH', 'TENX', 'TERN', 'TFFP', 'TGTX', 'THRX', 'TIL', 'TLSA', 'TMBR', 'TNGX', 'TNXP', 'TNYA', 'TPST', 'TPTX', 'TRDA', 'TRVI', 'TRVN', 'TSHA', 'TSVT', 'TTNP', 'TVTX', 'TYME', 'TYRA', 'UBX', 'UNCY', 'URGN', 'UTHR', 'VACC', 'VALN', 'VAXX', 'VBIV', 'VBLT', 'VCEL', 'VCNX', 'VCYT', 'VECT', 'VERA', 'VERV', 'VIGL', 'VINC', 'VIR', 'VIRI', 'VIRX', 'VKTX', 'VLON', 'VNDA', 'VOR', 'VRAX', 'VRCA', 'VRDN', 'VRNA', 'VRPX', 'VRTX', 'VSTM', 'VTGN', 'VTVT', 'VTYX', 'VXRT', 'VYGR', 'VYNE', 'VYNT', 'WINT', 'WVE', 'XBIO', 'XBIT', 'XCUR', 'XENE', 'XERS', 'XFOR', 'XLO', 'XNCR']\n",
      "count 740\n"
     ]
    }
   ],
   "source": [
    "rlist = ['661','681','701','721']\n",
    "for page in rlist:\n",
    "    get_tickers_from_page(page)\n",
    "    \n",
    "print(tickerRegList)\n",
    "\n",
    "print('count',len(tickerRegList))"
   ]
  },
  {
   "cell_type": "code",
   "execution_count": 35,
   "id": "99f0a5cc-e2c6-440b-9470-511363ec5539",
   "metadata": {},
   "outputs": [
    {
     "name": "stdout",
     "output_type": "stream",
     "text": [
      "['AADI', 'ABCL', 'ABCM', 'ABEO', 'ABIO', 'ABOS', 'ABSI', 'ABUS', 'ABVC', 'ACAD', 'ACER', 'ACET', 'ACHL', 'ACHV', 'ACIU', 'ACLX', 'ACOR', 'ACRS', 'ACST', 'ACXP', 'ADAG', 'ADAP', 'ADCT', 'ADGI', 'ADIL', 'ADMA', 'ADPT', 'ADTX', 'ADVM', 'ADXN', 'AEZS', 'AFMD', 'AGE', 'AGEN', 'AGIO', 'AGLE', 'AGTC', 'AIKI', 'AIM', 'AKBA', 'AKRO', 'AKTX', 'AKUS', 'ALBO', 'ALDX', 'ALEC', 'ALGS', 'ALKS', 'ALLK', 'ALLO', 'ALLR', 'ALNA', 'ALNY', 'ALPN', 'ALRN', 'ALT', 'ALVR', 'ALXO', 'ALZN', 'AMAM', 'AMLX', 'AMPE', 'AMRN', 'AMTI', 'ANAB', 'ANEB', 'ANGN', 'ANIK', 'ANNX', 'ANPC', 'ANTX', 'ANVS', 'APLS', 'APLT', 'APM', 'APRE', 'APTO', 'APTX', 'APVO', 'AQST', 'ARAV', 'ARCT', 'ARDS', 'ARDX', 'ARGX', 'ARMP', 'ARQT', 'ARTL', 'ARVN', 'ARWR', 'ASLN', 'ASMB', 'ASND', 'ATAI', 'ATHA', 'ATHE', 'ATHX', 'ATNF', 'ATNM', 'ATOS', 'ATRA', 'ATXI', 'ATXS', 'AUPH', 'AURA', 'AUTL', 'AVEO', 'AVIR', 'AVRO', 'AVTE', 'AVTX', 'AVXL', 'AXLA', 'AXSM', 'AYLA', 'AYTU', 'BBI', 'BBIO', 'BCAB', 'BCDA', 'BCEL', 'BCLI', 'BCRX', 'BCTX', 'BCYC', 'BDTX', 'BEAM', 'BGNE', 'BHVN', 'BIOR', 'BIVI', 'BLCM', 'BLI', 'BLPH', 'BLRX', 'BLTE', 'BLU', 'BLUE', 'BMEA', 'BMRN', 'BNOX', 'BNTC', 'BNTX', 'BOLT', 'BPMC', 'BPTH', 'BPTS', 'BRTX', 'BTAI', 'BTTX', 'BTX', 'BVXV', 'BWV', 'BXRX', 'BYSI', 'CABA', 'CADL', 'CALA', 'CALT', 'CANF', 'CAPR', 'CARA', 'CASI', 'CBAY', 'CBIO', 'CCCC', 'CCXI', 'CDAK', 'CDMO', 'CDTX', 'CDXC', 'CDXS', 'CELU', 'CELZ', 'CERE', 'CERS', 'CFRX', 'CGEM', 'CGEN', 'CGTX', 'CHRS', 'CINC', 'CING', 'CKPT', 'CLBS', 'CLDX', 'CLGN', 'CLLS', 'CLNN', 'CLRB', 'CLSD', 'CLSN', 'CLVS', 'CMMB', 'CMPX', 'CMRA', 'CMRX', 'CNCE', 'CNSP', 'CNTA', 'CNTB', 'CNTX', 'COCP', 'COGT', 'CORT', 'CPRX', 'CRBP', 'CRBU', 'CRDF', 'CRIS', 'CRMD', 'CRNX', 'CRSP', 'CRTX', 'CRVS', 'CSBR', 'CTIC', 'CTMX', 'CTXR', 'CUE', 'CVAC', 'CVM', 'CWBR', 'CYAD', 'CYBN', 'CYCC', 'CYCN', 'CYT', 'CYTK', 'CYTO', 'DARE', 'DAWN', 'DBTX', 'DBVT', 'DCPH', 'DFFN', 'DICE', 'DMAC', 'DNA', 'DNLI', 'DRMA', 'DRTS', 'DRUG', 'DSGN', 'DTIL', 'DVAX', 'DYAI', 'DYN', 'EDIT', 'EDSA', 'EFTR', 'EIGR', 'ELDN', 'ELEV', 'ELOX', 'ELYM', 'ENLV', 'ENOB', 'ENSC', 'ENTA', 'ENTX', 'ENVB', 'EPIX', 'EPZM', 'EQ', 'EQRX', 'ERAS', 'ERYP', 'ESPR', 'ETNB', 'ETON', 'EVAX', 'EVFM', 'EVGN', 'EVLO', 'EWTX', 'EXAI', 'EXEL', 'EYEN', 'EYPT', 'FATE', 'FBIO', 'FBIOP', 'FBRX', 'FDMT', 'FENC', 'FGEN', 'FHTX', 'FIXX', 'FMTX', 'FNCH', 'FOLD', 'FREQ', 'FRLN', 'FSTX', 'FULC', 'FUSN', 'FWBI', 'FWP', 'GALT', 'GANX', 'GBIO', 'GBT', 'GERN', 'GHRS', 'GLMD', 'GLPG', 'GLS', 'GLSI', 'GLTO', 'GLUE', 'GLYC', 'GMAB', 'GMDA', 'GMTX', 'GNFT', 'GNPX', 'GNTA', 'GOSS', 'GOVX', 'GRAY', 'GRCL', 'GRNA', 'GRPH', 'GRTS', 'GRTX', 'GTBP', 'GTHX', 'HALO', 'HARP', 'HCWB', 'HEPA', 'HGEN', 'HILS', 'HOOK', 'HOTH', 'HOWL', 'HRMY', 'HRTX', 'HSTO', 'HUMA', 'IBIO', 'IBRX', 'ICCC', 'ICPT', 'ICVX', 'IDRA', 'IDYA', 'IFRX', 'IGMS', 'IKNA', 'IKT', 'IMAB', 'IMCR', 'IMGN', 'IMGO', 'IMMP', 'IMMX', 'IMNM', 'IMPL', 'IMRA', 'IMRN', 'IMRX', 'IMTX', 'IMUX', 'IMV', 'IMVT', 'INAB', 'INBX', 'INCY', 'INDP', 'INFI', 'INKT', 'INM', 'INMB', 'INO', 'INSM', 'INVA', 'INZY', 'IOBT', 'IONS', 'IOVA', 'IPA', 'IPHA', 'IPSC', 'ISEE', 'ITCI', 'ITOS', 'ITRM', 'IVA', 'JAGX', 'JANX', 'JAZZ', 'JNCE', 'JSPR', 'KALA', 'KALV', 'KDNY', 'KMPH', 'KNSA', 'KNTE', 'KOD', 'KPRX', 'KPTI', 'KRBP', 'KRON', 'KROS', 'KRTX', 'KRYS', 'KTRA', 'KTTA', 'KURA', 'KYMR', 'KZIA', 'KZR', 'LABP', 'LBPH', 'LCTX', 'LEGN', 'LEXX', 'LGND', 'LGVN', 'LIAN', 'LIFE', 'LIXT', 'LJPC', 'LMNL', 'LOGC', 'LPCN', 'LPTX', 'LQDA', 'LRMR', 'LTRN', 'LUMO', 'LVTX', 'LXRX', 'LYEL', 'LYRA', 'MACK', 'MBIO', 'MBRX', 'MCRB', 'MDGL', 'MDNA', 'MDWD', 'MEIP', 'MESO', 'MGNX', 'MGTA', 'MGTX', 'MIRM', 'MIRO', 'MIST', 'MITO', 'MLTX', 'MNKD', 'MNMD', 'MNOV', 'MNPR', 'MOLN', 'MOR', 'MORF', 'MREO', 'MRKR', 'MRNA', 'MRNS', 'MRSN', 'MRTX', 'MRUS', 'MRVI', 'MTCR', 'MTEM', 'MTNB', 'MTP', 'MYMD', 'MYOV', 'NAUT', 'NAVB', 'NBIX', 'NBRV', 'NBSE', 'NBTX', 'NBY', 'NCNA', 'NERV', 'NEXI', 'NGM', 'NHWK', 'NKTR', 'NKTX', 'NLSP', 'NMTR', 'NNVC', 'NOVN', 'NRBO', 'NRIX', 'NRSN', 'NRXP', 'NSTG', 'NTLA', 'NTRB', 'NTRBW', 'NUVB', 'NUVL', 'NVAX', 'NVCT', 'NVIV', 'NXTC', 'NYMX', 'OBSV', 'OCGN', 'OCUL', 'OCUP', 'OCX', 'OGEN', 'OLMA', 'OMER', 'OMGA', 'ONCR', 'ONCS', 'ONCT', 'ONCY', 'ONTX', 'OPNT', 'OPT', 'ORGS', 'ORIC', 'ORMP', 'ORTX', 'OTIC', 'OTLK', 'OVID', 'OYST', 'PALI', 'PASG', 'PBLA', 'PBYI', 'PCSA', 'PCVX', 'PDSB', 'PEPG', 'PGEN', 'PHAR', 'PHAS', 'PHAT', 'PHIO', 'PHVS', 'PIRS', 'PLRX', 'PLUR', 'PLX', 'PMCB', 'PMVP', 'PNT', 'PPBT', 'PRAX', 'PRDS', 'PRLD', 'PROK', 'PRQR', 'PRTA', 'PRTG', 'PRTK', 'PRVB', 'PSNL', 'PSTI', 'PSTV', 'PSTX', 'PTCT', 'PTE', 'PTGX', 'PTIX', 'PTN', 'PULM', 'PYPD', 'PYXS', 'QLGN', 'QNRX', 'QSI', 'QURE', 'RAIN', 'RANI', 'RAPT', 'RARE', 'RCKT', 'RCOR', 'RCUS', 'REGN', 'REPL', 'RETA', 'REVB', 'RFL', 'RGLS', 'RGNX', 'RIGL', 'RLAY', 'RLYB', 'RNA', 'RNAZ', 'RNXT', 'ROIV', 'RPHM', 'RPRX', 'RPTX', 'RUBY', 'RVLP', 'RVMD', 'RVNC', 'RVPH', 'RXDX', 'RXRX', 'RYTM', 'RZLT', 'SABS', 'SAGE', 'SANA', 'SAVA', 'SBTX', 'SCPH', 'SCPS', 'SEEL', 'SEER', 'SELB', 'SESN', 'SGEN', 'SGMO', 'SGTX', 'SIGA', 'SIOX', 'SLGL', 'SLRX', 'SLS', 'SMMT', 'SNDX', 'SNGX', 'SNPX', 'SNSE', 'SNTI', 'SONN', 'SPPI', 'SPRB', 'SPRC', 'SPRO', 'SQZ', 'SRNE', 'SRPT', 'SRRK', 'SRZN', 'SRZNW', 'STAB', 'STOK', 'STRO', 'STSA', 'STTK', 'SURF', 'SVRA', 'SWTX', 'SYBX', 'SYN', 'SYRS', 'TALS', 'TARA', 'TARS', 'TBPH', 'TCBP', 'TCON', 'TCRR', 'TCRT', 'TCRX', 'TECH', 'TENX', 'TERN', 'TFFP', 'TGTX', 'THRX', 'TIL', 'TLSA', 'TMBR', 'TNGX', 'TNXP', 'TNYA', 'TPST', 'TPTX', 'TRDA', 'TRVI', 'TRVN', 'TSHA', 'TSVT', 'TTNP', 'TVTX', 'TYME', 'TYRA', 'UBX', 'UNCY', 'URGN', 'UTHR', 'VACC', 'VALN', 'VAXX', 'VBIV', 'VBLT', 'VCEL', 'VCNX', 'VCYT', 'VECT', 'VERA', 'VERV', 'VIGL', 'VINC', 'VIR', 'VIRI', 'VIRX', 'VKTX', 'VLON', 'VNDA', 'VOR', 'VRAX', 'VRCA', 'VRDN', 'VRNA', 'VRPX', 'VRTX', 'VSTM', 'VTGN', 'VTVT', 'VTYX', 'VXRT', 'VYGR', 'VYNE', 'VYNT', 'WINT', 'WVE', 'XBIO', 'XBIT', 'XCUR', 'XENE', 'XERS', 'XFOR', 'XLO', 'XNCR', 'XOMA', 'XOMAO', 'XRTX', 'XTLB', 'YMAB', 'YMTX', 'ZEAL', 'ZIVO', 'ZLAB', 'ZNTL', 'ZYME']\n",
      "count 751\n"
     ]
    }
   ],
   "source": [
    "rlist = ['741','761','781','801']\n",
    "for page in rlist:\n",
    "    get_tickers_from_page(page)\n",
    "    \n",
    "print(tickerRegList)\n",
    "\n",
    "print('count',len(tickerRegList))"
   ]
  },
  {
   "cell_type": "code",
   "execution_count": 20,
   "id": "1fb51e10",
   "metadata": {},
   "outputs": [
    {
     "name": "stdout",
     "output_type": "stream",
     "text": [
      "['AADI', 'ABCL', 'ABCM', 'ABEO', 'ABIO']\n"
     ]
    }
   ],
   "source": [
    "trl = tickerRegList[:5]\n",
    "print(trl)\n",
    "trl2 = []"
   ]
  },
  {
   "cell_type": "code",
   "execution_count": 21,
   "id": "33833930",
   "metadata": {},
   "outputs": [
    {
     "ename": "RuntimeError",
     "evalue": "This event loop is already running",
     "output_type": "error",
     "traceback": [
      "\u001b[0;31m---------------------------------------------------------------------------\u001b[0m",
      "\u001b[0;31mRuntimeError\u001b[0m                              Traceback (most recent call last)",
      "\u001b[0;32m/var/folders/pc/8z2v_wv911q5h3376m3rlnjh0000gn/T/ipykernel_70770/2570872991.py\u001b[0m in \u001b[0;36m<module>\u001b[0;34m\u001b[0m\n\u001b[1;32m     14\u001b[0m \u001b[0;34m\u001b[0m\u001b[0m\n\u001b[1;32m     15\u001b[0m \u001b[0mloop\u001b[0m \u001b[0;34m=\u001b[0m \u001b[0masyncio\u001b[0m\u001b[0;34m.\u001b[0m\u001b[0mget_event_loop\u001b[0m\u001b[0;34m(\u001b[0m\u001b[0;34m)\u001b[0m\u001b[0;34m\u001b[0m\u001b[0;34m\u001b[0m\u001b[0m\n\u001b[0;32m---> 16\u001b[0;31m \u001b[0mloop\u001b[0m\u001b[0;34m.\u001b[0m\u001b[0mrun_until_complete\u001b[0m\u001b[0;34m(\u001b[0m\u001b[0mpoop_fart\u001b[0m\u001b[0;34m(\u001b[0m\u001b[0;34m)\u001b[0m\u001b[0;34m)\u001b[0m\u001b[0;34m\u001b[0m\u001b[0;34m\u001b[0m\u001b[0m\n\u001b[0m\u001b[1;32m     17\u001b[0m \u001b[0mloop\u001b[0m\u001b[0;34m.\u001b[0m\u001b[0mclose\u001b[0m\u001b[0;34m(\u001b[0m\u001b[0;34m)\u001b[0m\u001b[0;34m\u001b[0m\u001b[0;34m\u001b[0m\u001b[0m\n",
      "\u001b[0;32m~/opt/anaconda3/lib/python3.9/asyncio/base_events.py\u001b[0m in \u001b[0;36mrun_until_complete\u001b[0;34m(self, future)\u001b[0m\n\u001b[1;32m    616\u001b[0m         \"\"\"\n\u001b[1;32m    617\u001b[0m         \u001b[0mself\u001b[0m\u001b[0;34m.\u001b[0m\u001b[0m_check_closed\u001b[0m\u001b[0;34m(\u001b[0m\u001b[0;34m)\u001b[0m\u001b[0;34m\u001b[0m\u001b[0;34m\u001b[0m\u001b[0m\n\u001b[0;32m--> 618\u001b[0;31m         \u001b[0mself\u001b[0m\u001b[0;34m.\u001b[0m\u001b[0m_check_running\u001b[0m\u001b[0;34m(\u001b[0m\u001b[0;34m)\u001b[0m\u001b[0;34m\u001b[0m\u001b[0;34m\u001b[0m\u001b[0m\n\u001b[0m\u001b[1;32m    619\u001b[0m \u001b[0;34m\u001b[0m\u001b[0m\n\u001b[1;32m    620\u001b[0m         \u001b[0mnew_task\u001b[0m \u001b[0;34m=\u001b[0m \u001b[0;32mnot\u001b[0m \u001b[0mfutures\u001b[0m\u001b[0;34m.\u001b[0m\u001b[0misfuture\u001b[0m\u001b[0;34m(\u001b[0m\u001b[0mfuture\u001b[0m\u001b[0;34m)\u001b[0m\u001b[0;34m\u001b[0m\u001b[0;34m\u001b[0m\u001b[0m\n",
      "\u001b[0;32m~/opt/anaconda3/lib/python3.9/asyncio/base_events.py\u001b[0m in \u001b[0;36m_check_running\u001b[0;34m(self)\u001b[0m\n\u001b[1;32m    576\u001b[0m     \u001b[0;32mdef\u001b[0m \u001b[0m_check_running\u001b[0m\u001b[0;34m(\u001b[0m\u001b[0mself\u001b[0m\u001b[0;34m)\u001b[0m\u001b[0;34m:\u001b[0m\u001b[0;34m\u001b[0m\u001b[0;34m\u001b[0m\u001b[0m\n\u001b[1;32m    577\u001b[0m         \u001b[0;32mif\u001b[0m \u001b[0mself\u001b[0m\u001b[0;34m.\u001b[0m\u001b[0mis_running\u001b[0m\u001b[0;34m(\u001b[0m\u001b[0;34m)\u001b[0m\u001b[0;34m:\u001b[0m\u001b[0;34m\u001b[0m\u001b[0;34m\u001b[0m\u001b[0m\n\u001b[0;32m--> 578\u001b[0;31m             \u001b[0;32mraise\u001b[0m \u001b[0mRuntimeError\u001b[0m\u001b[0;34m(\u001b[0m\u001b[0;34m'This event loop is already running'\u001b[0m\u001b[0;34m)\u001b[0m\u001b[0;34m\u001b[0m\u001b[0;34m\u001b[0m\u001b[0m\n\u001b[0m\u001b[1;32m    579\u001b[0m         \u001b[0;32mif\u001b[0m \u001b[0mevents\u001b[0m\u001b[0;34m.\u001b[0m\u001b[0m_get_running_loop\u001b[0m\u001b[0;34m(\u001b[0m\u001b[0;34m)\u001b[0m \u001b[0;32mis\u001b[0m \u001b[0;32mnot\u001b[0m \u001b[0;32mNone\u001b[0m\u001b[0;34m:\u001b[0m\u001b[0;34m\u001b[0m\u001b[0;34m\u001b[0m\u001b[0m\n\u001b[1;32m    580\u001b[0m             raise RuntimeError(\n",
      "\u001b[0;31mRuntimeError\u001b[0m: This event loop is already running"
     ]
    }
   ],
   "source": [
    "import asyncio\n",
    "import time\n",
    "\n",
    "async def get_symbols(ticker_str: str):\n",
    "    symbol = yf.Ticker(ticker_str).info['totalRevenue']\n",
    "    trl2.append(symbol)\n",
    "    print('Added '+ticker_str)\n",
    "\n",
    "async def poop_fart():\n",
    "    ticker_tasks = []\n",
    "    for ticker in trl:\n",
    "        ticker_tasks.append(get_symbols(ticker))\n",
    "    asyncio.wait(ticker_tasks)\n"
   ]
  },
  {
   "cell_type": "code",
   "execution_count": 22,
   "id": "9a2f4d5f",
   "metadata": {},
   "outputs": [
    {
     "name": "stdout",
     "output_type": "stream",
     "text": [
      "My Main Coroutine\n"
     ]
    },
    {
     "ename": "RuntimeError",
     "evalue": "Cannot close a running event loop",
     "output_type": "error",
     "traceback": [
      "\u001b[0;31m---------------------------------------------------------------------------\u001b[0m",
      "\u001b[0;31mRuntimeError\u001b[0m                              Traceback (most recent call last)",
      "\u001b[0;32m/var/folders/pc/8z2v_wv911q5h3376m3rlnjh0000gn/T/ipykernel_70770/895240217.py\u001b[0m in \u001b[0;36m<module>\u001b[0;34m\u001b[0m\n\u001b[1;32m     12\u001b[0m     \u001b[0;32mawait\u001b[0m \u001b[0mmain\u001b[0m\u001b[0;34m(\u001b[0m\u001b[0;34m)\u001b[0m\u001b[0;34m\u001b[0m\u001b[0;34m\u001b[0m\u001b[0m\n\u001b[1;32m     13\u001b[0m \u001b[0;34m\u001b[0m\u001b[0m\n\u001b[0;32m---> 14\u001b[0;31m \u001b[0mloop\u001b[0m\u001b[0;34m.\u001b[0m\u001b[0mclose\u001b[0m\u001b[0;34m(\u001b[0m\u001b[0;34m)\u001b[0m\u001b[0;34m\u001b[0m\u001b[0;34m\u001b[0m\u001b[0m\n\u001b[0m",
      "\u001b[0;32m~/opt/anaconda3/lib/python3.9/asyncio/unix_events.py\u001b[0m in \u001b[0;36mclose\u001b[0;34m(self)\u001b[0m\n\u001b[1;32m     56\u001b[0m \u001b[0;34m\u001b[0m\u001b[0m\n\u001b[1;32m     57\u001b[0m     \u001b[0;32mdef\u001b[0m \u001b[0mclose\u001b[0m\u001b[0;34m(\u001b[0m\u001b[0mself\u001b[0m\u001b[0;34m)\u001b[0m\u001b[0;34m:\u001b[0m\u001b[0;34m\u001b[0m\u001b[0;34m\u001b[0m\u001b[0m\n\u001b[0;32m---> 58\u001b[0;31m         \u001b[0msuper\u001b[0m\u001b[0;34m(\u001b[0m\u001b[0;34m)\u001b[0m\u001b[0;34m.\u001b[0m\u001b[0mclose\u001b[0m\u001b[0;34m(\u001b[0m\u001b[0;34m)\u001b[0m\u001b[0;34m\u001b[0m\u001b[0;34m\u001b[0m\u001b[0m\n\u001b[0m\u001b[1;32m     59\u001b[0m         \u001b[0;32mif\u001b[0m \u001b[0;32mnot\u001b[0m \u001b[0msys\u001b[0m\u001b[0;34m.\u001b[0m\u001b[0mis_finalizing\u001b[0m\u001b[0;34m(\u001b[0m\u001b[0;34m)\u001b[0m\u001b[0;34m:\u001b[0m\u001b[0;34m\u001b[0m\u001b[0;34m\u001b[0m\u001b[0m\n\u001b[1;32m     60\u001b[0m             \u001b[0;32mfor\u001b[0m \u001b[0msig\u001b[0m \u001b[0;32min\u001b[0m \u001b[0mlist\u001b[0m\u001b[0;34m(\u001b[0m\u001b[0mself\u001b[0m\u001b[0;34m.\u001b[0m\u001b[0m_signal_handlers\u001b[0m\u001b[0;34m)\u001b[0m\u001b[0;34m:\u001b[0m\u001b[0;34m\u001b[0m\u001b[0;34m\u001b[0m\u001b[0m\n",
      "\u001b[0;32m~/opt/anaconda3/lib/python3.9/asyncio/selector_events.py\u001b[0m in \u001b[0;36mclose\u001b[0;34m(self)\u001b[0m\n\u001b[1;32m     87\u001b[0m     \u001b[0;32mdef\u001b[0m \u001b[0mclose\u001b[0m\u001b[0;34m(\u001b[0m\u001b[0mself\u001b[0m\u001b[0;34m)\u001b[0m\u001b[0;34m:\u001b[0m\u001b[0;34m\u001b[0m\u001b[0;34m\u001b[0m\u001b[0m\n\u001b[1;32m     88\u001b[0m         \u001b[0;32mif\u001b[0m \u001b[0mself\u001b[0m\u001b[0;34m.\u001b[0m\u001b[0mis_running\u001b[0m\u001b[0;34m(\u001b[0m\u001b[0;34m)\u001b[0m\u001b[0;34m:\u001b[0m\u001b[0;34m\u001b[0m\u001b[0;34m\u001b[0m\u001b[0m\n\u001b[0;32m---> 89\u001b[0;31m             \u001b[0;32mraise\u001b[0m \u001b[0mRuntimeError\u001b[0m\u001b[0;34m(\u001b[0m\u001b[0;34m\"Cannot close a running event loop\"\u001b[0m\u001b[0;34m)\u001b[0m\u001b[0;34m\u001b[0m\u001b[0;34m\u001b[0m\u001b[0m\n\u001b[0m\u001b[1;32m     90\u001b[0m         \u001b[0;32mif\u001b[0m \u001b[0mself\u001b[0m\u001b[0;34m.\u001b[0m\u001b[0mis_closed\u001b[0m\u001b[0;34m(\u001b[0m\u001b[0;34m)\u001b[0m\u001b[0;34m:\u001b[0m\u001b[0;34m\u001b[0m\u001b[0;34m\u001b[0m\u001b[0m\n\u001b[1;32m     91\u001b[0m             \u001b[0;32mreturn\u001b[0m\u001b[0;34m\u001b[0m\u001b[0;34m\u001b[0m\u001b[0m\n",
      "\u001b[0;31mRuntimeError\u001b[0m: Cannot close a running event loop"
     ]
    }
   ],
   "source": [
    "import asyncio\n",
    "import time\n",
    "\n",
    "async def main():\n",
    "    print(\"My Main Coroutine\")\n",
    "\n",
    "loop = asyncio.get_event_loop()\n",
    "\n",
    "if loop.is_running() == False:\n",
    "    asyncio.run(main())\n",
    "else:\n",
    "    await main()\n"
   ]
  },
  {
   "cell_type": "code",
   "execution_count": null,
   "id": "33833930",
   "metadata": {},
   "outputs": [],
   "source": [
    "import asyncio\n",
    "import aiohttp\n",
    "import time\n",
    "\n",
    "def get_tasks(session):\n",
    "    tasks = []\n",
    "    for ticker in trl:\n",
    "        tasks.append(OHLC.fetch(symbol=ticker))\n",
    "        trl2.append(ticker)\n",
    "        print('Added '+ ticker)\n",
    "    return tasks\n",
    "        \n",
    "\n",
    "async def get_symbols():\n",
    "    async with aiohttp.ClientSession() as session:\n",
    "        tasks = get_tasks(session)\n",
    "        responses = await asyncio.gather(*tasks)\n",
    "        for response in responses:\n",
    "            print(response)\n",
    "\n",
    "loop = asyncio.get_event_loop()\n",
    "if loop.is_running() == False:\n",
    "    asyncio.run(get_symbols())\n",
    "else:\n",
    "    await get_symbols()\n",
    "\n",
    "print(trl2)"
   ]
  },
  {
   "cell_type": "code",
   "execution_count": null,
   "id": "9ef564a5",
   "metadata": {},
   "outputs": [],
   "source": [
    "import requests_cache\n",
    "\n",
    "trl2 = []\n",
    "\n",
    "session = requests_cache.CachedSession('yfinance.cache')\n",
    "session.headers['User-agent'] = 'my-program/1.0'\n",
    "ticker = yf.Ticker('MSFT', session=session)\n",
    "# The scraped response will be stored in the cache\n",
    "ticker.actions\n",
    "\n",
    "for ticker in trl:\n",
    "        rev = yf.Ticker(ticker, session=session).info['totalRevenue']\n",
    "        trl2.append(rev)\n",
    "        print('Added '+ticker)\n",
    "\n",
    "print(trl2)"
   ]
  },
  {
   "cell_type": "code",
   "execution_count": null,
   "id": "00dd838f",
   "metadata": {},
   "outputs": [],
   "source": [
    "print(trl2)"
   ]
  },
  {
   "cell_type": "code",
   "execution_count": null,
   "id": "5e930400",
   "metadata": {},
   "outputs": [],
   "source": [
    "import asyncio\n",
    "import aiohttp\n",
    "import time\n",
    "\n",
    "async def main():\n",
    "    for symbol in trl:\n",
    "        r3v = await trl2.append(yf.Ticker(symbol).info['totalRevenue'])\n",
    "        print(r3v)\n",
    "\n",
    "loop = asyncio.get_event_loop()\n",
    "\n",
    "if loop.is_running() == False:\n",
    "    asyncio.run(main())\n",
    "else:\n",
    "    await main()\n",
    "\n",
    "\n",
    "\n",
    "\n",
    "print(trl2)"
   ]
  },
  {
   "cell_type": "code",
   "execution_count": null,
   "id": "b309a9e2",
   "metadata": {},
   "outputs": [],
   "source": [
    "\n",
    "\n",
    "    \n",
    "print(trl2)"
   ]
  },
  {
   "cell_type": "code",
   "execution_count": null,
   "id": "2ca1606e",
   "metadata": {},
   "outputs": [],
   "source": []
  },
  {
   "cell_type": "code",
   "execution_count": null,
   "id": "ca18ece6",
   "metadata": {},
   "outputs": [],
   "source": []
  },
  {
   "cell_type": "code",
   "execution_count": null,
   "id": "69c87ae3",
   "metadata": {},
   "outputs": [],
   "source": [
    "import asyncio\n",
    "from unittest import result\n",
    "\n",
    "from yahoo_finance_async import OHLC\n",
    "\n",
    "list123 = []\n",
    "\n",
    "async def main():\n",
    "    result = await OHLC.fetch(symbol='AAPL')\n",
    "    list123.append(result)\n",
    "    # Do something with the result\n",
    "\n",
    "asyncio.run(main())\n",
    "\n",
    "print(list123)"
   ]
  },
  {
   "cell_type": "code",
   "execution_count": null,
   "id": "b899c8f9",
   "metadata": {},
   "outputs": [],
   "source": []
  },
  {
   "cell_type": "code",
   "execution_count": null,
   "id": "ff7e90ea",
   "metadata": {},
   "outputs": [],
   "source": []
  },
  {
   "cell_type": "code",
   "execution_count": null,
   "id": "e103de3d",
   "metadata": {},
   "outputs": [],
   "source": [
    "from concurrent.futures import ThreadPoolExecutor\n",
    "import yfinance as yf\n",
    "from pprint import pprint\n",
    "from time import monotonic\n",
    "\n",
    "listy1 = []\n",
    "\n",
    "def get_stocks_data(name: str) -> dict:\n",
    "    \"\"\"some random function which extract some data\"\"\"\n",
    "    tick = yf.Ticker(name)\n",
    "    revenue = tick.info['totalRevenue']\n",
    "    return revenue\n",
    "\n",
    "\n",
    "if __name__ == '__main__':\n",
    "    # some random stocks\n",
    "    stocks = tickerRegList\n",
    "    start_time = monotonic()\n",
    "    # you can choose max_workers number higher and check if app works faster\n",
    "    # e.g choose 16 as max number of workers\n",
    "    with ThreadPoolExecutor(max_workers=4) as pool:\n",
    "        results = pool.map(get_stocks_data, stocks)\n",
    "    for r in results:\n",
    "        listy1.append(r)\n",
    "    print(\"*\" * 150)\n",
    "    print(len(listy1))\n",
    "    print(monotonic() - start_time)"
   ]
  },
  {
   "cell_type": "code",
   "execution_count": null,
   "id": "0ff40561",
   "metadata": {},
   "outputs": [],
   "source": []
  },
  {
   "cell_type": "code",
   "execution_count": null,
   "id": "b51fa5c8",
   "metadata": {},
   "outputs": [],
   "source": []
  },
  {
   "cell_type": "code",
   "execution_count": null,
   "id": "b6d2e6be",
   "metadata": {},
   "outputs": [],
   "source": []
  },
  {
   "cell_type": "code",
   "execution_count": null,
   "id": "f4ec64f6",
   "metadata": {},
   "outputs": [],
   "source": []
  },
  {
   "cell_type": "code",
   "execution_count": null,
   "id": "20382728",
   "metadata": {},
   "outputs": [],
   "source": []
  },
  {
   "cell_type": "code",
   "execution_count": null,
   "id": "02fbcfc4",
   "metadata": {},
   "outputs": [],
   "source": [
    "import aiohttp\n",
    "import asyncio\n",
    "\n",
    "tickerRegListTest = tickerRegList[:3]\n",
    "\n",
    "async def main():\n",
    "    async with aiohttp.ClientSession as session:\n",
    "        tasks = []\n",
    "        for ticker in tickerRegListTest:\n",
    "            task = asyncio.ensure_future(get_ticker_data(ticker))\n",
    "            tasks.append(task)\n",
    "        myNewList = await asyncio.gather(*tasks)\n",
    "    print (myNewList)\n",
    "\n",
    "async def get_ticker_data(ticker):\n",
    "    symbol = yf.Ticker(ticker).info['totalRevenue']\n",
    "    async with session.get(symbol) as response:\n",
    "        result_data = response.json()\n",
    "        return result_data\n",
    "\n",
    "\n",
    "loop = asyncio.get_event_loop()\n",
    "\n",
    "if loop.is_running() == False:\n",
    "    asyncio.run(main())\n",
    "else:\n",
    "    await main()\n"
   ]
  },
  {
   "cell_type": "code",
   "execution_count": null,
   "id": "8e78a8eb",
   "metadata": {},
   "outputs": [],
   "source": []
  },
  {
   "cell_type": "code",
   "execution_count": null,
   "id": "6816cb2c",
   "metadata": {},
   "outputs": [],
   "source": [
    "trl = tickerRegList[:4]\n",
    "trl2 = []\n",
    "print(trl)\n",
    "for symbol in trl:\n",
    "    trl2.append(yf.Ticker(symbol).info['totalRevenue'])\n",
    "    print('done')\n",
    "print(trl2)\n"
   ]
  },
  {
   "cell_type": "code",
   "execution_count": null,
   "id": "6956ff6e",
   "metadata": {},
   "outputs": [],
   "source": [
    "import aiohttp\n",
    "import asyncio\n",
    "\n",
    "results = []\n",
    "\n",
    "lisht = ['nick', 'nick2', 'nick3']\n",
    "\n",
    "def get_tasks(session):\n",
    "    tasks = []\n",
    "    for name in lisht:\n",
    "        tasks.append(name)\n",
    "    return tasks\n",
    "\n",
    "async def main():\n",
    "    async with aiohttp.ClientSession() as session:\n",
    "        tasks = get_tasks(session)\n",
    "        responses = await asyncio.gather(*tasks)\n",
    "        for response in responses:\n",
    "            results.append(await response.json())\n",
    "\n",
    "loop = asyncio.get_event_loop()\n",
    "\n",
    "if loop.is_running() == False:\n",
    "    asyncio.run(main())\n",
    "else:\n",
    "    await main()\n"
   ]
  },
  {
   "cell_type": "code",
   "execution_count": null,
   "id": "4a6904c3",
   "metadata": {},
   "outputs": [],
   "source": []
  },
  {
   "cell_type": "code",
   "execution_count": null,
   "id": "efd047de",
   "metadata": {},
   "outputs": [],
   "source": [
    "import aiohttp\n",
    "import asyncio\n",
    "\n",
    "results = []\n",
    "\n",
    "def get_tasks(session):\n",
    "    tasks = []\n",
    "    for symbol in trl:\n",
    "        tasks.append(yf.Ticker(symbol).info['totalRevenue'])\n",
    "    return tasks\n",
    "\n",
    "async def main():\n",
    "    async with aiohttp.ClientSession() as session:\n",
    "        tasks = get_tasks(session)\n",
    "        responses = await asyncio.gather(*tasks)\n",
    "        for response in responses:\n",
    "            results.append(await response.json())\n",
    "\n",
    "asyncio.run(main())"
   ]
  },
  {
   "cell_type": "code",
   "execution_count": null,
   "id": "31509cc9",
   "metadata": {},
   "outputs": [],
   "source": [
    "import aiohttp\n",
    "import asyncio\n",
    "\n",
    "results = []\n",
    "\n",
    "\n",
    "async def get_tasks(session):\n",
    "    tasks = []\n",
    "    for symbol in trl:\n",
    "        tasks.append(yf.Ticker(symbol).info['totalRevenue'])\n",
    "    return tasks\n",
    "\n",
    "\n",
    "async def main():\n",
    "    async with aiohttp.ClientSession() as session:\n",
    "        tasks = get_tasks(session)\n",
    "        responses = await asyncio.gather(*tasks)\n",
    "        for response in responses:\n",
    "            results.append(await response)\n",
    "\n",
    "\n",
    "asyncio.run(main())\n"
   ]
  },
  {
   "cell_type": "code",
   "execution_count": null,
   "id": "56bfbd5f-779f-4439-b297-b59a3eb9d156",
   "metadata": {},
   "outputs": [],
   "source": [
    "newList = []\n",
    "\n",
    "for stonk in tickerRegList:\n",
    "    ticka = yf.Ticker(stonk)\n",
    "    dataPt = ticka.info['totalRevenue']\n",
    "    if not isinstance(dataPt,int):\n",
    "        newList.append(0)\n",
    "    else:\n",
    "        newList.append(dataPt)\n",
    "    \n",
    "print(newList)"
   ]
  },
  {
   "cell_type": "code",
   "execution_count": null,
   "id": "57e1e488-6aee-4abd-9d56-0720528f303f",
   "metadata": {},
   "outputs": [],
   "source": [
    "import aiohttp\n",
    "import asyncio"
   ]
  },
  {
   "cell_type": "code",
   "execution_count": null,
   "id": "f9de74ee-bd8d-4403-b8cd-439c14d121ce",
   "metadata": {},
   "outputs": [],
   "source": [
    "newList = []\n",
    "\n",
    "async def get_revenues():\n",
    "    async with aiohttp.ClientSession as session:\n",
    "        for stonk in tickerRegList:\n",
    "            ticka = yf.Ticker(stonk)\n",
    "            dataPt = ticka.info['totalRevenue']\n",
    "            if not isinstance(dataPt,int):\n",
    "                newList.append(0)\n",
    "            else:\n",
    "                newList.append(dataPt)\n",
    "            \n",
    "#get_revenues()\n",
    "\n",
    "#loop= asyncio.get_event_loop()\n",
    "#loop.run_until_complete(get_revenues)\n",
    "#loop.close()\n",
    "\n",
    "asyncio.run(get_revenues)\n",
    "\n",
    "\n",
    "print(newList)"
   ]
  },
  {
   "cell_type": "code",
   "execution_count": null,
   "id": "0faad0a4-53e5-4fc6-84d6-f5a53bf14d9d",
   "metadata": {},
   "outputs": [],
   "source": [
    "newList = []\n",
    "     \n",
    "#get_revenues()\n",
    "\n",
    "#loop= asyncio.get_event_loop()\n",
    "#loop.run_until_complete(get_revenues)\n",
    "#loop.close()\n",
    "\n",
    "async def add_tickers_to_list(tickerRegListDef):\n",
    "    async with aiohttp.ClientSession() as session:\n",
    "        try:\n",
    "            for ticker in tickerRegListDef:\n",
    "                if ticker not in tickerRegList:\n",
    "                    tickerRegList.append(ticker)\n",
    "                else: continue\n",
    "        except:\n",
    "            pass\n",
    "\n",
    "async def get_tickers_from_page(page):\n",
    "    async with aiohttp.ClientSession() as session:\n",
    "        reqdef1 = await session('https://finviz.com/screener.ashx?f=ind_'+sector2+'&r='+page, headers={'User-Agent': 'Mozilla/5.0'}, ssl=False)\n",
    "        urlsite = urlopen(reqdef1).read().decode('utf-8')\n",
    "        tickerRegListDef = re.findall('(?<=class=\"screener-link-primary\">).*?(?=</a>)',urlsite, re.DOTALL)\n",
    "        return add_tickers_to_list(tickerRegListDef)\n",
    "\n",
    "\n",
    "async def get_tickers():\n",
    "    async with aiohttp.ClientSession() as session:\n",
    "        for page in rlist:\n",
    "            await get_tickers_from_page(page)\n",
    "    \n",
    "async def get_revenues():\n",
    "    async with aiohttp.ClientSession() as session:\n",
    "        for stonk in tickerRegList:\n",
    "            ticka = await yf.Ticker(stonk)\n",
    "            dataPt = await ticka.info['totalRevenue']\n",
    "            if not isinstance(dataPt,int):\n",
    "                await newList.append(0)\n",
    "            else:\n",
    "                await newList.append(dataPt)\n",
    "\n",
    "asyncio.run(get_revenues)\n",
    "\n",
    "print(newList)"
   ]
  },
  {
   "cell_type": "code",
   "execution_count": null,
   "id": "4e56be51-3850-42ad-900f-8fc2b504f8ee",
   "metadata": {},
   "outputs": [],
   "source": [
    "def add_tickers_to_list(tickerRegListDef):\n",
    "    try:\n",
    "        for ticker in tickerRegListDef:\n",
    "            if ticker not in tickerRegList:\n",
    "                tickerRegList.append(ticker)\n",
    "            else: continue\n",
    "    except:\n",
    "        pass\n",
    "\n",
    "def get_tickers_from_page(page):\n",
    "    \n",
    "    reqdef1 = Request('https://finviz.com/screener.ashx?f=ind_'+sector2+'&r='+page, headers={'User-Agent': 'Mozilla/5.0'})\n",
    "    urlsite = urlopen(reqdef1).read().decode('utf-8')\n",
    "    tickerRegListDef = re.findall('(?<=class=\"screener-link-primary\">).*?(?=</a>)',urlsite, re.DOTALL)\n",
    "    return add_tickers_to_list(tickerRegListDef)\n",
    "\n",
    "for page in rlist:\n",
    "    get_tickers_from_page(page)\n",
    "    \n",
    "print(tickerRegList)\n",
    "\n",
    "print('count',len(tickerRegList))\n"
   ]
  },
  {
   "cell_type": "code",
   "execution_count": null,
   "id": "d9d946bd-8e33-44b0-a5cd-a0947efa7326",
   "metadata": {},
   "outputs": [],
   "source": [
    "newList = []\n",
    "\n",
    "async def (main):\n",
    "    async with aiohttp.ClientSession() as session:\n",
    "        tasks = []\n",
    "        for ticka in tickerRegList:\n",
    "            task = asyncio.ensure_future(get_ticka_data(session, ticka))\n",
    "            tasks.append(task)\n",
    "            \n",
    "        viewcounts = await asyncio.gather(*tasks)\n",
    "        \n",
    "        print('data:',viewcounts)\n",
    "            \n",
    "async def get_ticka_data(session, ticka):\n",
    "    url = ('https://finviz.com/screener.ashx?f=ind_'+sector2+'&r='+page, headers={'User-Agent': 'Mozilla/5.0'})\n",
    "    \n",
    "    async with session.get(url) as response:\n",
    "        result_data = await response.json()\n",
    "        urlsite = urlopen(reqdef1).read().decode('utf-8')\n",
    "        tickerRegListDef = re.findall('(?<=class=\"screener-link-primary\">).*?(?=</a>)',urlsite, re.DOTALL)\n",
    "        return add_tickers_to_list(tickerRegListDef)\n",
    "    \n",
    "asyncio.run(main())"
   ]
  },
  {
   "cell_type": "code",
   "execution_count": null,
   "id": "5645c1ce-80b9-4e24-9ac0-7f91bb7d2abd",
   "metadata": {},
   "outputs": [],
   "source": [
    "newList = []\n",
    "\n",
    "async def (main):\n",
    "    async with aiohttp.ClientSession() as session:\n",
    "        tasks = []\n",
    "        for ticka in tickerRegList:\n",
    "            task = asyncio.ensure_future(get_ticka_data(session, ticka))\n",
    "            tasks.append(task)\n",
    "            \n",
    "        viewcounts = await asyncio.gather(*tasks)\n",
    "        \n",
    "        print('data:',viewcounts)\n",
    "            \n",
    "async def get_ticka_data(session, ticka):\n",
    "    url = f''\n",
    "    \n",
    "    async with session.get(url) as response:\n",
    "        result_data = await response.json()\n",
    "        results = result_data['items']\n",
    "        viewCount = results[0]['statistics']['viewCount']\n",
    "        return int(viewCount)\n",
    "    \n",
    "asyncio.run(main())"
   ]
  },
  {
   "cell_type": "code",
   "execution_count": null,
   "id": "b84c9f4d-52b2-44b4-9a1f-d82a7c82a427",
   "metadata": {},
   "outputs": [],
   "source": [
    "https://finviz.com/screener.ashx?v=111&f=ind_biotechnology\n",
    "https://finviz.com/screener.ashx?v=151&f=ind_biotechnology\n",
    "https://finviz.com/screener.ashx?v=152&f=ind_biotechnology&o=-marketcap&c=0,1,6,10"
   ]
  },
  {
   "cell_type": "code",
   "execution_count": null,
   "id": "9fed2566-8c9c-4da3-9266-9dfb908f087b",
   "metadata": {},
   "outputs": [],
   "source": [
    "avgRevIndList = []\n",
    "\n",
    "for ticka in tickerRegList:\n",
    "    stock1 = yf.Ticker(ticka)\n",
    "    dataPoint = stock1.info['totalRevenue']\n",
    "    avgRevIndList.append(dataPoint)\n",
    "    \n",
    "print(avgRevIndList)"
   ]
  },
  {
   "cell_type": "code",
   "execution_count": null,
   "id": "713e0462-8c96-4c66-894e-10c78a4d6283",
   "metadata": {},
   "outputs": [],
   "source": [
    "newList = []\n",
    "stonk = yf.Ticker(tickerRegList[0])\n",
    "dataPt = stonk.info['totalRevenue']\n",
    "print(dataPt)\n",
    "type(dataPt)\n",
    "newList.append(dataPt)\n",
    "print(newList)"
   ]
  },
  {
   "cell_type": "code",
   "execution_count": null,
   "id": "94a1d33b-9548-4a0e-8edc-61d617c0fb92",
   "metadata": {},
   "outputs": [],
   "source": [
    "for tickerReg in tickerRegList:\n",
    "    revenueReg = float(yf.Ticker(tickerReg).info['totalRevenue'])\n",
    "    avgRevReg.append(revenueReg)\n",
    "\n",
    "print('revlist',avgRevReg)\n",
    "\n",
    "avgRev = statistics.mean(avgRevReg)\n",
    "\n",
    "print('avgRev',avgRev)"
   ]
  },
  {
   "cell_type": "code",
   "execution_count": null,
   "id": "2a96cd1a-aea6-48df-aecf-c1ae1a73f289",
   "metadata": {},
   "outputs": [],
   "source": []
  },
  {
   "cell_type": "code",
   "execution_count": null,
   "id": "5144ad3e-a873-426d-b019-7a4d66c8d2e3",
   "metadata": {},
   "outputs": [],
   "source": [
    "``"
   ]
  },
  {
   "cell_type": "code",
   "execution_count": null,
   "id": "f239d315-6da2-44f5-a041-580058d64477",
   "metadata": {},
   "outputs": [],
   "source": [
    "def get_mktCap_from_page(page):\n",
    "    reqdef1 = Request('https://finviz.com/screener.ashx?f=ind_'+sector2+'&r='+page, headers={'User-Agent': 'Mozilla/5.0'})\n",
    "    urlsite = urlopen(reqdef1).read().decode('utf-8')\n",
    "    tickerRegListDef = re.findall('(?<=class=\"screener-link-primary\">).*?(?=</a>)',urlsite, re.DOTALL)\n",
    "    return add_tickers_to_list(tickerRegListDef)"
   ]
  },
  {
   "cell_type": "code",
   "execution_count": null,
   "id": "27ed928f-8596-4bd2-8af7-65622fd0e460",
   "metadata": {},
   "outputs": [],
   "source": []
  },
  {
   "cell_type": "code",
   "execution_count": null,
   "id": "0a29b897-0299-4d92-b3a8-e21b5e873fcf",
   "metadata": {},
   "outputs": [],
   "source": []
  },
  {
   "cell_type": "code",
   "execution_count": null,
   "id": "54dfdee5-a591-4b23-b7b3-016c1eb80b73",
   "metadata": {},
   "outputs": [],
   "source": [
    "print('HI')"
   ]
  },
  {
   "cell_type": "code",
   "execution_count": null,
   "id": "02f39c97-f466-42ee-91ed-515099642cac",
   "metadata": {},
   "outputs": [],
   "source": [
    "print('by')"
   ]
  },
  {
   "cell_type": "code",
   "execution_count": null,
   "id": "bc447bb2-cdf6-46a5-8db5-f87f41bb74fe",
   "metadata": {},
   "outputs": [],
   "source": []
  },
  {
   "cell_type": "code",
   "execution_count": null,
   "id": "78492657-776c-4809-9c6f-6a23e98a0706",
   "metadata": {},
   "outputs": [],
   "source": []
  },
  {
   "cell_type": "code",
   "execution_count": null,
   "id": "e830ed6d-8c50-414d-a842-711dbd553fa5",
   "metadata": {},
   "outputs": [],
   "source": []
  },
  {
   "cell_type": "code",
   "execution_count": null,
   "id": "3dc5a3a1-1527-4823-a23f-02bae564ef8b",
   "metadata": {},
   "outputs": [],
   "source": []
  },
  {
   "cell_type": "code",
   "execution_count": null,
   "id": "99d0b5b4-88d6-4d84-84e4-19f5f16ec934",
   "metadata": {},
   "outputs": [],
   "source": []
  },
  {
   "cell_type": "code",
   "execution_count": null,
   "id": "58c57048-7c84-4b18-9a28-83d469122892",
   "metadata": {},
   "outputs": [],
   "source": []
  },
  {
   "cell_type": "code",
   "execution_count": null,
   "id": "c95183bb-7113-4b50-87bf-94889910e3d8",
   "metadata": {},
   "outputs": [],
   "source": []
  },
  {
   "cell_type": "code",
   "execution_count": null,
   "id": "220be4bc-f88b-47f7-ae4b-2ec0c9f87bab",
   "metadata": {},
   "outputs": [],
   "source": [
    "rlist = [\n",
    "            '21','41','61','81','101','121','141','161','181','201','221','241','261','281','301','321','341','361','381','401','421','441','461','481','501','521','541','561','581','601','621','641','661','681','701','721','741','761','781'\n",
    "        ]\n",
    "\n",
    "def add_tickers_to_list(tickerRegListDef):\n",
    "    try:\n",
    "        for ticker in tickerRegListDef:\n",
    "            if ticker not in tickerRegList:\n",
    "                tickerRegList.append(ticker)\n",
    "            else: continue\n",
    "    except:\n",
    "        pass\n",
    "\n",
    "def get_tickers_from_page(page):\n",
    "    reqdef1 = Request('https://finviz.com/screener.ashx?f=ind_'+sector2+'&r='+page, headers={'User-Agent': 'Mozilla/5.0'})\n",
    "    urlsite = urlopen(reqdef1).read().decode('utf-8')\n",
    "    tickerRegListDef = re.findall('(?<=class=\"screener-link-primary\">).*?(?=</a>)',urlsite, re.DOTALL)\n",
    "    return add_tickers_to_list(tickerRegListDef)\n",
    "\n",
    "for page in rlist:\n",
    "    get_tickers_from_page(page)\n",
    "    \n",
    "print(tickerRegList)\n",
    "\n",
    "print(len(tickerRegList))"
   ]
  },
  {
   "cell_type": "code",
   "execution_count": null,
   "id": "f438fec1-6941-401f-bf2c-b37743d6f0e0",
   "metadata": {},
   "outputs": [],
   "source": [
    "avgRevReg = []\n",
    "\n",
    "req5 = Request('https://finviz.com/screener.ashx?f=ind_'+sector2+'&r=21', headers={'User-Agent': 'Mozilla/5.0'})\n",
    "webpage5 = urlopen(req5).read().decode('utf-8')\n",
    "tickerRegList2 = re.findall('(?<=class=\"screener-link-primary\">).*?(?=</a>)',webpage5, re.DOTALL)\n",
    "    \n",
    "try:\n",
    "    for ticker in tickerRegList2:\n",
    "        if ticker not in tickerRegList:\n",
    "            tickerRegList.append(ticker)\n",
    "        else: continue\n",
    "except:\n",
    "    pass\n",
    "\n",
    "print('tickerRegList', tickerRegList)"
   ]
  },
  {
   "cell_type": "code",
   "execution_count": null,
   "id": "84f61b5e-db08-41ae-883c-404cf351ba78",
   "metadata": {},
   "outputs": [],
   "source": [
    "stock.info['revenueGrowth']"
   ]
  },
  {
   "cell_type": "code",
   "execution_count": null,
   "id": "b6d6a6fc-5227-45e0-84d4-164a48e8f4dc",
   "metadata": {},
   "outputs": [],
   "source": [
    "from urllib.request import Request, urlopen\n",
    "import re\n",
    "\n",
    "req = Request('https://finviz.com/quote.ashx?t=AAPL', headers={'User-Agent': 'Mozilla/5.0'})\n",
    "webpage = urlopen(req).read().decode('utf-8')\n",
    "content = re.findall('(?<=class=\"tab-link\").*?(?=</a>)',webpage, re.DOTALL)\n",
    "sector = content[2]\n",
    "sector = sector[1:]\n",
    "sector = sector.strip()\n",
    "print(sector)\n",
    "\n",
    "text = 'AAPL'\n",
    "stock = yf.Ticker(text)\n",
    "mktCap = stock.info['marketCap']\n",
    "\n",
    "#################################IMPORTED#############################################################\n",
    "\n",
    "\n",
    "req2 = Request('https://finviz.com/groups.ashx?g=industry&v=120&o=name', headers={'User-Agent': 'Mozilla/5.0'})\n",
    "webpage2 = urlopen(req2).read().decode('utf-8')\n",
    "indSize = re.findall('(?<='+sector+').*?(?=class=\"body-table\")(.*?)(?=</td>)',webpage2, re.DOTALL)\n",
    "indSize = re.findall('[0-9.]+.',str(indSize))\n",
    "indSize = re.sub(r\"\\['(.*)'\\]\",r\"\\1\" , str(indSize))\n",
    "#gets the industry market cap for display\n",
    "\n",
    "indSizeFloat = float(indSize[:-1])*1000000000\n",
    "#gets the industry market cap as a float\n",
    "\n",
    "sector2 = sector.lower()\n",
    "sector2 = sector2.replace(\" \",\"\")\n",
    "req3 = Request('https://finviz.com/screener.ashx?f=ind_'+sector2+'&v=121', headers={'User-Agent': 'Mozilla/5.0'})\n",
    "webpage3 = urlopen(req3).read().decode('utf-8')\n",
    "sectorCount = re.findall('(?<=<b>Total: </b>).*?(?=#)',webpage3, re.DOTALL)\n",
    "sectorCount = re.findall('[0-9.]+.',str(sectorCount))\n",
    "sectorCount = re.sub(r\"\\['(.*)'\\]\",r\"\\1\" , str(sectorCount))\n",
    "sectorCount = float(sectorCount)\n",
    "#counts how many companies are listed in that sector\n",
    "\n",
    "avgCapFloat = indSizeFloat / sectorCount\n",
    "#gets the average industry market cap float\n",
    "\n",
    "avgCapInt = re.findall('([0-9].*)\\.',str(avgCapFloat))\n",
    "#gets rid of the decimal place numbers\n",
    "\n",
    "avgCap = re.sub(r\"\\['(.*)'\\]\",r\"\\1\" , str(avgCapInt))\n",
    "#gets rid of ['']\n",
    "\n",
    "if len(str(avgCap)) == 15:\n",
    "    avgCap = str(str(round(float(avgCap),-9))[:3])+'.'+str(str(round(float(avgCap),-9))[3:5]+'T')\n",
    "if len(str(avgCap)) == 14:\n",
    "    avgCap = str(str(round(float(avgCap),-9))[:2])+'.'+str(str(round(float(avgCap),-9))[2:4]+'T')\n",
    "if len(str(avgCap)) == 13:\n",
    "    avgCap = str(str(round(float(avgCap),-9))[:1])+'.'+str(str(round(float(avgCap),-9))[1:3]+'T')\n",
    "elif len(str(avgCap)) == 12:\n",
    "    avgCap = str(str(round(float(avgCap),-7))[:3])+'.'+str(str(round(float(avgCap),-7))[3:5]+'B')\n",
    "elif len(str(avgCap)) == 11:\n",
    "    avgCap = str(str(round(float(avgCap),-7))[:2])+'.'+str(str(round(float(avgCap),-7))[2:4]+'B')\n",
    "elif len(str(avgCap)) == 10:\n",
    "    avgCap = str(str(round(float(avgCap),-7))[:1])+'.'+str(str(round(float(avgCap),-7))[1:3]+'B')\n",
    "elif len(str(avgCap)) == 9:\n",
    "    avgCap = str(str(round(float(avgCap),-4))[:3])+'.'+str(str(round(float(avgCap),-4))[3:5]+'M')\n",
    "elif len(str(avgCap)) == 8:\n",
    "    avgCap = str(str(round(float(avgCap),-4))[:2])+'.'+str(str(round(float(avgCap),-4))[2:4]+'M')\n",
    "elif len(str(avgCap)) == 7:\n",
    "    avgCap = str(str(round(float(avgCap),-4))[:1])+'.'+str(str(round(float(avgCap),-4))[1:3]+'M')\n",
    "elif len(str(avgCap)) < 7:\n",
    "    avgCap = (format(int(avgCap), ',d'))\n",
    "#formats short number mil bil tril for industry average market cap\n",
    "\n",
    "mktCapFloat = float(mktCap)\n",
    "#market cap float\n",
    "\n",
    "mktShareFloat = mktCapFloat / indSizeFloat\n",
    "#market share float\n",
    "\n",
    "if len(indSize) >= 8:\n",
    "    indSize = str(str(round(indSizeFloat,-10))[:1]+'.'+str(round(indSizeFloat,-10))[1:3]+'T')\n",
    "elif len(indSize) < 8:\n",
    "    indSize=indSize\n",
    "#fixes trillions\n",
    "\n",
    "mktSharePct = re.findall('[0-9].+',str(mktShareFloat))\n",
    "mktSharePct = re.sub(r\"\\['(.*)'\\]\",r\"\\1\" , str(mktSharePct))\n",
    "mktSharePct = round(float(mktSharePct),5)\n",
    "mktSharePct = str(mktSharePct)\n",
    "mktSharePct = ( mktSharePct[2:4] + '.' + mktSharePct[4:6] + '%' )\n",
    "#for display\n",
    "\n",
    "\n",
    "##############################IMPORTED####################\n",
    "\n",
    "\n"
   ]
  },
  {
   "cell_type": "code",
   "execution_count": null,
   "id": "e6d399d6-ace0-4e18-ab2d-e7206804a43d",
   "metadata": {},
   "outputs": [],
   "source": []
  },
  {
   "cell_type": "code",
   "execution_count": null,
   "id": "27517920-46af-4324-9f7b-8b93aa7a0d23",
   "metadata": {},
   "outputs": [],
   "source": [
    "if len(indSize) >= 8:\n",
    "    indSize = str(str(round(indSizeFloat,-10))[:1]+'.'+str(round(indSizeFloat,-10))[1:3]+'T')\n",
    "elif len(indSize) < 8:\n",
    "    indSize=indSize\n",
    "print(indSize)"
   ]
  },
  {
   "cell_type": "code",
   "execution_count": null,
   "id": "05398b50-dd56-4525-a598-1859c1836523",
   "metadata": {},
   "outputs": [],
   "source": [
    "mktSharePct = re.findall('[0-9].+',str(mktShareFloat))\n",
    "mktSharePct = re.sub(r\"\\['(.*)'\\]\",r\"\\1\" , str(mktSharePct))\n",
    "mktSharePct = round(float(mktSharePct),5)\n",
    "mktSharePct = str(mktSharePct)\n",
    "mktSharePct = ( mktSharePct[2:4] + '.' + mktSharePct[4:6] + '%' )\n",
    "print('mktSharePct',mktSharePct)"
   ]
  },
  {
   "cell_type": "code",
   "execution_count": null,
   "id": "473f21d9-9b02-42ba-a644-7d46b57a9ce7",
   "metadata": {},
   "outputs": [],
   "source": [
    "if len(str(avgCap)) == 8:\n",
    "    avgCap = str(str(round(float(avgCap),-4))[:2])+'.'+str(str(round(float(avgCap),-4))[2:4]+'T')"
   ]
  },
  {
   "cell_type": "code",
   "execution_count": null,
   "id": "da7f05df-39d7-4e2d-8aa0-84a98ac56832",
   "metadata": {},
   "outputs": [],
   "source": [
    "\n",
    "mktCapFloat = float(mktCap)\n",
    "mktShare = mktCapFloat / indSizeFloat\n",
    "print(mktShare)"
   ]
  },
  {
   "cell_type": "code",
   "execution_count": null,
   "id": "e5377468-258a-40bc-8750-65875bf484fc",
   "metadata": {},
   "outputs": [],
   "source": [
    "avgCapInt = re.findall('([0-9].*)\\.',str(avgCapFloat))\n",
    "#gets rid of the decimal place numbers\n",
    "\n",
    "avgCap = re.sub(r\"\\['(.*)'\\]\",r\"\\1\" , str(avgCapInt))\n",
    "#gets rid of ['']\n",
    "\n",
    "if len(str(avgCap)) == 15:\n",
    "    avgCap = str(str(round(float(avgCap),-9))[:3])+'.'+str(str(round(float(avgCap),-9))[3:5]+'T')\n",
    "if len(str(avgCap)) == 14:\n",
    "    avgCap = str(str(round(float(avgCap),-9))[:2])+'.'+str(str(round(float(avgCap),-9))[2:4]+'T')\n",
    "if len(str(avgCap)) == 13:\n",
    "    avgCap = str(str(round(float(avgCap),-9))[:1])+'.'+str(str(round(float(avgCap),-9))[1:3]+'T')\n",
    "elif len(str(avgCap)) == 12:\n",
    "    avgCap = str(str(round(float(avgCap),-7))[:3])+'.'+str(str(round(float(avgCap),-7))[3:5]+'B')\n",
    "elif len(str(avgCap)) == 11:\n",
    "    avgCap = str(str(round(float(avgCap),-7))[:2])+'.'+str(str(round(float(avgCap),-7))[2:4]+'B')\n",
    "elif len(str(avgCap)) == 10:\n",
    "    avgCap = str(str(round(float(avgCap),-7))[:1])+'.'+str(str(round(float(avgCap),-7))[1:3]+'B')\n",
    "elif len(str(avgCap)) == 9:\n",
    "    avgCap = str(str(round(float(avgCap),-4))[:3])+'.'+str(str(round(float(avgCap),-4))[3:5]+'M')\n",
    "elif len(str(avgCap)) == 8:\n",
    "    avgCap = str(str(round(float(avgCap),-4))[:2])+'.'+str(str(round(float(avgCap),-4))[2:4]+'M')\n",
    "elif len(str(avgCap)) == 7:\n",
    "    avgCap = str(str(round(float(avgCap),-4))[:1])+'.'+str(str(round(float(avgCap),-4))[1:3]+'M')\n",
    "elif len(str(avgCap)) < 7:\n",
    "    avgCap = (format(int(avgCap), ',d'))\n",
    "\n",
    "print(avgCap)"
   ]
  },
  {
   "cell_type": "code",
   "execution_count": null,
   "id": "fd6282a9-8297-4fbf-aa43-da9ccb0b3b72",
   "metadata": {},
   "outputs": [],
   "source": [
    "def short_num(long_num):\n",
    "    if len(str(long_num)) == 15:\n",
    "        long_num = str(str(round(float(long_num),-9))[:3])+'.'+str(str(round(float(long_num),-9))[3:5]+'T')\n",
    "    if len(str(long_num)) == 14:\n",
    "        long_num = str(str(round(float(long_num),-9))[:2])+'.'+str(str(round(float(long_num),-9))[2:4]+'T')\n",
    "    if len(str(long_num)) == 13:\n",
    "        long_num = str(str(round(float(long_num),-9))[:1])+'.'+str(str(round(float(long_num),-9))[1:3]+'T')\n",
    "    elif len(str(long_num)) == 12:\n",
    "        long_num = str(str(round(float(long_num),-7))[:3])+'.'+str(str(round(float(long_num),-7))[3:5]+'B')\n",
    "    elif len(str(long_num)) == 11:\n",
    "        long_num = str(str(round(float(long_num),-7))[:2])+'.'+str(str(round(float(long_num),-7))[2:4]+'B')\n",
    "    elif len(str(long_num)) == 10:\n",
    "        long_num = str(str(round(float(long_num),-7))[:1])+'.'+str(str(round(float(long_num),-7))[1:3]+'B')\n",
    "    elif len(str(long_num)) == 9:\n",
    "        long_num = str(str(round(float(long_num),-4))[:3])+'.'+str(str(round(float(long_num),-4))[3:5]+'M')\n",
    "    elif len(str(long_num)) == 8:\n",
    "        long_num = str(str(round(float(long_num),-4))[:2])+'.'+str(str(round(float(long_num),-4))[2:4]+'M')\n",
    "    elif len(str(long_num)) == 7:\n",
    "        long_num = str(str(round(float(long_num),-4))[:1])+'.'+str(str(round(float(long_num),-4))[1:3]+'M')\n",
    "    elif len(str(long_num)) < 7:\n",
    "        long_num = (format(int(long_num), ',d'))\n",
    "    return longnum"
   ]
  },
  {
   "cell_type": "code",
   "execution_count": null,
   "id": "8871b054-ca2d-4497-bdf2-bbc672f5d944",
   "metadata": {},
   "outputs": [],
   "source": [
    "sector2 = sector.lower()\n",
    "sector2 = sector2.replace(\" \",\"\")\n",
    "req3 = Request('https://finviz.com/screener.ashx?f=ind_'+sector2+'&v=121', headers={'User-Agent': 'Mozilla/5.0'})\n",
    "webpage3 = urlopen(req3).read().decode('utf-8')\n",
    "totalInSector = re.findall('(?<=<b>Total: </b>).*?(?=#)',webpage3, re.DOTALL)\n",
    "totalInSector = re.findall('[0-9.]+.',str(totalInSector))\n",
    "totalInSector = re.sub(r\"\\['(.*)'\\]\",r\"\\1\" , str(totalInSector))\n",
    "print(totalInSector)"
   ]
  },
  {
   "cell_type": "code",
   "execution_count": null,
   "id": "ee235950-2387-4a12-b196-9baca31b5def",
   "metadata": {},
   "outputs": [],
   "source": [
    "sector2 = sector.lower()\n",
    "sector2 = sector2.replace(\" \",\"\")\n",
    "print(sector2)"
   ]
  },
  {
   "cell_type": "code",
   "execution_count": null,
   "id": "8061b396-2e84-4c2f-ac80-21b27a1a0339",
   "metadata": {},
   "outputs": [],
   "source": [
    "import yfinance as yf\n",
    "ticker = input('enter ticker:')\n",
    "stock = yf.Ticker(ticker)\n",
    "mktCap = stock.info['marketCap']\n",
    "print(mktCap)\n",
    "if len(str(mktCap)) >= 13:\n",
    "    mktCap = str(str(mktCap)+'T')\n",
    "elif len(str(mktCap)) >= 10:\n",
    "    if len(str(mktCap)) < 13:\n",
    "        mktCap = str(str(mktCap)+'B')\n",
    "elif len(str(mktCap)) >= 7:\n",
    "    if (str(mktCap)) < 10:\n",
    "        mktCap = str(str(mktCap)+'M')\n",
    "else:\n",
    "    mktCap = \"{:,}\".format(str(mktCap))\n",
    "print(mktCap)"
   ]
  },
  {
   "cell_type": "code",
   "execution_count": null,
   "id": "435e1f92-4a30-4b7d-a1c4-d2288c3e4274",
   "metadata": {},
   "outputs": [],
   "source": [
    "mil = '1000000'\n",
    "bil = '1000000000'\n",
    "tril = '1000000000000'\n"
   ]
  },
  {
   "cell_type": "code",
   "execution_count": null,
   "id": "430ce5a9-10df-45d6-a74c-329ce9787b52",
   "metadata": {},
   "outputs": [],
   "source": [
    "print(len(tril))"
   ]
  },
  {
   "cell_type": "code",
   "execution_count": null,
   "id": "beafc664-b18d-4a0e-a595-0c95716d0059",
   "metadata": {},
   "outputs": [],
   "source": [
    "dict = {'onemil': '1000000', 'onebil': '1000000000','onetril': '1000000000000','tenmil': '10000000','tenbil': '10000000000','tentril': '1000000000000'}\n",
    "\n",
    "print(dict)\n",
    "\n",
    "mktCap = '1580000'\n",
    "\n",
    "onebil = '1000000000'\n",
    "onetril = '1000000000000'\n",
    "tenmil = '1000000'\n",
    "tenbil = '1000000000'\n",
    "tentril = '1000000000000'\n",
    "\n",
    "if len(str(mktCap)) == 15:\n",
    "    mktCap = str(str(round(float(mktCap),-9))[:3])+'.'+str(str(round(float(mktCap),-9))[3:5]+'T')\n",
    "if len(str(mktCap)) == 14:\n",
    "    mktCap = str(str(round(float(mktCap),-9))[:2])+'.'+str(str(round(float(mktCap),-9))[2:4]+'T')\n",
    "if len(str(mktCap)) == 13:\n",
    "    mktCap = str(str(round(float(mktCap),-9))[:1])+'.'+str(str(round(float(mktCap),-9))[1:3]+'T')\n",
    "elif len(str(mktCap)) == 12:\n",
    "    mktCap = str(str(round(float(mktCap),-7))[:3])+'.'+str(str(round(float(mktCap),-7))[3:5]+'B')\n",
    "elif len(str(mktCap)) == 11:\n",
    "    mktCap = str(str(round(float(mktCap),-7))[:2])+'.'+str(str(round(float(mktCap),-7))[2:4]+'B')\n",
    "elif len(str(mktCap)) == 10:\n",
    "    mktCap = str(str(round(float(mktCap),-7))[:1])+'.'+str(str(round(float(mktCap),-7))[1:3]+'B')\n",
    "elif len(str(mktCap)) == 9:\n",
    "    mktCap = str(str(round(float(mktCap),-4))[:3])+'.'+str(str(round(float(mktCap),-4))[3:5]+'M')\n",
    "elif len(str(mktCap)) == 8:\n",
    "    mktCap = str(str(round(float(mktCap),-4))[:2])+'.'+str(str(round(float(mktCap),-4))[2:4]+'M')\n",
    "elif len(str(mktCap)) == 7:\n",
    "    mktCap = str(str(round(float(mktCap),-4))[:1])+'.'+str(str(round(float(mktCap),-4))[1:3]+'M')\n",
    "elif len(str(mktCap)) < 7:\n",
    "    mktCap = (format(int(mktCap), ',d'))\n",
    "    \n",
    "print(mktCap)"
   ]
  },
  {
   "cell_type": "code",
   "execution_count": null,
   "id": "11703c0e-4774-4937-9c51-1dece9f3ac0d",
   "metadata": {},
   "outputs": [],
   "source": [
    "numba = '1149577656000'\n",
    "print(len(numba))\n",
    "numba = float(numba)\n",
    "numba = round(numba,-9)\n",
    "print(numba)\n",
    "print(str(round(float(numba),-9))[:1])\n",
    "print(str(round(float(numba),-9))[1:3])"
   ]
  },
  {
   "cell_type": "code",
   "execution_count": null,
   "id": "42641755-b1aa-42cb-be1c-ab6a4355591e",
   "metadata": {},
   "outputs": [],
   "source": [
    "rnd = str(round(float(mktCap),-4))[:3]\n",
    "    rnd = str(round(float(mktCap),-4))[3:5]"
   ]
  }
 ],
 "metadata": {
  "kernelspec": {
   "display_name": "Python 3.9.7 ('base')",
   "language": "python",
   "name": "python3"
  },
  "language_info": {
   "codemirror_mode": {
    "name": "ipython",
    "version": 3
   },
   "file_extension": ".py",
   "mimetype": "text/x-python",
   "name": "python",
   "nbconvert_exporter": "python",
   "pygments_lexer": "ipython3",
   "version": "3.9.7"
  },
  "vscode": {
   "interpreter": {
    "hash": "c24ecc2928a1df641fb89905a028e959d05eac4f79c1af53f0bb766b01409011"
   }
  }
 },
 "nbformat": 4,
 "nbformat_minor": 5
}
