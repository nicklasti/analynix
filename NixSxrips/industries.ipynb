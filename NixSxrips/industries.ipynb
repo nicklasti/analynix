{
 "cells": [
  {
   "cell_type": "code",
   "execution_count": 3,
   "id": "3c852b02-a27e-4448-a049-7e22edc2a087",
   "metadata": {},
   "outputs": [
    {
     "ename": "URLError",
     "evalue": "<urlopen error [Errno 8] nodename nor servname provided, or not known>",
     "output_type": "error",
     "traceback": [
      "\u001b[0;31m---------------------------------------------------------------------------\u001b[0m",
      "\u001b[0;31mgaierror\u001b[0m                                  Traceback (most recent call last)",
      "\u001b[0;32m~/opt/anaconda3/lib/python3.9/urllib/request.py\u001b[0m in \u001b[0;36mdo_open\u001b[0;34m(self, http_class, req, **http_conn_args)\u001b[0m\n\u001b[1;32m   1345\u001b[0m             \u001b[0;32mtry\u001b[0m\u001b[0;34m:\u001b[0m\u001b[0;34m\u001b[0m\u001b[0;34m\u001b[0m\u001b[0m\n\u001b[0;32m-> 1346\u001b[0;31m                 h.request(req.get_method(), req.selector, req.data, headers,\n\u001b[0m\u001b[1;32m   1347\u001b[0m                           encode_chunked=req.has_header('Transfer-encoding'))\n",
      "\u001b[0;32m~/opt/anaconda3/lib/python3.9/http/client.py\u001b[0m in \u001b[0;36mrequest\u001b[0;34m(self, method, url, body, headers, encode_chunked)\u001b[0m\n\u001b[1;32m   1278\u001b[0m         \u001b[0;34m\"\"\"Send a complete request to the server.\"\"\"\u001b[0m\u001b[0;34m\u001b[0m\u001b[0;34m\u001b[0m\u001b[0m\n\u001b[0;32m-> 1279\u001b[0;31m         \u001b[0mself\u001b[0m\u001b[0;34m.\u001b[0m\u001b[0m_send_request\u001b[0m\u001b[0;34m(\u001b[0m\u001b[0mmethod\u001b[0m\u001b[0;34m,\u001b[0m \u001b[0murl\u001b[0m\u001b[0;34m,\u001b[0m \u001b[0mbody\u001b[0m\u001b[0;34m,\u001b[0m \u001b[0mheaders\u001b[0m\u001b[0;34m,\u001b[0m \u001b[0mencode_chunked\u001b[0m\u001b[0;34m)\u001b[0m\u001b[0;34m\u001b[0m\u001b[0;34m\u001b[0m\u001b[0m\n\u001b[0m\u001b[1;32m   1280\u001b[0m \u001b[0;34m\u001b[0m\u001b[0m\n",
      "\u001b[0;32m~/opt/anaconda3/lib/python3.9/http/client.py\u001b[0m in \u001b[0;36m_send_request\u001b[0;34m(self, method, url, body, headers, encode_chunked)\u001b[0m\n\u001b[1;32m   1324\u001b[0m             \u001b[0mbody\u001b[0m \u001b[0;34m=\u001b[0m \u001b[0m_encode\u001b[0m\u001b[0;34m(\u001b[0m\u001b[0mbody\u001b[0m\u001b[0;34m,\u001b[0m \u001b[0;34m'body'\u001b[0m\u001b[0;34m)\u001b[0m\u001b[0;34m\u001b[0m\u001b[0;34m\u001b[0m\u001b[0m\n\u001b[0;32m-> 1325\u001b[0;31m         \u001b[0mself\u001b[0m\u001b[0;34m.\u001b[0m\u001b[0mendheaders\u001b[0m\u001b[0;34m(\u001b[0m\u001b[0mbody\u001b[0m\u001b[0;34m,\u001b[0m \u001b[0mencode_chunked\u001b[0m\u001b[0;34m=\u001b[0m\u001b[0mencode_chunked\u001b[0m\u001b[0;34m)\u001b[0m\u001b[0;34m\u001b[0m\u001b[0;34m\u001b[0m\u001b[0m\n\u001b[0m\u001b[1;32m   1326\u001b[0m \u001b[0;34m\u001b[0m\u001b[0m\n",
      "\u001b[0;32m~/opt/anaconda3/lib/python3.9/http/client.py\u001b[0m in \u001b[0;36mendheaders\u001b[0;34m(self, message_body, encode_chunked)\u001b[0m\n\u001b[1;32m   1273\u001b[0m             \u001b[0;32mraise\u001b[0m \u001b[0mCannotSendHeader\u001b[0m\u001b[0;34m(\u001b[0m\u001b[0;34m)\u001b[0m\u001b[0;34m\u001b[0m\u001b[0;34m\u001b[0m\u001b[0m\n\u001b[0;32m-> 1274\u001b[0;31m         \u001b[0mself\u001b[0m\u001b[0;34m.\u001b[0m\u001b[0m_send_output\u001b[0m\u001b[0;34m(\u001b[0m\u001b[0mmessage_body\u001b[0m\u001b[0;34m,\u001b[0m \u001b[0mencode_chunked\u001b[0m\u001b[0;34m=\u001b[0m\u001b[0mencode_chunked\u001b[0m\u001b[0;34m)\u001b[0m\u001b[0;34m\u001b[0m\u001b[0;34m\u001b[0m\u001b[0m\n\u001b[0m\u001b[1;32m   1275\u001b[0m \u001b[0;34m\u001b[0m\u001b[0m\n",
      "\u001b[0;32m~/opt/anaconda3/lib/python3.9/http/client.py\u001b[0m in \u001b[0;36m_send_output\u001b[0;34m(self, message_body, encode_chunked)\u001b[0m\n\u001b[1;32m   1033\u001b[0m         \u001b[0;32mdel\u001b[0m \u001b[0mself\u001b[0m\u001b[0;34m.\u001b[0m\u001b[0m_buffer\u001b[0m\u001b[0;34m[\u001b[0m\u001b[0;34m:\u001b[0m\u001b[0;34m]\u001b[0m\u001b[0;34m\u001b[0m\u001b[0;34m\u001b[0m\u001b[0m\n\u001b[0;32m-> 1034\u001b[0;31m         \u001b[0mself\u001b[0m\u001b[0;34m.\u001b[0m\u001b[0msend\u001b[0m\u001b[0;34m(\u001b[0m\u001b[0mmsg\u001b[0m\u001b[0;34m)\u001b[0m\u001b[0;34m\u001b[0m\u001b[0;34m\u001b[0m\u001b[0m\n\u001b[0m\u001b[1;32m   1035\u001b[0m \u001b[0;34m\u001b[0m\u001b[0m\n",
      "\u001b[0;32m~/opt/anaconda3/lib/python3.9/http/client.py\u001b[0m in \u001b[0;36msend\u001b[0;34m(self, data)\u001b[0m\n\u001b[1;32m    973\u001b[0m             \u001b[0;32mif\u001b[0m \u001b[0mself\u001b[0m\u001b[0;34m.\u001b[0m\u001b[0mauto_open\u001b[0m\u001b[0;34m:\u001b[0m\u001b[0;34m\u001b[0m\u001b[0;34m\u001b[0m\u001b[0m\n\u001b[0;32m--> 974\u001b[0;31m                 \u001b[0mself\u001b[0m\u001b[0;34m.\u001b[0m\u001b[0mconnect\u001b[0m\u001b[0;34m(\u001b[0m\u001b[0;34m)\u001b[0m\u001b[0;34m\u001b[0m\u001b[0;34m\u001b[0m\u001b[0m\n\u001b[0m\u001b[1;32m    975\u001b[0m             \u001b[0;32melse\u001b[0m\u001b[0;34m:\u001b[0m\u001b[0;34m\u001b[0m\u001b[0;34m\u001b[0m\u001b[0m\n",
      "\u001b[0;32m~/opt/anaconda3/lib/python3.9/http/client.py\u001b[0m in \u001b[0;36mconnect\u001b[0;34m(self)\u001b[0m\n\u001b[1;32m   1440\u001b[0m \u001b[0;34m\u001b[0m\u001b[0m\n\u001b[0;32m-> 1441\u001b[0;31m             \u001b[0msuper\u001b[0m\u001b[0;34m(\u001b[0m\u001b[0;34m)\u001b[0m\u001b[0;34m.\u001b[0m\u001b[0mconnect\u001b[0m\u001b[0;34m(\u001b[0m\u001b[0;34m)\u001b[0m\u001b[0;34m\u001b[0m\u001b[0;34m\u001b[0m\u001b[0m\n\u001b[0m\u001b[1;32m   1442\u001b[0m \u001b[0;34m\u001b[0m\u001b[0m\n",
      "\u001b[0;32m~/opt/anaconda3/lib/python3.9/http/client.py\u001b[0m in \u001b[0;36mconnect\u001b[0;34m(self)\u001b[0m\n\u001b[1;32m    944\u001b[0m         \u001b[0;34m\"\"\"Connect to the host and port specified in __init__.\"\"\"\u001b[0m\u001b[0;34m\u001b[0m\u001b[0;34m\u001b[0m\u001b[0m\n\u001b[0;32m--> 945\u001b[0;31m         self.sock = self._create_connection(\n\u001b[0m\u001b[1;32m    946\u001b[0m             (self.host,self.port), self.timeout, self.source_address)\n",
      "\u001b[0;32m~/opt/anaconda3/lib/python3.9/socket.py\u001b[0m in \u001b[0;36mcreate_connection\u001b[0;34m(address, timeout, source_address)\u001b[0m\n\u001b[1;32m    822\u001b[0m     \u001b[0merr\u001b[0m \u001b[0;34m=\u001b[0m \u001b[0;32mNone\u001b[0m\u001b[0;34m\u001b[0m\u001b[0;34m\u001b[0m\u001b[0m\n\u001b[0;32m--> 823\u001b[0;31m     \u001b[0;32mfor\u001b[0m \u001b[0mres\u001b[0m \u001b[0;32min\u001b[0m \u001b[0mgetaddrinfo\u001b[0m\u001b[0;34m(\u001b[0m\u001b[0mhost\u001b[0m\u001b[0;34m,\u001b[0m \u001b[0mport\u001b[0m\u001b[0;34m,\u001b[0m \u001b[0;36m0\u001b[0m\u001b[0;34m,\u001b[0m \u001b[0mSOCK_STREAM\u001b[0m\u001b[0;34m)\u001b[0m\u001b[0;34m:\u001b[0m\u001b[0;34m\u001b[0m\u001b[0;34m\u001b[0m\u001b[0m\n\u001b[0m\u001b[1;32m    824\u001b[0m         \u001b[0maf\u001b[0m\u001b[0;34m,\u001b[0m \u001b[0msocktype\u001b[0m\u001b[0;34m,\u001b[0m \u001b[0mproto\u001b[0m\u001b[0;34m,\u001b[0m \u001b[0mcanonname\u001b[0m\u001b[0;34m,\u001b[0m \u001b[0msa\u001b[0m \u001b[0;34m=\u001b[0m \u001b[0mres\u001b[0m\u001b[0;34m\u001b[0m\u001b[0;34m\u001b[0m\u001b[0m\n",
      "\u001b[0;32m~/opt/anaconda3/lib/python3.9/socket.py\u001b[0m in \u001b[0;36mgetaddrinfo\u001b[0;34m(host, port, family, type, proto, flags)\u001b[0m\n\u001b[1;32m    953\u001b[0m     \u001b[0maddrlist\u001b[0m \u001b[0;34m=\u001b[0m \u001b[0;34m[\u001b[0m\u001b[0;34m]\u001b[0m\u001b[0;34m\u001b[0m\u001b[0;34m\u001b[0m\u001b[0m\n\u001b[0;32m--> 954\u001b[0;31m     \u001b[0;32mfor\u001b[0m \u001b[0mres\u001b[0m \u001b[0;32min\u001b[0m \u001b[0m_socket\u001b[0m\u001b[0;34m.\u001b[0m\u001b[0mgetaddrinfo\u001b[0m\u001b[0;34m(\u001b[0m\u001b[0mhost\u001b[0m\u001b[0;34m,\u001b[0m \u001b[0mport\u001b[0m\u001b[0;34m,\u001b[0m \u001b[0mfamily\u001b[0m\u001b[0;34m,\u001b[0m \u001b[0mtype\u001b[0m\u001b[0;34m,\u001b[0m \u001b[0mproto\u001b[0m\u001b[0;34m,\u001b[0m \u001b[0mflags\u001b[0m\u001b[0;34m)\u001b[0m\u001b[0;34m:\u001b[0m\u001b[0;34m\u001b[0m\u001b[0;34m\u001b[0m\u001b[0m\n\u001b[0m\u001b[1;32m    955\u001b[0m         \u001b[0maf\u001b[0m\u001b[0;34m,\u001b[0m \u001b[0msocktype\u001b[0m\u001b[0;34m,\u001b[0m \u001b[0mproto\u001b[0m\u001b[0;34m,\u001b[0m \u001b[0mcanonname\u001b[0m\u001b[0;34m,\u001b[0m \u001b[0msa\u001b[0m \u001b[0;34m=\u001b[0m \u001b[0mres\u001b[0m\u001b[0;34m\u001b[0m\u001b[0;34m\u001b[0m\u001b[0m\n",
      "\u001b[0;31mgaierror\u001b[0m: [Errno 8] nodename nor servname provided, or not known",
      "\nDuring handling of the above exception, another exception occurred:\n",
      "\u001b[0;31mURLError\u001b[0m                                  Traceback (most recent call last)",
      "\u001b[0;32m/var/folders/pc/8z2v_wv911q5h3376m3rlnjh0000gn/T/ipykernel_51282/1416103092.py\u001b[0m in \u001b[0;36m<module>\u001b[0;34m\u001b[0m\n\u001b[1;32m      4\u001b[0m \u001b[0;34m\u001b[0m\u001b[0m\n\u001b[1;32m      5\u001b[0m \u001b[0mreq\u001b[0m \u001b[0;34m=\u001b[0m \u001b[0mRequest\u001b[0m\u001b[0;34m(\u001b[0m\u001b[0;34m'https://finviz.com/quote.ashx?t=MRNA'\u001b[0m\u001b[0;34m,\u001b[0m \u001b[0mheaders\u001b[0m\u001b[0;34m=\u001b[0m\u001b[0;34m{\u001b[0m\u001b[0;34m'User-Agent'\u001b[0m\u001b[0;34m:\u001b[0m \u001b[0;34m'Mozilla/5.0'\u001b[0m\u001b[0;34m}\u001b[0m\u001b[0;34m)\u001b[0m\u001b[0;34m\u001b[0m\u001b[0;34m\u001b[0m\u001b[0m\n\u001b[0;32m----> 6\u001b[0;31m \u001b[0mwebpage\u001b[0m \u001b[0;34m=\u001b[0m \u001b[0murlopen\u001b[0m\u001b[0;34m(\u001b[0m\u001b[0mreq\u001b[0m\u001b[0;34m)\u001b[0m\u001b[0;34m.\u001b[0m\u001b[0mread\u001b[0m\u001b[0;34m(\u001b[0m\u001b[0;34m)\u001b[0m\u001b[0;34m.\u001b[0m\u001b[0mdecode\u001b[0m\u001b[0;34m(\u001b[0m\u001b[0;34m'utf-8'\u001b[0m\u001b[0;34m)\u001b[0m\u001b[0;34m\u001b[0m\u001b[0;34m\u001b[0m\u001b[0m\n\u001b[0m\u001b[1;32m      7\u001b[0m \u001b[0mcontent\u001b[0m \u001b[0;34m=\u001b[0m \u001b[0mre\u001b[0m\u001b[0;34m.\u001b[0m\u001b[0mfindall\u001b[0m\u001b[0;34m(\u001b[0m\u001b[0;34m'(?<=class=\"tab-link\").*?(?=</a>)'\u001b[0m\u001b[0;34m,\u001b[0m\u001b[0mwebpage\u001b[0m\u001b[0;34m,\u001b[0m \u001b[0mre\u001b[0m\u001b[0;34m.\u001b[0m\u001b[0mDOTALL\u001b[0m\u001b[0;34m)\u001b[0m\u001b[0;34m\u001b[0m\u001b[0;34m\u001b[0m\u001b[0m\n\u001b[1;32m      8\u001b[0m \u001b[0msector\u001b[0m \u001b[0;34m=\u001b[0m \u001b[0mcontent\u001b[0m\u001b[0;34m[\u001b[0m\u001b[0;36m2\u001b[0m\u001b[0;34m]\u001b[0m\u001b[0;34m\u001b[0m\u001b[0;34m\u001b[0m\u001b[0m\n",
      "\u001b[0;32m~/opt/anaconda3/lib/python3.9/urllib/request.py\u001b[0m in \u001b[0;36murlopen\u001b[0;34m(url, data, timeout, cafile, capath, cadefault, context)\u001b[0m\n\u001b[1;32m    212\u001b[0m     \u001b[0;32melse\u001b[0m\u001b[0;34m:\u001b[0m\u001b[0;34m\u001b[0m\u001b[0;34m\u001b[0m\u001b[0m\n\u001b[1;32m    213\u001b[0m         \u001b[0mopener\u001b[0m \u001b[0;34m=\u001b[0m \u001b[0m_opener\u001b[0m\u001b[0;34m\u001b[0m\u001b[0;34m\u001b[0m\u001b[0m\n\u001b[0;32m--> 214\u001b[0;31m     \u001b[0;32mreturn\u001b[0m \u001b[0mopener\u001b[0m\u001b[0;34m.\u001b[0m\u001b[0mopen\u001b[0m\u001b[0;34m(\u001b[0m\u001b[0murl\u001b[0m\u001b[0;34m,\u001b[0m \u001b[0mdata\u001b[0m\u001b[0;34m,\u001b[0m \u001b[0mtimeout\u001b[0m\u001b[0;34m)\u001b[0m\u001b[0;34m\u001b[0m\u001b[0;34m\u001b[0m\u001b[0m\n\u001b[0m\u001b[1;32m    215\u001b[0m \u001b[0;34m\u001b[0m\u001b[0m\n\u001b[1;32m    216\u001b[0m \u001b[0;32mdef\u001b[0m \u001b[0minstall_opener\u001b[0m\u001b[0;34m(\u001b[0m\u001b[0mopener\u001b[0m\u001b[0;34m)\u001b[0m\u001b[0;34m:\u001b[0m\u001b[0;34m\u001b[0m\u001b[0;34m\u001b[0m\u001b[0m\n",
      "\u001b[0;32m~/opt/anaconda3/lib/python3.9/urllib/request.py\u001b[0m in \u001b[0;36mopen\u001b[0;34m(self, fullurl, data, timeout)\u001b[0m\n\u001b[1;32m    515\u001b[0m \u001b[0;34m\u001b[0m\u001b[0m\n\u001b[1;32m    516\u001b[0m         \u001b[0msys\u001b[0m\u001b[0;34m.\u001b[0m\u001b[0maudit\u001b[0m\u001b[0;34m(\u001b[0m\u001b[0;34m'urllib.Request'\u001b[0m\u001b[0;34m,\u001b[0m \u001b[0mreq\u001b[0m\u001b[0;34m.\u001b[0m\u001b[0mfull_url\u001b[0m\u001b[0;34m,\u001b[0m \u001b[0mreq\u001b[0m\u001b[0;34m.\u001b[0m\u001b[0mdata\u001b[0m\u001b[0;34m,\u001b[0m \u001b[0mreq\u001b[0m\u001b[0;34m.\u001b[0m\u001b[0mheaders\u001b[0m\u001b[0;34m,\u001b[0m \u001b[0mreq\u001b[0m\u001b[0;34m.\u001b[0m\u001b[0mget_method\u001b[0m\u001b[0;34m(\u001b[0m\u001b[0;34m)\u001b[0m\u001b[0;34m)\u001b[0m\u001b[0;34m\u001b[0m\u001b[0;34m\u001b[0m\u001b[0m\n\u001b[0;32m--> 517\u001b[0;31m         \u001b[0mresponse\u001b[0m \u001b[0;34m=\u001b[0m \u001b[0mself\u001b[0m\u001b[0;34m.\u001b[0m\u001b[0m_open\u001b[0m\u001b[0;34m(\u001b[0m\u001b[0mreq\u001b[0m\u001b[0;34m,\u001b[0m \u001b[0mdata\u001b[0m\u001b[0;34m)\u001b[0m\u001b[0;34m\u001b[0m\u001b[0;34m\u001b[0m\u001b[0m\n\u001b[0m\u001b[1;32m    518\u001b[0m \u001b[0;34m\u001b[0m\u001b[0m\n\u001b[1;32m    519\u001b[0m         \u001b[0;31m# post-process response\u001b[0m\u001b[0;34m\u001b[0m\u001b[0;34m\u001b[0m\u001b[0m\n",
      "\u001b[0;32m~/opt/anaconda3/lib/python3.9/urllib/request.py\u001b[0m in \u001b[0;36m_open\u001b[0;34m(self, req, data)\u001b[0m\n\u001b[1;32m    532\u001b[0m \u001b[0;34m\u001b[0m\u001b[0m\n\u001b[1;32m    533\u001b[0m         \u001b[0mprotocol\u001b[0m \u001b[0;34m=\u001b[0m \u001b[0mreq\u001b[0m\u001b[0;34m.\u001b[0m\u001b[0mtype\u001b[0m\u001b[0;34m\u001b[0m\u001b[0;34m\u001b[0m\u001b[0m\n\u001b[0;32m--> 534\u001b[0;31m         result = self._call_chain(self.handle_open, protocol, protocol +\n\u001b[0m\u001b[1;32m    535\u001b[0m                                   '_open', req)\n\u001b[1;32m    536\u001b[0m         \u001b[0;32mif\u001b[0m \u001b[0mresult\u001b[0m\u001b[0;34m:\u001b[0m\u001b[0;34m\u001b[0m\u001b[0;34m\u001b[0m\u001b[0m\n",
      "\u001b[0;32m~/opt/anaconda3/lib/python3.9/urllib/request.py\u001b[0m in \u001b[0;36m_call_chain\u001b[0;34m(self, chain, kind, meth_name, *args)\u001b[0m\n\u001b[1;32m    492\u001b[0m         \u001b[0;32mfor\u001b[0m \u001b[0mhandler\u001b[0m \u001b[0;32min\u001b[0m \u001b[0mhandlers\u001b[0m\u001b[0;34m:\u001b[0m\u001b[0;34m\u001b[0m\u001b[0;34m\u001b[0m\u001b[0m\n\u001b[1;32m    493\u001b[0m             \u001b[0mfunc\u001b[0m \u001b[0;34m=\u001b[0m \u001b[0mgetattr\u001b[0m\u001b[0;34m(\u001b[0m\u001b[0mhandler\u001b[0m\u001b[0;34m,\u001b[0m \u001b[0mmeth_name\u001b[0m\u001b[0;34m)\u001b[0m\u001b[0;34m\u001b[0m\u001b[0;34m\u001b[0m\u001b[0m\n\u001b[0;32m--> 494\u001b[0;31m             \u001b[0mresult\u001b[0m \u001b[0;34m=\u001b[0m \u001b[0mfunc\u001b[0m\u001b[0;34m(\u001b[0m\u001b[0;34m*\u001b[0m\u001b[0margs\u001b[0m\u001b[0;34m)\u001b[0m\u001b[0;34m\u001b[0m\u001b[0;34m\u001b[0m\u001b[0m\n\u001b[0m\u001b[1;32m    495\u001b[0m             \u001b[0;32mif\u001b[0m \u001b[0mresult\u001b[0m \u001b[0;32mis\u001b[0m \u001b[0;32mnot\u001b[0m \u001b[0;32mNone\u001b[0m\u001b[0;34m:\u001b[0m\u001b[0;34m\u001b[0m\u001b[0;34m\u001b[0m\u001b[0m\n\u001b[1;32m    496\u001b[0m                 \u001b[0;32mreturn\u001b[0m \u001b[0mresult\u001b[0m\u001b[0;34m\u001b[0m\u001b[0;34m\u001b[0m\u001b[0m\n",
      "\u001b[0;32m~/opt/anaconda3/lib/python3.9/urllib/request.py\u001b[0m in \u001b[0;36mhttps_open\u001b[0;34m(self, req)\u001b[0m\n\u001b[1;32m   1387\u001b[0m \u001b[0;34m\u001b[0m\u001b[0m\n\u001b[1;32m   1388\u001b[0m         \u001b[0;32mdef\u001b[0m \u001b[0mhttps_open\u001b[0m\u001b[0;34m(\u001b[0m\u001b[0mself\u001b[0m\u001b[0;34m,\u001b[0m \u001b[0mreq\u001b[0m\u001b[0;34m)\u001b[0m\u001b[0;34m:\u001b[0m\u001b[0;34m\u001b[0m\u001b[0;34m\u001b[0m\u001b[0m\n\u001b[0;32m-> 1389\u001b[0;31m             return self.do_open(http.client.HTTPSConnection, req,\n\u001b[0m\u001b[1;32m   1390\u001b[0m                 context=self._context, check_hostname=self._check_hostname)\n\u001b[1;32m   1391\u001b[0m \u001b[0;34m\u001b[0m\u001b[0m\n",
      "\u001b[0;32m~/opt/anaconda3/lib/python3.9/urllib/request.py\u001b[0m in \u001b[0;36mdo_open\u001b[0;34m(self, http_class, req, **http_conn_args)\u001b[0m\n\u001b[1;32m   1347\u001b[0m                           encode_chunked=req.has_header('Transfer-encoding'))\n\u001b[1;32m   1348\u001b[0m             \u001b[0;32mexcept\u001b[0m \u001b[0mOSError\u001b[0m \u001b[0;32mas\u001b[0m \u001b[0merr\u001b[0m\u001b[0;34m:\u001b[0m \u001b[0;31m# timeout error\u001b[0m\u001b[0;34m\u001b[0m\u001b[0;34m\u001b[0m\u001b[0m\n\u001b[0;32m-> 1349\u001b[0;31m                 \u001b[0;32mraise\u001b[0m \u001b[0mURLError\u001b[0m\u001b[0;34m(\u001b[0m\u001b[0merr\u001b[0m\u001b[0;34m)\u001b[0m\u001b[0;34m\u001b[0m\u001b[0;34m\u001b[0m\u001b[0m\n\u001b[0m\u001b[1;32m   1350\u001b[0m             \u001b[0mr\u001b[0m \u001b[0;34m=\u001b[0m \u001b[0mh\u001b[0m\u001b[0;34m.\u001b[0m\u001b[0mgetresponse\u001b[0m\u001b[0;34m(\u001b[0m\u001b[0;34m)\u001b[0m\u001b[0;34m\u001b[0m\u001b[0;34m\u001b[0m\u001b[0m\n\u001b[1;32m   1351\u001b[0m         \u001b[0;32mexcept\u001b[0m\u001b[0;34m:\u001b[0m\u001b[0;34m\u001b[0m\u001b[0;34m\u001b[0m\u001b[0m\n",
      "\u001b[0;31mURLError\u001b[0m: <urlopen error [Errno 8] nodename nor servname provided, or not known>"
     ]
    }
   ],
   "source": [
    "import yfinance as yf\n",
    "from urllib.request import Request, urlopen\n",
    "import re\n",
    "\n",
    "req = Request('https://finviz.com/quote.ashx?t=MRNA', headers={'User-Agent': 'Mozilla/5.0'})\n",
    "webpage = urlopen(req).read().decode('utf-8')\n",
    "content = re.findall('(?<=class=\"tab-link\").*?(?=</a>)',webpage, re.DOTALL)\n",
    "sector = content[2]\n",
    "sector = sector[1:]\n",
    "sector = sector.strip()\n",
    "print(sector)\n",
    "\n",
    "text = 'MRNA'\n",
    "stock = yf.Ticker(text)\n",
    "mktCap = stock.info['marketCap']\n",
    "\n",
    "#################################IMPORTED#############################################################\n",
    "\n",
    "\n",
    "req2 = Request('https://finviz.com/groups.ashx?g=industry&v=120&o=name', headers={'User-Agent': 'Mozilla/5.0'})\n",
    "webpage2 = urlopen(req2).read().decode('utf-8')\n",
    "indSize = re.findall('(?<='+sector+').*?(?=class=\"body-table\")(.*?)(?=</td>)',webpage2, re.DOTALL)\n",
    "indSize = re.findall('[0-9.]+.',str(indSize))\n",
    "indSize = re.sub(r\"\\['(.*)'\\]\",r\"\\1\" , str(indSize))\n",
    "print('indSize', indSize)\n",
    "\n",
    "indSizeFloat = float(indSize[:-1])*1000000000\n",
    "print(indSizeFloat)\n",
    "\n",
    "sector2 = sector.lower()\n",
    "sector2 = sector2.replace(\" \",\"\")\n",
    "req3 = Request('https://finviz.com/screener.ashx?f=ind_'+sector2+'&v=121', headers={'User-Agent': 'Mozilla/5.0'})\n",
    "webpage3 = urlopen(req3).read().decode('utf-8')\n",
    "sectorCount = re.findall('(?<=<b>Total: </b>).*?(?=#)',webpage3, re.DOTALL)\n",
    "sectorCount = re.findall('[0-9.]+.',str(sectorCount))\n",
    "sectorCount = re.sub(r\"\\['(.*)'\\]\",r\"\\1\" , str(sectorCount))\n",
    "sectorCount = float(sectorCount)\n",
    "print(sectorCount)\n",
    "\n",
    "avgCapFloat = indSizeFloat / sectorCount\n",
    "print(avgCapFloat)\n",
    "\n",
    "avgCapInt = re.findall('([0-9].*)\\.',str(avgCapFloat))\n",
    "#gets rid of the decimal place numbers\n",
    "avgCap = re.sub(r\"\\['(.*)'\\]\",r\"\\1\" , str(avgCapInt))\n",
    "#gets rid of ['']\n",
    "if len(str(avgCap)) == 15:\n",
    "    avgCap = str(str(round(float(avgCap),-9))[:3])+'.'+str(str(round(float(avgCap),-9))[3:5]+'T')\n",
    "if len(str(avgCap)) == 14:\n",
    "    avgCap = str(str(round(float(avgCap),-9))[:2])+'.'+str(str(round(float(avgCap),-9))[2:4]+'T')\n",
    "if len(str(avgCap)) == 13:\n",
    "    avgCap = str(str(round(float(avgCap),-9))[:1])+'.'+str(str(round(float(avgCap),-9))[1:3]+'T')\n",
    "elif len(str(avgCap)) == 12:\n",
    "    avgCap = str(str(round(float(avgCap),-7))[:3])+'.'+str(str(round(float(avgCap),-7))[3:5]+'B')\n",
    "elif len(str(avgCap)) == 11:\n",
    "    avgCap = str(str(round(float(avgCap),-7))[:2])+'.'+str(str(round(float(avgCap),-7))[2:4]+'B')\n",
    "elif len(str(avgCap)) == 10:\n",
    "    avgCap = str(str(round(float(avgCap),-7))[:1])+'.'+str(str(round(float(avgCap),-7))[1:3]+'B')\n",
    "elif len(str(avgCap)) == 9:\n",
    "    avgCap = str(str(round(float(avgCap),-4))[:3])+'.'+str(str(round(float(avgCap),-4))[3:5]+'M')\n",
    "elif len(str(avgCap)) == 8:\n",
    "    avgCap = str(str(round(float(avgCap),-4))[:2])+'.'+str(str(round(float(avgCap),-4))[2:4]+'M')\n",
    "elif len(str(avgCap)) == 7:\n",
    "    avgCap = str(str(round(float(avgCap),-4))[:1])+'.'+str(str(round(float(avgCap),-4))[1:3]+'M')\n",
    "elif len(str(avgCap)) < 7:\n",
    "    avgCap = (format(int(avgCap), ',d'))\n",
    "print('avgCap', avgCap)\n",
    "\n",
    "mktCapFloat = float(mktCap)\n",
    "print('mktcapfloat',mktCapFloat)\n",
    "\n",
    "mktShareFloat = mktCapFloat / indSizeFloat\n",
    "print('mktShare',mktShareFloat)\n",
    "\n",
    "if len(indSize) >= 8:\n",
    "    indSize = str(str(round(indSizeFloat,-10))[:1]+'.'+str(round(indSizeFloat,-10))[1:3]+'T')\n",
    "elif len(indSize) < 8:\n",
    "    indSize=indSize\n",
    "print('fixed indSize',indSize)\n",
    "#fixes trillions\n",
    "\n",
    "mktSharePct = re.findall('[0-9].+',str(mktShareFloat))\n",
    "mktSharePct = re.sub(r\"\\['(.*)'\\]\",r\"\\1\" , str(mktSharePct))\n",
    "mktSharePct = round(float(mktSharePct),5)\n",
    "mktSharePct = str(mktSharePct)\n",
    "mktSharePct = ( mktSharePct[2:4] + '.' + mktSharePct[4:6] + '%' )\n",
    "print('mktSharePct',mktSharePct)\n",
    "\n"
   ]
  },
  {
   "cell_type": "code",
   "execution_count": 2,
   "id": "41de0430-5e65-45b0-ad4a-ef48b3db179d",
   "metadata": {},
   "outputs": [
    {
     "ename": "NameError",
     "evalue": "name 'sectorCount' is not defined",
     "output_type": "error",
     "traceback": [
      "\u001b[0;31m---------------------------------------------------------------------------\u001b[0m",
      "\u001b[0;31mNameError\u001b[0m                                 Traceback (most recent call last)",
      "\u001b[0;32m/var/folders/pc/8z2v_wv911q5h3376m3rlnjh0000gn/T/ipykernel_51282/16617415.py\u001b[0m in \u001b[0;36m<module>\u001b[0;34m\u001b[0m\n\u001b[0;32m----> 1\u001b[0;31m \u001b[0mprint\u001b[0m\u001b[0;34m(\u001b[0m\u001b[0msectorCount\u001b[0m\u001b[0;34m)\u001b[0m\u001b[0;34m\u001b[0m\u001b[0;34m\u001b[0m\u001b[0m\n\u001b[0m",
      "\u001b[0;31mNameError\u001b[0m: name 'sectorCount' is not defined"
     ]
    }
   ],
   "source": [
    "print(sectorCount)"
   ]
  },
  {
   "cell_type": "code",
   "execution_count": null,
   "id": "84c345c6-6e24-45eb-96a3-2ac908e886f8",
   "metadata": {},
   "outputs": [],
   "source": []
  },
  {
   "cell_type": "code",
   "execution_count": null,
   "id": "0ce697fd-41ae-43ae-8d1d-4e5b568fa522",
   "metadata": {},
   "outputs": [],
   "source": []
  },
  {
   "cell_type": "code",
   "execution_count": null,
   "id": "52e7e7bd-cf1a-49c3-870b-7c0b4c0bee3a",
   "metadata": {},
   "outputs": [],
   "source": []
  },
  {
   "cell_type": "code",
   "execution_count": 5,
   "id": "0e5a2d56-4cbc-4a55-8dc6-86d037642e37",
   "metadata": {},
   "outputs": [
    {
     "name": "stdout",
     "output_type": "stream",
     "text": [
      "tickerRegList ['AADI', 'ABCL', 'ABCM', 'ABEO', 'ABIO', 'ABOS', 'ABSI', 'ABUS', 'ABVC', 'ACAD', 'ACER', 'ACET', 'ACHL', 'ACHV', 'ACIU', 'ACLX', 'ACOR', 'ACRS', 'ACST', 'ACXP']\n",
      "count 20\n"
     ]
    }
   ],
   "source": [
    "import statistics\n",
    "avgRevReg = []\n",
    "\n",
    "req4 = Request('https://finviz.com/screener.ashx?f=ind_'+sector2, headers={'User-Agent': 'Mozilla/5.0'})\n",
    "webpage4 = urlopen(req4).read().decode('utf-8')\n",
    "tickerRegList = re.findall('(?<=class=\"screener-link-primary\">).*?(?=</a>)',webpage3, re.DOTALL)\n",
    "\n",
    "print('tickerRegList', tickerRegList)\n",
    "\n",
    "print('count',len(tickerRegList))"
   ]
  },
  {
   "cell_type": "code",
   "execution_count": 6,
   "id": "366fd95f-990d-4306-a6ed-9434f6c865da",
   "metadata": {},
   "outputs": [
    {
     "name": "stdout",
     "output_type": "stream",
     "text": [
      "['AADI', 'ABCL', 'ABCM', 'ABEO', 'ABIO', 'ABOS', 'ABSI', 'ABUS', 'ABVC', 'ACAD', 'ACER', 'ACET', 'ACHL', 'ACHV', 'ACIU', 'ACLX', 'ACOR', 'ACRS', 'ACST', 'ACXP', 'ADAG', 'ADAP', 'ADCT', 'ADGI', 'ADIL', 'ADMA', 'ADPT', 'ADTX', 'ADVM', 'ADXN', 'AEZS', 'AFMD', 'AGE', 'AGEN', 'AGIO', 'AGLE', 'AGTC', 'AIKI', 'AIM', 'AKBA', 'AKRO', 'AKTX', 'AKUS', 'ALBO', 'ALDX', 'ALEC', 'ALGS', 'ALKS', 'ALLK', 'ALLO', 'ALLR', 'ALNA', 'ALNY', 'ALPN', 'ALRN', 'ALT', 'ALVR', 'ALXO', 'ALZN', 'AMAM', 'AMLX', 'AMPE', 'AMRN', 'AMTI', 'ANAB', 'ANEB', 'ANGN', 'ANIK', 'ANNX', 'ANPC', 'ANTX', 'ANVS', 'APLS', 'APLT', 'APM', 'APRE', 'APTO', 'APTX', 'APVO', 'AQST', 'ARAV', 'ARCT', 'ARDS', 'ARDX', 'ARGX', 'ARMP', 'ARQT', 'ARTL', 'ARVN', 'ARWR', 'ASLN', 'ASMB', 'ASND', 'ATAI', 'ATHA', 'ATHE', 'ATHX', 'ATNF', 'ATNM', 'ATOS']\n",
      "count 100\n"
     ]
    }
   ],
   "source": [
    "rlist = [\n",
    "            '21','41','61','81'\n",
    "        ]\n",
    "\n",
    "#rlist2 = [\n",
    "#            '21','41','61','81','101','121','141','161','181','201','221','241','261','281','301','321','341','361','381','401','421','441','461','481','501','521','541','561','581','601','621','641','661','681','701','721','741'\n",
    "#        ]\n",
    "\n",
    "def add_tickers_to_list(tickerRegListDef):\n",
    "    try:\n",
    "        for ticker in tickerRegListDef:\n",
    "            if ticker not in tickerRegList:\n",
    "                tickerRegList.append(ticker)\n",
    "            else: continue\n",
    "    except:\n",
    "        pass\n",
    "\n",
    "def get_tickers_from_page(page):\n",
    "    \n",
    "    reqdef1 = Request('https://finviz.com/screener.ashx?f=ind_'+sector2+'&r='+page, headers={'User-Agent': 'Mozilla/5.0'})\n",
    "    urlsite = urlopen(reqdef1).read().decode('utf-8')\n",
    "    tickerRegListDef = re.findall('(?<=class=\"screener-link-primary\">).*?(?=</a>)',urlsite, re.DOTALL)\n",
    "    return add_tickers_to_list(tickerRegListDef)\n",
    "\n",
    "for page in rlist:\n",
    "    get_tickers_from_page(page)\n",
    "    \n",
    "print(tickerRegList)\n",
    "\n",
    "print('count',len(tickerRegList))\n",
    "\n",
    "#missing page 7-16\n",
    "#missing page 22 - 31\n",
    "#missing page 37-38"
   ]
  },
  {
   "cell_type": "code",
   "execution_count": 7,
   "id": "3cd85595-d87f-4ab2-9192-3e83ceeacde5",
   "metadata": {},
   "outputs": [
    {
     "name": "stdout",
     "output_type": "stream",
     "text": [
      "['AADI', 'ABCL', 'ABCM', 'ABEO', 'ABIO', 'ABOS', 'ABSI', 'ABUS', 'ABVC', 'ACAD', 'ACER', 'ACET', 'ACHL', 'ACHV', 'ACIU', 'ACLX', 'ACOR', 'ACRS', 'ACST', 'ACXP', 'ADAG', 'ADAP', 'ADCT', 'ADGI', 'ADIL', 'ADMA', 'ADPT', 'ADTX', 'ADVM', 'ADXN', 'AEZS', 'AFMD', 'AGE', 'AGEN', 'AGIO', 'AGLE', 'AGTC', 'AIKI', 'AIM', 'AKBA', 'AKRO', 'AKTX', 'AKUS', 'ALBO', 'ALDX', 'ALEC', 'ALGS', 'ALKS', 'ALLK', 'ALLO', 'ALLR', 'ALNA', 'ALNY', 'ALPN', 'ALRN', 'ALT', 'ALVR', 'ALXO', 'ALZN', 'AMAM', 'AMLX', 'AMPE', 'AMRN', 'AMTI', 'ANAB', 'ANEB', 'ANGN', 'ANIK', 'ANNX', 'ANPC', 'ANTX', 'ANVS', 'APLS', 'APLT', 'APM', 'APRE', 'APTO', 'APTX', 'APVO', 'AQST', 'ARAV', 'ARCT', 'ARDS', 'ARDX', 'ARGX', 'ARMP', 'ARQT', 'ARTL', 'ARVN', 'ARWR', 'ASLN', 'ASMB', 'ASND', 'ATAI', 'ATHA', 'ATHE', 'ATHX', 'ATNF', 'ATNM', 'ATOS']\n",
      "count 100\n"
     ]
    }
   ],
   "source": [
    "rlist = [\n",
    "            '21','41','61','81'\n",
    "        ]\n",
    "\n",
    "#rlist2 = [\n",
    "#            '21','41','61','81','101','121','141','161','181','201','221','241','261','281','301','321','341','361','381','401','421','441','461','481','501','521','541','561','581','601','621','641','661','681','701','721','741'\n",
    "#        ]\n",
    "\n",
    "def add_tickers_to_list(tickerRegListDef):\n",
    "    try:\n",
    "        for ticker in tickerRegListDef:\n",
    "            if ticker not in tickerRegList:\n",
    "                tickerRegList.append(ticker)\n",
    "            else: continue\n",
    "    except:\n",
    "        pass\n",
    "\n",
    "def get_tickers_from_page(page):\n",
    "    \n",
    "    reqdef1 = Request('https://finviz.com/screener.ashx?f=ind_'+sector2+'&r='+page, headers={'User-Agent': 'Mozilla/5.0'})\n",
    "    urlsite = urlopen(reqdef1).read().decode('utf-8')\n",
    "    tickerRegListDef = re.findall('(?<=class=\"screener-link-primary\">).*?(?=</a>)',urlsite, re.DOTALL)\n",
    "    return add_tickers_to_list(tickerRegListDef)\n",
    "\n",
    "for page in rlist:\n",
    "    get_tickers_from_page(page)\n",
    "    \n",
    "print(tickerRegList)\n",
    "\n",
    "print('count',len(tickerRegList))\n",
    "\n",
    "#missing page 7-16\n",
    "#missing page 22 - 31\n",
    "#missing page 37-38"
   ]
  },
  {
   "cell_type": "code",
   "execution_count": 8,
   "id": "c40bb4a8-a368-456d-86e3-45cfb08cac51",
   "metadata": {},
   "outputs": [
    {
     "name": "stdout",
     "output_type": "stream",
     "text": [
      "['AADI', 'ABCL', 'ABCM', 'ABEO', 'ABIO', 'ABOS', 'ABSI', 'ABUS', 'ABVC', 'ACAD', 'ACER', 'ACET', 'ACHL', 'ACHV', 'ACIU', 'ACLX', 'ACOR', 'ACRS', 'ACST', 'ACXP', 'ADAG', 'ADAP', 'ADCT', 'ADGI', 'ADIL', 'ADMA', 'ADPT', 'ADTX', 'ADVM', 'ADXN', 'AEZS', 'AFMD', 'AGE', 'AGEN', 'AGIO', 'AGLE', 'AGTC', 'AIKI', 'AIM', 'AKBA', 'AKRO', 'AKTX', 'AKUS', 'ALBO', 'ALDX', 'ALEC', 'ALGS', 'ALKS', 'ALLK', 'ALLO', 'ALLR', 'ALNA', 'ALNY', 'ALPN', 'ALRN', 'ALT', 'ALVR', 'ALXO', 'ALZN', 'AMAM', 'AMLX', 'AMPE', 'AMRN', 'AMTI', 'ANAB', 'ANEB', 'ANGN', 'ANIK', 'ANNX', 'ANPC', 'ANTX', 'ANVS', 'APLS', 'APLT', 'APM', 'APRE', 'APTO', 'APTX', 'APVO', 'AQST', 'ARAV', 'ARCT', 'ARDS', 'ARDX', 'ARGX', 'ARMP', 'ARQT', 'ARTL', 'ARVN', 'ARWR', 'ASLN', 'ASMB', 'ASND', 'ATAI', 'ATHA', 'ATHE', 'ATHX', 'ATNF', 'ATNM', 'ATOS', 'ATRA', 'ATXI', 'ATXS', 'AUPH', 'AURA', 'AUTL', 'AVEO', 'AVIR', 'AVRO', 'AVTE', 'AVTX', 'AVXL', 'AXLA', 'AXSM', 'AYLA', 'AYTU', 'BBI', 'BBIO', 'BCAB', 'BCDA', 'BCEL', 'BCLI', 'BCRX', 'BCTX', 'BCYC', 'BDTX', 'BEAM', 'BGNE', 'BHVN', 'BIOR', 'BIVI', 'BLCM', 'BLI', 'BLPH', 'BLRX', 'BLTE', 'BLU', 'BLUE', 'BMEA', 'BMRN', 'BNOX', 'BNTC', 'BNTX', 'BOLT', 'BPMC', 'BPTH', 'BPTS', 'BRTX', 'BTAI', 'BTTX', 'BTX', 'BVXV', 'BWV', 'BXRX', 'BYSI', 'CABA', 'CADL', 'CALA', 'CALT', 'CANF', 'CAPR', 'CARA', 'CASI', 'CBAY', 'CBIO', 'CCCC', 'CCXI', 'CDAK', 'CDMO', 'CDTX', 'CDXC', 'CDXS', 'CELU', 'CELZ', 'CERE', 'CERS', 'CFRX', 'CGEM', 'CGEN', 'CGTX']\n",
      "count 180\n"
     ]
    }
   ],
   "source": [
    "rlist = ['101','121','141','161']\n",
    "for page in rlist:\n",
    "    get_tickers_from_page(page)\n",
    "    \n",
    "print(tickerRegList)\n",
    "\n",
    "print('count',len(tickerRegList))"
   ]
  },
  {
   "cell_type": "code",
   "execution_count": 9,
   "id": "bd7da482-6721-471a-9230-3f1c962aa227",
   "metadata": {},
   "outputs": [
    {
     "name": "stdout",
     "output_type": "stream",
     "text": [
      "['AADI', 'ABCL', 'ABCM', 'ABEO', 'ABIO', 'ABOS', 'ABSI', 'ABUS', 'ABVC', 'ACAD', 'ACER', 'ACET', 'ACHL', 'ACHV', 'ACIU', 'ACLX', 'ACOR', 'ACRS', 'ACST', 'ACXP', 'ADAG', 'ADAP', 'ADCT', 'ADGI', 'ADIL', 'ADMA', 'ADPT', 'ADTX', 'ADVM', 'ADXN', 'AEZS', 'AFMD', 'AGE', 'AGEN', 'AGIO', 'AGLE', 'AGTC', 'AIKI', 'AIM', 'AKBA', 'AKRO', 'AKTX', 'AKUS', 'ALBO', 'ALDX', 'ALEC', 'ALGS', 'ALKS', 'ALLK', 'ALLO', 'ALLR', 'ALNA', 'ALNY', 'ALPN', 'ALRN', 'ALT', 'ALVR', 'ALXO', 'ALZN', 'AMAM', 'AMLX', 'AMPE', 'AMRN', 'AMTI', 'ANAB', 'ANEB', 'ANGN', 'ANIK', 'ANNX', 'ANPC', 'ANTX', 'ANVS', 'APLS', 'APLT', 'APM', 'APRE', 'APTO', 'APTX', 'APVO', 'AQST', 'ARAV', 'ARCT', 'ARDS', 'ARDX', 'ARGX', 'ARMP', 'ARQT', 'ARTL', 'ARVN', 'ARWR', 'ASLN', 'ASMB', 'ASND', 'ATAI', 'ATHA', 'ATHE', 'ATHX', 'ATNF', 'ATNM', 'ATOS', 'ATRA', 'ATXI', 'ATXS', 'AUPH', 'AURA', 'AUTL', 'AVEO', 'AVIR', 'AVRO', 'AVTE', 'AVTX', 'AVXL', 'AXLA', 'AXSM', 'AYLA', 'AYTU', 'BBI', 'BBIO', 'BCAB', 'BCDA', 'BCEL', 'BCLI', 'BCRX', 'BCTX', 'BCYC', 'BDTX', 'BEAM', 'BGNE', 'BHVN', 'BIOR', 'BIVI', 'BLCM', 'BLI', 'BLPH', 'BLRX', 'BLTE', 'BLU', 'BLUE', 'BMEA', 'BMRN', 'BNOX', 'BNTC', 'BNTX', 'BOLT', 'BPMC', 'BPTH', 'BPTS', 'BRTX', 'BTAI', 'BTTX', 'BTX', 'BVXV', 'BWV', 'BXRX', 'BYSI', 'CABA', 'CADL', 'CALA', 'CALT', 'CANF', 'CAPR', 'CARA', 'CASI', 'CBAY', 'CBIO', 'CCCC', 'CCXI', 'CDAK', 'CDMO', 'CDTX', 'CDXC', 'CDXS', 'CELU', 'CELZ', 'CERE', 'CERS', 'CFRX', 'CGEM', 'CGEN', 'CGTX', 'CHRS', 'CINC', 'CING', 'CKPT', 'CLBS', 'CLDX', 'CLGN', 'CLLS', 'CLNN', 'CLRB', 'CLSD', 'CLSN', 'CLVS', 'CMMB', 'CMPX', 'CMRA', 'CMRX', 'CNCE', 'CNSP', 'CNTA', 'CNTB', 'CNTX', 'COCP', 'COGT', 'CORT', 'CPRX', 'CRBP', 'CRBU', 'CRDF', 'CRIS', 'CRMD', 'CRNX', 'CRSP', 'CRTX', 'CRVS', 'CSBR', 'CTIC', 'CTMX', 'CTXR', 'CUE', 'CVAC', 'CVM', 'CWBR', 'CYAD', 'CYBN', 'CYCC', 'CYCN', 'CYT', 'CYTK', 'CYTO', 'DARE', 'DAWN', 'DBTX', 'DBVT', 'DCPH', 'DFFN', 'DICE', 'DMAC', 'DNA', 'DNLI', 'DRMA', 'DRTS', 'DRUG', 'DSGN', 'DTIL', 'DVAX', 'DYAI', 'DYN', 'EDIT', 'EDSA', 'EFTR', 'EIGR', 'ELDN', 'ELEV', 'ELOX', 'ELYM', 'ENLV', 'ENOB', 'ENSC', 'ENTA']\n",
      "count 260\n"
     ]
    }
   ],
   "source": [
    "rlist = ['181','201','221','241']\n",
    "for page in rlist:\n",
    "    get_tickers_from_page(page)\n",
    "    \n",
    "print(tickerRegList)\n",
    "\n",
    "print('count',len(tickerRegList))"
   ]
  },
  {
   "cell_type": "code",
   "execution_count": 10,
   "id": "e356aaf1-a1e6-469b-94b0-b4d39b6ad614",
   "metadata": {},
   "outputs": [
    {
     "name": "stdout",
     "output_type": "stream",
     "text": [
      "['AADI', 'ABCL', 'ABCM', 'ABEO', 'ABIO', 'ABOS', 'ABSI', 'ABUS', 'ABVC', 'ACAD', 'ACER', 'ACET', 'ACHL', 'ACHV', 'ACIU', 'ACLX', 'ACOR', 'ACRS', 'ACST', 'ACXP', 'ADAG', 'ADAP', 'ADCT', 'ADGI', 'ADIL', 'ADMA', 'ADPT', 'ADTX', 'ADVM', 'ADXN', 'AEZS', 'AFMD', 'AGE', 'AGEN', 'AGIO', 'AGLE', 'AGTC', 'AIKI', 'AIM', 'AKBA', 'AKRO', 'AKTX', 'AKUS', 'ALBO', 'ALDX', 'ALEC', 'ALGS', 'ALKS', 'ALLK', 'ALLO', 'ALLR', 'ALNA', 'ALNY', 'ALPN', 'ALRN', 'ALT', 'ALVR', 'ALXO', 'ALZN', 'AMAM', 'AMLX', 'AMPE', 'AMRN', 'AMTI', 'ANAB', 'ANEB', 'ANGN', 'ANIK', 'ANNX', 'ANPC', 'ANTX', 'ANVS', 'APLS', 'APLT', 'APM', 'APRE', 'APTO', 'APTX', 'APVO', 'AQST', 'ARAV', 'ARCT', 'ARDS', 'ARDX', 'ARGX', 'ARMP', 'ARQT', 'ARTL', 'ARVN', 'ARWR', 'ASLN', 'ASMB', 'ASND', 'ATAI', 'ATHA', 'ATHE', 'ATHX', 'ATNF', 'ATNM', 'ATOS', 'ATRA', 'ATXI', 'ATXS', 'AUPH', 'AURA', 'AUTL', 'AVEO', 'AVIR', 'AVRO', 'AVTE', 'AVTX', 'AVXL', 'AXLA', 'AXSM', 'AYLA', 'AYTU', 'BBI', 'BBIO', 'BCAB', 'BCDA', 'BCEL', 'BCLI', 'BCRX', 'BCTX', 'BCYC', 'BDTX', 'BEAM', 'BGNE', 'BHVN', 'BIOR', 'BIVI', 'BLCM', 'BLI', 'BLPH', 'BLRX', 'BLTE', 'BLU', 'BLUE', 'BMEA', 'BMRN', 'BNOX', 'BNTC', 'BNTX', 'BOLT', 'BPMC', 'BPTH', 'BPTS', 'BRTX', 'BTAI', 'BTTX', 'BTX', 'BVXV', 'BWV', 'BXRX', 'BYSI', 'CABA', 'CADL', 'CALA', 'CALT', 'CANF', 'CAPR', 'CARA', 'CASI', 'CBAY', 'CBIO', 'CCCC', 'CCXI', 'CDAK', 'CDMO', 'CDTX', 'CDXC', 'CDXS', 'CELU', 'CELZ', 'CERE', 'CERS', 'CFRX', 'CGEM', 'CGEN', 'CGTX', 'CHRS', 'CINC', 'CING', 'CKPT', 'CLBS', 'CLDX', 'CLGN', 'CLLS', 'CLNN', 'CLRB', 'CLSD', 'CLSN', 'CLVS', 'CMMB', 'CMPX', 'CMRA', 'CMRX', 'CNCE', 'CNSP', 'CNTA', 'CNTB', 'CNTX', 'COCP', 'COGT', 'CORT', 'CPRX', 'CRBP', 'CRBU', 'CRDF', 'CRIS', 'CRMD', 'CRNX', 'CRSP', 'CRTX', 'CRVS', 'CSBR', 'CTIC', 'CTMX', 'CTXR', 'CUE', 'CVAC', 'CVM', 'CWBR', 'CYAD', 'CYBN', 'CYCC', 'CYCN', 'CYT', 'CYTK', 'CYTO', 'DARE', 'DAWN', 'DBTX', 'DBVT', 'DCPH', 'DFFN', 'DICE', 'DMAC', 'DNA', 'DNLI', 'DRMA', 'DRTS', 'DRUG', 'DSGN', 'DTIL', 'DVAX', 'DYAI', 'DYN', 'EDIT', 'EDSA', 'EFTR', 'EIGR', 'ELDN', 'ELEV', 'ELOX', 'ELYM', 'ENLV', 'ENOB', 'ENSC', 'ENTA', 'ENTX', 'ENVB', 'EPIX', 'EPZM', 'EQ', 'EQRX', 'ERAS', 'ERYP', 'ESPR', 'ETNB', 'ETON', 'EVAX', 'EVFM', 'EVGN', 'EVLO', 'EWTX', 'EXAI', 'EXEL', 'EYEN', 'EYPT', 'FATE', 'FBIO', 'FBIOP', 'FBRX', 'FDMT', 'FENC', 'FGEN', 'FHTX', 'FIXX', 'FMTX', 'FNCH', 'FOLD', 'FREQ', 'FRLN', 'FSTX', 'FULC', 'FUSN', 'FWBI', 'FWP', 'GALT', 'GANX', 'GBIO', 'GBT', 'GERN', 'GHRS', 'GLMD', 'GLPG', 'GLS', 'GLSI', 'GLTO', 'GLUE', 'GLYC', 'GMAB', 'GMDA', 'GMTX', 'GNFT', 'GNPX', 'GNTA', 'GOSS', 'GOVX', 'GRAY', 'GRCL', 'GRNA', 'GRPH', 'GRTS', 'GRTX', 'GTBP', 'GTHX', 'HALO', 'HARP', 'HCWB', 'HEPA', 'HGEN', 'HILS', 'HOOK', 'HOTH', 'HOWL', 'HRMY', 'HRTX', 'HSTO']\n",
      "count 340\n"
     ]
    }
   ],
   "source": [
    "rlist = ['261','281','301','321']\n",
    "for page in rlist:\n",
    "    get_tickers_from_page(page)\n",
    "    \n",
    "print(tickerRegList)\n",
    "\n",
    "print('count',len(tickerRegList))"
   ]
  },
  {
   "cell_type": "code",
   "execution_count": 11,
   "id": "78241760-8064-459d-b0fe-3e3375eec1f4",
   "metadata": {},
   "outputs": [
    {
     "name": "stdout",
     "output_type": "stream",
     "text": [
      "['AADI', 'ABCL', 'ABCM', 'ABEO', 'ABIO', 'ABOS', 'ABSI', 'ABUS', 'ABVC', 'ACAD', 'ACER', 'ACET', 'ACHL', 'ACHV', 'ACIU', 'ACLX', 'ACOR', 'ACRS', 'ACST', 'ACXP', 'ADAG', 'ADAP', 'ADCT', 'ADGI', 'ADIL', 'ADMA', 'ADPT', 'ADTX', 'ADVM', 'ADXN', 'AEZS', 'AFMD', 'AGE', 'AGEN', 'AGIO', 'AGLE', 'AGTC', 'AIKI', 'AIM', 'AKBA', 'AKRO', 'AKTX', 'AKUS', 'ALBO', 'ALDX', 'ALEC', 'ALGS', 'ALKS', 'ALLK', 'ALLO', 'ALLR', 'ALNA', 'ALNY', 'ALPN', 'ALRN', 'ALT', 'ALVR', 'ALXO', 'ALZN', 'AMAM', 'AMLX', 'AMPE', 'AMRN', 'AMTI', 'ANAB', 'ANEB', 'ANGN', 'ANIK', 'ANNX', 'ANPC', 'ANTX', 'ANVS', 'APLS', 'APLT', 'APM', 'APRE', 'APTO', 'APTX', 'APVO', 'AQST', 'ARAV', 'ARCT', 'ARDS', 'ARDX', 'ARGX', 'ARMP', 'ARQT', 'ARTL', 'ARVN', 'ARWR', 'ASLN', 'ASMB', 'ASND', 'ATAI', 'ATHA', 'ATHE', 'ATHX', 'ATNF', 'ATNM', 'ATOS', 'ATRA', 'ATXI', 'ATXS', 'AUPH', 'AURA', 'AUTL', 'AVEO', 'AVIR', 'AVRO', 'AVTE', 'AVTX', 'AVXL', 'AXLA', 'AXSM', 'AYLA', 'AYTU', 'BBI', 'BBIO', 'BCAB', 'BCDA', 'BCEL', 'BCLI', 'BCRX', 'BCTX', 'BCYC', 'BDTX', 'BEAM', 'BGNE', 'BHVN', 'BIOR', 'BIVI', 'BLCM', 'BLI', 'BLPH', 'BLRX', 'BLTE', 'BLU', 'BLUE', 'BMEA', 'BMRN', 'BNOX', 'BNTC', 'BNTX', 'BOLT', 'BPMC', 'BPTH', 'BPTS', 'BRTX', 'BTAI', 'BTTX', 'BTX', 'BVXV', 'BWV', 'BXRX', 'BYSI', 'CABA', 'CADL', 'CALA', 'CALT', 'CANF', 'CAPR', 'CARA', 'CASI', 'CBAY', 'CBIO', 'CCCC', 'CCXI', 'CDAK', 'CDMO', 'CDTX', 'CDXC', 'CDXS', 'CELU', 'CELZ', 'CERE', 'CERS', 'CFRX', 'CGEM', 'CGEN', 'CGTX', 'CHRS', 'CINC', 'CING', 'CKPT', 'CLBS', 'CLDX', 'CLGN', 'CLLS', 'CLNN', 'CLRB', 'CLSD', 'CLSN', 'CLVS', 'CMMB', 'CMPX', 'CMRA', 'CMRX', 'CNCE', 'CNSP', 'CNTA', 'CNTB', 'CNTX', 'COCP', 'COGT', 'CORT', 'CPRX', 'CRBP', 'CRBU', 'CRDF', 'CRIS', 'CRMD', 'CRNX', 'CRSP', 'CRTX', 'CRVS', 'CSBR', 'CTIC', 'CTMX', 'CTXR', 'CUE', 'CVAC', 'CVM', 'CWBR', 'CYAD', 'CYBN', 'CYCC', 'CYCN', 'CYT', 'CYTK', 'CYTO', 'DARE', 'DAWN', 'DBTX', 'DBVT', 'DCPH', 'DFFN', 'DICE', 'DMAC', 'DNA', 'DNLI', 'DRMA', 'DRTS', 'DRUG', 'DSGN', 'DTIL', 'DVAX', 'DYAI', 'DYN', 'EDIT', 'EDSA', 'EFTR', 'EIGR', 'ELDN', 'ELEV', 'ELOX', 'ELYM', 'ENLV', 'ENOB', 'ENSC', 'ENTA', 'ENTX', 'ENVB', 'EPIX', 'EPZM', 'EQ', 'EQRX', 'ERAS', 'ERYP', 'ESPR', 'ETNB', 'ETON', 'EVAX', 'EVFM', 'EVGN', 'EVLO', 'EWTX', 'EXAI', 'EXEL', 'EYEN', 'EYPT', 'FATE', 'FBIO', 'FBIOP', 'FBRX', 'FDMT', 'FENC', 'FGEN', 'FHTX', 'FIXX', 'FMTX', 'FNCH', 'FOLD', 'FREQ', 'FRLN', 'FSTX', 'FULC', 'FUSN', 'FWBI', 'FWP', 'GALT', 'GANX', 'GBIO', 'GBT', 'GERN', 'GHRS', 'GLMD', 'GLPG', 'GLS', 'GLSI', 'GLTO', 'GLUE', 'GLYC', 'GMAB', 'GMDA', 'GMTX', 'GNFT', 'GNPX', 'GNTA', 'GOSS', 'GOVX', 'GRAY', 'GRCL', 'GRNA', 'GRPH', 'GRTS', 'GRTX', 'GTBP', 'GTHX', 'HALO', 'HARP', 'HCWB', 'HEPA', 'HGEN', 'HILS', 'HOOK', 'HOTH', 'HOWL', 'HRMY', 'HRTX', 'HSTO', 'HUMA', 'IBIO', 'IBRX', 'ICCC', 'ICPT', 'ICVX', 'IDRA', 'IDYA', 'IFRX', 'IGMS', 'IKNA', 'IKT', 'IMAB', 'IMCR', 'IMGN', 'IMGO', 'IMMP', 'IMMX', 'IMNM', 'IMPL', 'IMRA', 'IMRN', 'IMRX', 'IMTX', 'IMUX', 'IMV', 'IMVT', 'INAB', 'INBX', 'INCY', 'INDP', 'INFI', 'INKT', 'INM', 'INMB', 'INO', 'INSM', 'INVA', 'INZY', 'IOBT', 'IONS', 'IOVA', 'IPA', 'IPHA', 'IPSC', 'ISEE', 'ITCI', 'ITOS', 'ITRM', 'IVA', 'JAGX', 'JANX', 'JAZZ', 'JNCE', 'JSPR', 'KALA', 'KALV', 'KDNY', 'KMPH', 'KNSA', 'KNTE', 'KOD', 'KPRX', 'KPTI', 'KRBP', 'KRON', 'KROS', 'KRTX', 'KRYS', 'KTRA', 'KTTA', 'KURA', 'KYMR', 'KZIA', 'KZR', 'LABP', 'LBPH', 'LCTX', 'LEGN', 'LEXX']\n",
      "count 420\n"
     ]
    }
   ],
   "source": [
    "rlist = ['341','361','381','401']\n",
    "for page in rlist:\n",
    "    get_tickers_from_page(page)\n",
    "    \n",
    "print(tickerRegList)\n",
    "\n",
    "print('count',len(tickerRegList))"
   ]
  },
  {
   "cell_type": "code",
   "execution_count": 12,
   "id": "78e76c3c-6909-400a-8653-fcf066c3d8f3",
   "metadata": {},
   "outputs": [
    {
     "name": "stdout",
     "output_type": "stream",
     "text": [
      "['AADI', 'ABCL', 'ABCM', 'ABEO', 'ABIO', 'ABOS', 'ABSI', 'ABUS', 'ABVC', 'ACAD', 'ACER', 'ACET', 'ACHL', 'ACHV', 'ACIU', 'ACLX', 'ACOR', 'ACRS', 'ACST', 'ACXP', 'ADAG', 'ADAP', 'ADCT', 'ADGI', 'ADIL', 'ADMA', 'ADPT', 'ADTX', 'ADVM', 'ADXN', 'AEZS', 'AFMD', 'AGE', 'AGEN', 'AGIO', 'AGLE', 'AGTC', 'AIKI', 'AIM', 'AKBA', 'AKRO', 'AKTX', 'AKUS', 'ALBO', 'ALDX', 'ALEC', 'ALGS', 'ALKS', 'ALLK', 'ALLO', 'ALLR', 'ALNA', 'ALNY', 'ALPN', 'ALRN', 'ALT', 'ALVR', 'ALXO', 'ALZN', 'AMAM', 'AMLX', 'AMPE', 'AMRN', 'AMTI', 'ANAB', 'ANEB', 'ANGN', 'ANIK', 'ANNX', 'ANPC', 'ANTX', 'ANVS', 'APLS', 'APLT', 'APM', 'APRE', 'APTO', 'APTX', 'APVO', 'AQST', 'ARAV', 'ARCT', 'ARDS', 'ARDX', 'ARGX', 'ARMP', 'ARQT', 'ARTL', 'ARVN', 'ARWR', 'ASLN', 'ASMB', 'ASND', 'ATAI', 'ATHA', 'ATHE', 'ATHX', 'ATNF', 'ATNM', 'ATOS', 'ATRA', 'ATXI', 'ATXS', 'AUPH', 'AURA', 'AUTL', 'AVEO', 'AVIR', 'AVRO', 'AVTE', 'AVTX', 'AVXL', 'AXLA', 'AXSM', 'AYLA', 'AYTU', 'BBI', 'BBIO', 'BCAB', 'BCDA', 'BCEL', 'BCLI', 'BCRX', 'BCTX', 'BCYC', 'BDTX', 'BEAM', 'BGNE', 'BHVN', 'BIOR', 'BIVI', 'BLCM', 'BLI', 'BLPH', 'BLRX', 'BLTE', 'BLU', 'BLUE', 'BMEA', 'BMRN', 'BNOX', 'BNTC', 'BNTX', 'BOLT', 'BPMC', 'BPTH', 'BPTS', 'BRTX', 'BTAI', 'BTTX', 'BTX', 'BVXV', 'BWV', 'BXRX', 'BYSI', 'CABA', 'CADL', 'CALA', 'CALT', 'CANF', 'CAPR', 'CARA', 'CASI', 'CBAY', 'CBIO', 'CCCC', 'CCXI', 'CDAK', 'CDMO', 'CDTX', 'CDXC', 'CDXS', 'CELU', 'CELZ', 'CERE', 'CERS', 'CFRX', 'CGEM', 'CGEN', 'CGTX', 'CHRS', 'CINC', 'CING', 'CKPT', 'CLBS', 'CLDX', 'CLGN', 'CLLS', 'CLNN', 'CLRB', 'CLSD', 'CLSN', 'CLVS', 'CMMB', 'CMPX', 'CMRA', 'CMRX', 'CNCE', 'CNSP', 'CNTA', 'CNTB', 'CNTX', 'COCP', 'COGT', 'CORT', 'CPRX', 'CRBP', 'CRBU', 'CRDF', 'CRIS', 'CRMD', 'CRNX', 'CRSP', 'CRTX', 'CRVS', 'CSBR', 'CTIC', 'CTMX', 'CTXR', 'CUE', 'CVAC', 'CVM', 'CWBR', 'CYAD', 'CYBN', 'CYCC', 'CYCN', 'CYT', 'CYTK', 'CYTO', 'DARE', 'DAWN', 'DBTX', 'DBVT', 'DCPH', 'DFFN', 'DICE', 'DMAC', 'DNA', 'DNLI', 'DRMA', 'DRTS', 'DRUG', 'DSGN', 'DTIL', 'DVAX', 'DYAI', 'DYN', 'EDIT', 'EDSA', 'EFTR', 'EIGR', 'ELDN', 'ELEV', 'ELOX', 'ELYM', 'ENLV', 'ENOB', 'ENSC', 'ENTA', 'ENTX', 'ENVB', 'EPIX', 'EPZM', 'EQ', 'EQRX', 'ERAS', 'ERYP', 'ESPR', 'ETNB', 'ETON', 'EVAX', 'EVFM', 'EVGN', 'EVLO', 'EWTX', 'EXAI', 'EXEL', 'EYEN', 'EYPT', 'FATE', 'FBIO', 'FBIOP', 'FBRX', 'FDMT', 'FENC', 'FGEN', 'FHTX', 'FIXX', 'FMTX', 'FNCH', 'FOLD', 'FREQ', 'FRLN', 'FSTX', 'FULC', 'FUSN', 'FWBI', 'FWP', 'GALT', 'GANX', 'GBIO', 'GBT', 'GERN', 'GHRS', 'GLMD', 'GLPG', 'GLS', 'GLSI', 'GLTO', 'GLUE', 'GLYC', 'GMAB', 'GMDA', 'GMTX', 'GNFT', 'GNPX', 'GNTA', 'GOSS', 'GOVX', 'GRAY', 'GRCL', 'GRNA', 'GRPH', 'GRTS', 'GRTX', 'GTBP', 'GTHX', 'HALO', 'HARP', 'HCWB', 'HEPA', 'HGEN', 'HILS', 'HOOK', 'HOTH', 'HOWL', 'HRMY', 'HRTX', 'HSTO', 'HUMA', 'IBIO', 'IBRX', 'ICCC', 'ICPT', 'ICVX', 'IDRA', 'IDYA', 'IFRX', 'IGMS', 'IKNA', 'IKT', 'IMAB', 'IMCR', 'IMGN', 'IMGO', 'IMMP', 'IMMX', 'IMNM', 'IMPL', 'IMRA', 'IMRN', 'IMRX', 'IMTX', 'IMUX', 'IMV', 'IMVT', 'INAB', 'INBX', 'INCY', 'INDP', 'INFI', 'INKT', 'INM', 'INMB', 'INO', 'INSM', 'INVA', 'INZY', 'IOBT', 'IONS', 'IOVA', 'IPA', 'IPHA', 'IPSC', 'ISEE', 'ITCI', 'ITOS', 'ITRM', 'IVA', 'JAGX', 'JANX', 'JAZZ', 'JNCE', 'JSPR', 'KALA', 'KALV', 'KDNY', 'KMPH', 'KNSA', 'KNTE', 'KOD', 'KPRX', 'KPTI', 'KRBP', 'KRON', 'KROS', 'KRTX', 'KRYS', 'KTRA', 'KTTA', 'KURA', 'KYMR', 'KZIA', 'KZR', 'LABP', 'LBPH', 'LCTX', 'LEGN', 'LEXX', 'LGND', 'LGVN', 'LIAN', 'LIFE', 'LIXT', 'LJPC', 'LMNL', 'LOGC', 'LPCN', 'LPTX', 'LQDA', 'LRMR', 'LTRN', 'LUMO', 'LVTX', 'LXRX', 'LYEL', 'LYRA', 'MACK', 'MBIO', 'MBRX', 'MCRB', 'MDGL', 'MDNA', 'MDWD', 'MEIP', 'MESO', 'MGNX', 'MGTA', 'MGTX', 'MIRM', 'MIRO', 'MIST', 'MITO', 'MLTX', 'MNKD', 'MNMD', 'MNOV', 'MNPR', 'MOLN', 'MOR', 'MORF', 'MREO', 'MRKR', 'MRNA', 'MRNS', 'MRSN', 'MRTX', 'MRUS', 'MRVI', 'MTCR', 'MTEM', 'MTNB', 'MTP', 'MYMD', 'MYOV', 'NAUT', 'NAVB', 'NBIX', 'NBRV', 'NBSE', 'NBTX', 'NBY', 'NCNA', 'NERV', 'NEXI', 'NGM', 'NHWK', 'NKTR', 'NKTX', 'NLSP', 'NMTR', 'NNVC', 'NOVN', 'NRBO', 'NRIX', 'NRSN', 'NRXP', 'NSTG', 'NTLA']\n",
      "count 500\n"
     ]
    }
   ],
   "source": [
    "rlist = ['421','441','461','481']\n",
    "for page in rlist:\n",
    "    get_tickers_from_page(page)\n",
    "    \n",
    "print(tickerRegList)\n",
    "\n",
    "print('count',len(tickerRegList))"
   ]
  },
  {
   "cell_type": "code",
   "execution_count": 13,
   "id": "37d3cb6f-1a68-41fe-a556-d17eb4249d91",
   "metadata": {},
   "outputs": [
    {
     "name": "stdout",
     "output_type": "stream",
     "text": [
      "['AADI', 'ABCL', 'ABCM', 'ABEO', 'ABIO', 'ABOS', 'ABSI', 'ABUS', 'ABVC', 'ACAD', 'ACER', 'ACET', 'ACHL', 'ACHV', 'ACIU', 'ACLX', 'ACOR', 'ACRS', 'ACST', 'ACXP', 'ADAG', 'ADAP', 'ADCT', 'ADGI', 'ADIL', 'ADMA', 'ADPT', 'ADTX', 'ADVM', 'ADXN', 'AEZS', 'AFMD', 'AGE', 'AGEN', 'AGIO', 'AGLE', 'AGTC', 'AIKI', 'AIM', 'AKBA', 'AKRO', 'AKTX', 'AKUS', 'ALBO', 'ALDX', 'ALEC', 'ALGS', 'ALKS', 'ALLK', 'ALLO', 'ALLR', 'ALNA', 'ALNY', 'ALPN', 'ALRN', 'ALT', 'ALVR', 'ALXO', 'ALZN', 'AMAM', 'AMLX', 'AMPE', 'AMRN', 'AMTI', 'ANAB', 'ANEB', 'ANGN', 'ANIK', 'ANNX', 'ANPC', 'ANTX', 'ANVS', 'APLS', 'APLT', 'APM', 'APRE', 'APTO', 'APTX', 'APVO', 'AQST', 'ARAV', 'ARCT', 'ARDS', 'ARDX', 'ARGX', 'ARMP', 'ARQT', 'ARTL', 'ARVN', 'ARWR', 'ASLN', 'ASMB', 'ASND', 'ATAI', 'ATHA', 'ATHE', 'ATHX', 'ATNF', 'ATNM', 'ATOS', 'ATRA', 'ATXI', 'ATXS', 'AUPH', 'AURA', 'AUTL', 'AVEO', 'AVIR', 'AVRO', 'AVTE', 'AVTX', 'AVXL', 'AXLA', 'AXSM', 'AYLA', 'AYTU', 'BBI', 'BBIO', 'BCAB', 'BCDA', 'BCEL', 'BCLI', 'BCRX', 'BCTX', 'BCYC', 'BDTX', 'BEAM', 'BGNE', 'BHVN', 'BIOR', 'BIVI', 'BLCM', 'BLI', 'BLPH', 'BLRX', 'BLTE', 'BLU', 'BLUE', 'BMEA', 'BMRN', 'BNOX', 'BNTC', 'BNTX', 'BOLT', 'BPMC', 'BPTH', 'BPTS', 'BRTX', 'BTAI', 'BTTX', 'BTX', 'BVXV', 'BWV', 'BXRX', 'BYSI', 'CABA', 'CADL', 'CALA', 'CALT', 'CANF', 'CAPR', 'CARA', 'CASI', 'CBAY', 'CBIO', 'CCCC', 'CCXI', 'CDAK', 'CDMO', 'CDTX', 'CDXC', 'CDXS', 'CELU', 'CELZ', 'CERE', 'CERS', 'CFRX', 'CGEM', 'CGEN', 'CGTX', 'CHRS', 'CINC', 'CING', 'CKPT', 'CLBS', 'CLDX', 'CLGN', 'CLLS', 'CLNN', 'CLRB', 'CLSD', 'CLSN', 'CLVS', 'CMMB', 'CMPX', 'CMRA', 'CMRX', 'CNCE', 'CNSP', 'CNTA', 'CNTB', 'CNTX', 'COCP', 'COGT', 'CORT', 'CPRX', 'CRBP', 'CRBU', 'CRDF', 'CRIS', 'CRMD', 'CRNX', 'CRSP', 'CRTX', 'CRVS', 'CSBR', 'CTIC', 'CTMX', 'CTXR', 'CUE', 'CVAC', 'CVM', 'CWBR', 'CYAD', 'CYBN', 'CYCC', 'CYCN', 'CYT', 'CYTK', 'CYTO', 'DARE', 'DAWN', 'DBTX', 'DBVT', 'DCPH', 'DFFN', 'DICE', 'DMAC', 'DNA', 'DNLI', 'DRMA', 'DRTS', 'DRUG', 'DSGN', 'DTIL', 'DVAX', 'DYAI', 'DYN', 'EDIT', 'EDSA', 'EFTR', 'EIGR', 'ELDN', 'ELEV', 'ELOX', 'ELYM', 'ENLV', 'ENOB', 'ENSC', 'ENTA', 'ENTX', 'ENVB', 'EPIX', 'EPZM', 'EQ', 'EQRX', 'ERAS', 'ERYP', 'ESPR', 'ETNB', 'ETON', 'EVAX', 'EVFM', 'EVGN', 'EVLO', 'EWTX', 'EXAI', 'EXEL', 'EYEN', 'EYPT', 'FATE', 'FBIO', 'FBIOP', 'FBRX', 'FDMT', 'FENC', 'FGEN', 'FHTX', 'FIXX', 'FMTX', 'FNCH', 'FOLD', 'FREQ', 'FRLN', 'FSTX', 'FULC', 'FUSN', 'FWBI', 'FWP', 'GALT', 'GANX', 'GBIO', 'GBT', 'GERN', 'GHRS', 'GLMD', 'GLPG', 'GLS', 'GLSI', 'GLTO', 'GLUE', 'GLYC', 'GMAB', 'GMDA', 'GMTX', 'GNFT', 'GNPX', 'GNTA', 'GOSS', 'GOVX', 'GRAY', 'GRCL', 'GRNA', 'GRPH', 'GRTS', 'GRTX', 'GTBP', 'GTHX', 'HALO', 'HARP', 'HCWB', 'HEPA', 'HGEN', 'HILS', 'HOOK', 'HOTH', 'HOWL', 'HRMY', 'HRTX', 'HSTO', 'HUMA', 'IBIO', 'IBRX', 'ICCC', 'ICPT', 'ICVX', 'IDRA', 'IDYA', 'IFRX', 'IGMS', 'IKNA', 'IKT', 'IMAB', 'IMCR', 'IMGN', 'IMGO', 'IMMP', 'IMMX', 'IMNM', 'IMPL', 'IMRA', 'IMRN', 'IMRX', 'IMTX', 'IMUX', 'IMV', 'IMVT', 'INAB', 'INBX', 'INCY', 'INDP', 'INFI', 'INKT', 'INM', 'INMB', 'INO', 'INSM', 'INVA', 'INZY', 'IOBT', 'IONS', 'IOVA', 'IPA', 'IPHA', 'IPSC', 'ISEE', 'ITCI', 'ITOS', 'ITRM', 'IVA', 'JAGX', 'JANX', 'JAZZ', 'JNCE', 'JSPR', 'KALA', 'KALV', 'KDNY', 'KMPH', 'KNSA', 'KNTE', 'KOD', 'KPRX', 'KPTI', 'KRBP', 'KRON', 'KROS', 'KRTX', 'KRYS', 'KTRA', 'KTTA', 'KURA', 'KYMR', 'KZIA', 'KZR', 'LABP', 'LBPH', 'LCTX', 'LEGN', 'LEXX', 'LGND', 'LGVN', 'LIAN', 'LIFE', 'LIXT', 'LJPC', 'LMNL', 'LOGC', 'LPCN', 'LPTX', 'LQDA', 'LRMR', 'LTRN', 'LUMO', 'LVTX', 'LXRX', 'LYEL', 'LYRA', 'MACK', 'MBIO', 'MBRX', 'MCRB', 'MDGL', 'MDNA', 'MDWD', 'MEIP', 'MESO', 'MGNX', 'MGTA', 'MGTX', 'MIRM', 'MIRO', 'MIST', 'MITO', 'MLTX', 'MNKD', 'MNMD', 'MNOV', 'MNPR', 'MOLN', 'MOR', 'MORF', 'MREO', 'MRKR', 'MRNA', 'MRNS', 'MRSN', 'MRTX', 'MRUS', 'MRVI', 'MTCR', 'MTEM', 'MTNB', 'MTP', 'MYMD', 'MYOV', 'NAUT', 'NAVB', 'NBIX', 'NBRV', 'NBSE', 'NBTX', 'NBY', 'NCNA', 'NERV', 'NEXI', 'NGM', 'NHWK', 'NKTR', 'NKTX', 'NLSP', 'NMTR', 'NNVC', 'NOVN', 'NRBO', 'NRIX', 'NRSN', 'NRXP', 'NSTG', 'NTLA', 'NTRB', 'NTRBW', 'NUVB', 'NUVL', 'NVAX', 'NVCT', 'NVIV', 'NXTC', 'NYMX', 'OBSV', 'OCGN', 'OCUL', 'OCUP', 'OCX', 'OGEN', 'OLMA', 'OMER', 'OMGA', 'ONCR', 'ONCS', 'ONCT', 'ONCY', 'ONTX', 'OPNT', 'OPT', 'ORGS', 'ORIC', 'ORMP', 'ORTX', 'OTIC', 'OTLK', 'OVID', 'OYST', 'PALI', 'PASG', 'PBLA', 'PBYI', 'PCSA', 'PCVX', 'PDSB', 'PEPG', 'PGEN', 'PHAR', 'PHAS', 'PHAT', 'PHIO', 'PHVS', 'PIRS', 'PLRX', 'PLX', 'PMCB', 'PMVP', 'PNT', 'PPBT', 'PRAX', 'PRDS', 'PRLD', 'PROK', 'PRQR', 'PRTA', 'PRTG', 'PRTK', 'PRVB', 'PSNL', 'PSTI', 'PSTV', 'PSTX', 'PTCT', 'PTE', 'PTGX', 'PTIX', 'PTN', 'PULM', 'PYPD', 'PYXS', 'QLGN', 'QNRX', 'QSI', 'QURE', 'RAIN']\n",
      "count 580\n"
     ]
    }
   ],
   "source": [
    "rlist = ['501','521','541','561']\n",
    "for page in rlist:\n",
    "    get_tickers_from_page(page)\n",
    "    \n",
    "print(tickerRegList)\n",
    "\n",
    "print('count',len(tickerRegList))"
   ]
  },
  {
   "cell_type": "code",
   "execution_count": 14,
   "id": "1661fc1f-ae09-46a6-a6e4-45e13230ee70",
   "metadata": {},
   "outputs": [
    {
     "name": "stdout",
     "output_type": "stream",
     "text": [
      "['AADI', 'ABCL', 'ABCM', 'ABEO', 'ABIO', 'ABOS', 'ABSI', 'ABUS', 'ABVC', 'ACAD', 'ACER', 'ACET', 'ACHL', 'ACHV', 'ACIU', 'ACLX', 'ACOR', 'ACRS', 'ACST', 'ACXP', 'ADAG', 'ADAP', 'ADCT', 'ADGI', 'ADIL', 'ADMA', 'ADPT', 'ADTX', 'ADVM', 'ADXN', 'AEZS', 'AFMD', 'AGE', 'AGEN', 'AGIO', 'AGLE', 'AGTC', 'AIKI', 'AIM', 'AKBA', 'AKRO', 'AKTX', 'AKUS', 'ALBO', 'ALDX', 'ALEC', 'ALGS', 'ALKS', 'ALLK', 'ALLO', 'ALLR', 'ALNA', 'ALNY', 'ALPN', 'ALRN', 'ALT', 'ALVR', 'ALXO', 'ALZN', 'AMAM', 'AMLX', 'AMPE', 'AMRN', 'AMTI', 'ANAB', 'ANEB', 'ANGN', 'ANIK', 'ANNX', 'ANPC', 'ANTX', 'ANVS', 'APLS', 'APLT', 'APM', 'APRE', 'APTO', 'APTX', 'APVO', 'AQST', 'ARAV', 'ARCT', 'ARDS', 'ARDX', 'ARGX', 'ARMP', 'ARQT', 'ARTL', 'ARVN', 'ARWR', 'ASLN', 'ASMB', 'ASND', 'ATAI', 'ATHA', 'ATHE', 'ATHX', 'ATNF', 'ATNM', 'ATOS', 'ATRA', 'ATXI', 'ATXS', 'AUPH', 'AURA', 'AUTL', 'AVEO', 'AVIR', 'AVRO', 'AVTE', 'AVTX', 'AVXL', 'AXLA', 'AXSM', 'AYLA', 'AYTU', 'BBI', 'BBIO', 'BCAB', 'BCDA', 'BCEL', 'BCLI', 'BCRX', 'BCTX', 'BCYC', 'BDTX', 'BEAM', 'BGNE', 'BHVN', 'BIOR', 'BIVI', 'BLCM', 'BLI', 'BLPH', 'BLRX', 'BLTE', 'BLU', 'BLUE', 'BMEA', 'BMRN', 'BNOX', 'BNTC', 'BNTX', 'BOLT', 'BPMC', 'BPTH', 'BPTS', 'BRTX', 'BTAI', 'BTTX', 'BTX', 'BVXV', 'BWV', 'BXRX', 'BYSI', 'CABA', 'CADL', 'CALA', 'CALT', 'CANF', 'CAPR', 'CARA', 'CASI', 'CBAY', 'CBIO', 'CCCC', 'CCXI', 'CDAK', 'CDMO', 'CDTX', 'CDXC', 'CDXS', 'CELU', 'CELZ', 'CERE', 'CERS', 'CFRX', 'CGEM', 'CGEN', 'CGTX', 'CHRS', 'CINC', 'CING', 'CKPT', 'CLBS', 'CLDX', 'CLGN', 'CLLS', 'CLNN', 'CLRB', 'CLSD', 'CLSN', 'CLVS', 'CMMB', 'CMPX', 'CMRA', 'CMRX', 'CNCE', 'CNSP', 'CNTA', 'CNTB', 'CNTX', 'COCP', 'COGT', 'CORT', 'CPRX', 'CRBP', 'CRBU', 'CRDF', 'CRIS', 'CRMD', 'CRNX', 'CRSP', 'CRTX', 'CRVS', 'CSBR', 'CTIC', 'CTMX', 'CTXR', 'CUE', 'CVAC', 'CVM', 'CWBR', 'CYAD', 'CYBN', 'CYCC', 'CYCN', 'CYT', 'CYTK', 'CYTO', 'DARE', 'DAWN', 'DBTX', 'DBVT', 'DCPH', 'DFFN', 'DICE', 'DMAC', 'DNA', 'DNLI', 'DRMA', 'DRTS', 'DRUG', 'DSGN', 'DTIL', 'DVAX', 'DYAI', 'DYN', 'EDIT', 'EDSA', 'EFTR', 'EIGR', 'ELDN', 'ELEV', 'ELOX', 'ELYM', 'ENLV', 'ENOB', 'ENSC', 'ENTA', 'ENTX', 'ENVB', 'EPIX', 'EPZM', 'EQ', 'EQRX', 'ERAS', 'ERYP', 'ESPR', 'ETNB', 'ETON', 'EVAX', 'EVFM', 'EVGN', 'EVLO', 'EWTX', 'EXAI', 'EXEL', 'EYEN', 'EYPT', 'FATE', 'FBIO', 'FBIOP', 'FBRX', 'FDMT', 'FENC', 'FGEN', 'FHTX', 'FIXX', 'FMTX', 'FNCH', 'FOLD', 'FREQ', 'FRLN', 'FSTX', 'FULC', 'FUSN', 'FWBI', 'FWP', 'GALT', 'GANX', 'GBIO', 'GBT', 'GERN', 'GHRS', 'GLMD', 'GLPG', 'GLS', 'GLSI', 'GLTO', 'GLUE', 'GLYC', 'GMAB', 'GMDA', 'GMTX', 'GNFT', 'GNPX', 'GNTA', 'GOSS', 'GOVX', 'GRAY', 'GRCL', 'GRNA', 'GRPH', 'GRTS', 'GRTX', 'GTBP', 'GTHX', 'HALO', 'HARP', 'HCWB', 'HEPA', 'HGEN', 'HILS', 'HOOK', 'HOTH', 'HOWL', 'HRMY', 'HRTX', 'HSTO', 'HUMA', 'IBIO', 'IBRX', 'ICCC', 'ICPT', 'ICVX', 'IDRA', 'IDYA', 'IFRX', 'IGMS', 'IKNA', 'IKT', 'IMAB', 'IMCR', 'IMGN', 'IMGO', 'IMMP', 'IMMX', 'IMNM', 'IMPL', 'IMRA', 'IMRN', 'IMRX', 'IMTX', 'IMUX', 'IMV', 'IMVT', 'INAB', 'INBX', 'INCY', 'INDP', 'INFI', 'INKT', 'INM', 'INMB', 'INO', 'INSM', 'INVA', 'INZY', 'IOBT', 'IONS', 'IOVA', 'IPA', 'IPHA', 'IPSC', 'ISEE', 'ITCI', 'ITOS', 'ITRM', 'IVA', 'JAGX', 'JANX', 'JAZZ', 'JNCE', 'JSPR', 'KALA', 'KALV', 'KDNY', 'KMPH', 'KNSA', 'KNTE', 'KOD', 'KPRX', 'KPTI', 'KRBP', 'KRON', 'KROS', 'KRTX', 'KRYS', 'KTRA', 'KTTA', 'KURA', 'KYMR', 'KZIA', 'KZR', 'LABP', 'LBPH', 'LCTX', 'LEGN', 'LEXX', 'LGND', 'LGVN', 'LIAN', 'LIFE', 'LIXT', 'LJPC', 'LMNL', 'LOGC', 'LPCN', 'LPTX', 'LQDA', 'LRMR', 'LTRN', 'LUMO', 'LVTX', 'LXRX', 'LYEL', 'LYRA', 'MACK', 'MBIO', 'MBRX', 'MCRB', 'MDGL', 'MDNA', 'MDWD', 'MEIP', 'MESO', 'MGNX', 'MGTA', 'MGTX', 'MIRM', 'MIRO', 'MIST', 'MITO', 'MLTX', 'MNKD', 'MNMD', 'MNOV', 'MNPR', 'MOLN', 'MOR', 'MORF', 'MREO', 'MRKR', 'MRNA', 'MRNS', 'MRSN', 'MRTX', 'MRUS', 'MRVI', 'MTCR', 'MTEM', 'MTNB', 'MTP', 'MYMD', 'MYOV', 'NAUT', 'NAVB', 'NBIX', 'NBRV', 'NBSE', 'NBTX', 'NBY', 'NCNA', 'NERV', 'NEXI', 'NGM', 'NHWK', 'NKTR', 'NKTX', 'NLSP', 'NMTR', 'NNVC', 'NOVN', 'NRBO', 'NRIX', 'NRSN', 'NRXP', 'NSTG', 'NTLA', 'NTRB', 'NTRBW', 'NUVB', 'NUVL', 'NVAX', 'NVCT', 'NVIV', 'NXTC', 'NYMX', 'OBSV', 'OCGN', 'OCUL', 'OCUP', 'OCX', 'OGEN', 'OLMA', 'OMER', 'OMGA', 'ONCR', 'ONCS', 'ONCT', 'ONCY', 'ONTX', 'OPNT', 'OPT', 'ORGS', 'ORIC', 'ORMP', 'ORTX', 'OTIC', 'OTLK', 'OVID', 'OYST', 'PALI', 'PASG', 'PBLA', 'PBYI', 'PCSA', 'PCVX', 'PDSB', 'PEPG', 'PGEN', 'PHAR', 'PHAS', 'PHAT', 'PHIO', 'PHVS', 'PIRS', 'PLRX', 'PLX', 'PMCB', 'PMVP', 'PNT', 'PPBT', 'PRAX', 'PRDS', 'PRLD', 'PROK', 'PRQR', 'PRTA', 'PRTG', 'PRTK', 'PRVB', 'PSNL', 'PSTI', 'PSTV', 'PSTX', 'PTCT', 'PTE', 'PTGX', 'PTIX', 'PTN', 'PULM', 'PYPD', 'PYXS', 'QLGN', 'QNRX', 'QSI', 'QURE', 'RAIN', 'RANI', 'RAPT', 'RARE', 'RCKT', 'RCOR', 'RCUS', 'REGN', 'REPL', 'RETA', 'REVB', 'RFL', 'RGLS', 'RGNX', 'RIGL', 'RLAY', 'RLYB', 'RNA', 'RNAZ', 'RNXT', 'ROIV', 'RPHM', 'RPRX', 'RPTX', 'RUBY', 'RVLP', 'RVMD', 'RVNC', 'RVPH', 'RXDX', 'RXRX', 'RYTM', 'RZLT', 'SABS', 'SAGE', 'SANA', 'SAVA', 'SBTX', 'SCPH', 'SCPS', 'SEEL', 'SEER', 'SELB', 'SESN', 'SGEN', 'SGMO', 'SGTX', 'SIGA', 'SIOX', 'SLGL', 'SLRX', 'SLS', 'SMMT', 'SNDX', 'SNGX', 'SNPX', 'SNSE', 'SNTI', 'SONN', 'SPPI', 'SPRB', 'SPRC', 'SPRO', 'SQZ', 'SRNE', 'SRPT', 'SRRK', 'SRZN', 'SRZNW', 'STAB', 'STOK', 'STRO', 'STSA', 'STTK', 'SURF', 'SVRA', 'SWTX', 'SYBX', 'SYN', 'SYRS', 'TALS']\n",
      "count 660\n"
     ]
    }
   ],
   "source": [
    "rlist = ['581','601','621','641']\n",
    "for page in rlist:\n",
    "    get_tickers_from_page(page)\n",
    "    \n",
    "print(tickerRegList)\n",
    "\n",
    "print('count',len(tickerRegList))"
   ]
  },
  {
   "cell_type": "code",
   "execution_count": 15,
   "id": "3f69c6b1-2216-478c-8fe1-24cd30144b16",
   "metadata": {},
   "outputs": [
    {
     "name": "stdout",
     "output_type": "stream",
     "text": [
      "['AADI', 'ABCL', 'ABCM', 'ABEO', 'ABIO', 'ABOS', 'ABSI', 'ABUS', 'ABVC', 'ACAD', 'ACER', 'ACET', 'ACHL', 'ACHV', 'ACIU', 'ACLX', 'ACOR', 'ACRS', 'ACST', 'ACXP', 'ADAG', 'ADAP', 'ADCT', 'ADGI', 'ADIL', 'ADMA', 'ADPT', 'ADTX', 'ADVM', 'ADXN', 'AEZS', 'AFMD', 'AGE', 'AGEN', 'AGIO', 'AGLE', 'AGTC', 'AIKI', 'AIM', 'AKBA', 'AKRO', 'AKTX', 'AKUS', 'ALBO', 'ALDX', 'ALEC', 'ALGS', 'ALKS', 'ALLK', 'ALLO', 'ALLR', 'ALNA', 'ALNY', 'ALPN', 'ALRN', 'ALT', 'ALVR', 'ALXO', 'ALZN', 'AMAM', 'AMLX', 'AMPE', 'AMRN', 'AMTI', 'ANAB', 'ANEB', 'ANGN', 'ANIK', 'ANNX', 'ANPC', 'ANTX', 'ANVS', 'APLS', 'APLT', 'APM', 'APRE', 'APTO', 'APTX', 'APVO', 'AQST', 'ARAV', 'ARCT', 'ARDS', 'ARDX', 'ARGX', 'ARMP', 'ARQT', 'ARTL', 'ARVN', 'ARWR', 'ASLN', 'ASMB', 'ASND', 'ATAI', 'ATHA', 'ATHE', 'ATHX', 'ATNF', 'ATNM', 'ATOS', 'ATRA', 'ATXI', 'ATXS', 'AUPH', 'AURA', 'AUTL', 'AVEO', 'AVIR', 'AVRO', 'AVTE', 'AVTX', 'AVXL', 'AXLA', 'AXSM', 'AYLA', 'AYTU', 'BBI', 'BBIO', 'BCAB', 'BCDA', 'BCEL', 'BCLI', 'BCRX', 'BCTX', 'BCYC', 'BDTX', 'BEAM', 'BGNE', 'BHVN', 'BIOR', 'BIVI', 'BLCM', 'BLI', 'BLPH', 'BLRX', 'BLTE', 'BLU', 'BLUE', 'BMEA', 'BMRN', 'BNOX', 'BNTC', 'BNTX', 'BOLT', 'BPMC', 'BPTH', 'BPTS', 'BRTX', 'BTAI', 'BTTX', 'BTX', 'BVXV', 'BWV', 'BXRX', 'BYSI', 'CABA', 'CADL', 'CALA', 'CALT', 'CANF', 'CAPR', 'CARA', 'CASI', 'CBAY', 'CBIO', 'CCCC', 'CCXI', 'CDAK', 'CDMO', 'CDTX', 'CDXC', 'CDXS', 'CELU', 'CELZ', 'CERE', 'CERS', 'CFRX', 'CGEM', 'CGEN', 'CGTX', 'CHRS', 'CINC', 'CING', 'CKPT', 'CLBS', 'CLDX', 'CLGN', 'CLLS', 'CLNN', 'CLRB', 'CLSD', 'CLSN', 'CLVS', 'CMMB', 'CMPX', 'CMRA', 'CMRX', 'CNCE', 'CNSP', 'CNTA', 'CNTB', 'CNTX', 'COCP', 'COGT', 'CORT', 'CPRX', 'CRBP', 'CRBU', 'CRDF', 'CRIS', 'CRMD', 'CRNX', 'CRSP', 'CRTX', 'CRVS', 'CSBR', 'CTIC', 'CTMX', 'CTXR', 'CUE', 'CVAC', 'CVM', 'CWBR', 'CYAD', 'CYBN', 'CYCC', 'CYCN', 'CYT', 'CYTK', 'CYTO', 'DARE', 'DAWN', 'DBTX', 'DBVT', 'DCPH', 'DFFN', 'DICE', 'DMAC', 'DNA', 'DNLI', 'DRMA', 'DRTS', 'DRUG', 'DSGN', 'DTIL', 'DVAX', 'DYAI', 'DYN', 'EDIT', 'EDSA', 'EFTR', 'EIGR', 'ELDN', 'ELEV', 'ELOX', 'ELYM', 'ENLV', 'ENOB', 'ENSC', 'ENTA', 'ENTX', 'ENVB', 'EPIX', 'EPZM', 'EQ', 'EQRX', 'ERAS', 'ERYP', 'ESPR', 'ETNB', 'ETON', 'EVAX', 'EVFM', 'EVGN', 'EVLO', 'EWTX', 'EXAI', 'EXEL', 'EYEN', 'EYPT', 'FATE', 'FBIO', 'FBIOP', 'FBRX', 'FDMT', 'FENC', 'FGEN', 'FHTX', 'FIXX', 'FMTX', 'FNCH', 'FOLD', 'FREQ', 'FRLN', 'FSTX', 'FULC', 'FUSN', 'FWBI', 'FWP', 'GALT', 'GANX', 'GBIO', 'GBT', 'GERN', 'GHRS', 'GLMD', 'GLPG', 'GLS', 'GLSI', 'GLTO', 'GLUE', 'GLYC', 'GMAB', 'GMDA', 'GMTX', 'GNFT', 'GNPX', 'GNTA', 'GOSS', 'GOVX', 'GRAY', 'GRCL', 'GRNA', 'GRPH', 'GRTS', 'GRTX', 'GTBP', 'GTHX', 'HALO', 'HARP', 'HCWB', 'HEPA', 'HGEN', 'HILS', 'HOOK', 'HOTH', 'HOWL', 'HRMY', 'HRTX', 'HSTO', 'HUMA', 'IBIO', 'IBRX', 'ICCC', 'ICPT', 'ICVX', 'IDRA', 'IDYA', 'IFRX', 'IGMS', 'IKNA', 'IKT', 'IMAB', 'IMCR', 'IMGN', 'IMGO', 'IMMP', 'IMMX', 'IMNM', 'IMPL', 'IMRA', 'IMRN', 'IMRX', 'IMTX', 'IMUX', 'IMV', 'IMVT', 'INAB', 'INBX', 'INCY', 'INDP', 'INFI', 'INKT', 'INM', 'INMB', 'INO', 'INSM', 'INVA', 'INZY', 'IOBT', 'IONS', 'IOVA', 'IPA', 'IPHA', 'IPSC', 'ISEE', 'ITCI', 'ITOS', 'ITRM', 'IVA', 'JAGX', 'JANX', 'JAZZ', 'JNCE', 'JSPR', 'KALA', 'KALV', 'KDNY', 'KMPH', 'KNSA', 'KNTE', 'KOD', 'KPRX', 'KPTI', 'KRBP', 'KRON', 'KROS', 'KRTX', 'KRYS', 'KTRA', 'KTTA', 'KURA', 'KYMR', 'KZIA', 'KZR', 'LABP', 'LBPH', 'LCTX', 'LEGN', 'LEXX', 'LGND', 'LGVN', 'LIAN', 'LIFE', 'LIXT', 'LJPC', 'LMNL', 'LOGC', 'LPCN', 'LPTX', 'LQDA', 'LRMR', 'LTRN', 'LUMO', 'LVTX', 'LXRX', 'LYEL', 'LYRA', 'MACK', 'MBIO', 'MBRX', 'MCRB', 'MDGL', 'MDNA', 'MDWD', 'MEIP', 'MESO', 'MGNX', 'MGTA', 'MGTX', 'MIRM', 'MIRO', 'MIST', 'MITO', 'MLTX', 'MNKD', 'MNMD', 'MNOV', 'MNPR', 'MOLN', 'MOR', 'MORF', 'MREO', 'MRKR', 'MRNA', 'MRNS', 'MRSN', 'MRTX', 'MRUS', 'MRVI', 'MTCR', 'MTEM', 'MTNB', 'MTP', 'MYMD', 'MYOV', 'NAUT', 'NAVB', 'NBIX', 'NBRV', 'NBSE', 'NBTX', 'NBY', 'NCNA', 'NERV', 'NEXI', 'NGM', 'NHWK', 'NKTR', 'NKTX', 'NLSP', 'NMTR', 'NNVC', 'NOVN', 'NRBO', 'NRIX', 'NRSN', 'NRXP', 'NSTG', 'NTLA', 'NTRB', 'NTRBW', 'NUVB', 'NUVL', 'NVAX', 'NVCT', 'NVIV', 'NXTC', 'NYMX', 'OBSV', 'OCGN', 'OCUL', 'OCUP', 'OCX', 'OGEN', 'OLMA', 'OMER', 'OMGA', 'ONCR', 'ONCS', 'ONCT', 'ONCY', 'ONTX', 'OPNT', 'OPT', 'ORGS', 'ORIC', 'ORMP', 'ORTX', 'OTIC', 'OTLK', 'OVID', 'OYST', 'PALI', 'PASG', 'PBLA', 'PBYI', 'PCSA', 'PCVX', 'PDSB', 'PEPG', 'PGEN', 'PHAR', 'PHAS', 'PHAT', 'PHIO', 'PHVS', 'PIRS', 'PLRX', 'PLX', 'PMCB', 'PMVP', 'PNT', 'PPBT', 'PRAX', 'PRDS', 'PRLD', 'PROK', 'PRQR', 'PRTA', 'PRTG', 'PRTK', 'PRVB', 'PSNL', 'PSTI', 'PSTV', 'PSTX', 'PTCT', 'PTE', 'PTGX', 'PTIX', 'PTN', 'PULM', 'PYPD', 'PYXS', 'QLGN', 'QNRX', 'QSI', 'QURE', 'RAIN', 'RANI', 'RAPT', 'RARE', 'RCKT', 'RCOR', 'RCUS', 'REGN', 'REPL', 'RETA', 'REVB', 'RFL', 'RGLS', 'RGNX', 'RIGL', 'RLAY', 'RLYB', 'RNA', 'RNAZ', 'RNXT', 'ROIV', 'RPHM', 'RPRX', 'RPTX', 'RUBY', 'RVLP', 'RVMD', 'RVNC', 'RVPH', 'RXDX', 'RXRX', 'RYTM', 'RZLT', 'SABS', 'SAGE', 'SANA', 'SAVA', 'SBTX', 'SCPH', 'SCPS', 'SEEL', 'SEER', 'SELB', 'SESN', 'SGEN', 'SGMO', 'SGTX', 'SIGA', 'SIOX', 'SLGL', 'SLRX', 'SLS', 'SMMT', 'SNDX', 'SNGX', 'SNPX', 'SNSE', 'SNTI', 'SONN', 'SPPI', 'SPRB', 'SPRC', 'SPRO', 'SQZ', 'SRNE', 'SRPT', 'SRRK', 'SRZN', 'SRZNW', 'STAB', 'STOK', 'STRO', 'STSA', 'STTK', 'SURF', 'SVRA', 'SWTX', 'SYBX', 'SYN', 'SYRS', 'TALS', 'TARA', 'TARS', 'TBPH', 'TCBP', 'TCON', 'TCRR', 'TCRT', 'TCRX', 'TECH', 'TENX', 'TERN', 'TFFP', 'TGTX', 'THRX', 'TIL', 'TLSA', 'TMBR', 'TNGX', 'TNXP', 'TNYA', 'TPST', 'TPTX', 'TRDA', 'TRVI', 'TRVN', 'TSHA', 'TSVT', 'TTNP', 'TVTX', 'TYME', 'TYRA', 'UBX', 'UNCY', 'URGN', 'UTHR', 'VACC', 'VALN', 'VAXX', 'VBIV', 'VBLT', 'VCEL', 'VCNX', 'VCYT', 'VECT', 'VERA', 'VERV', 'VIGL', 'VINC', 'VIR', 'VIRI', 'VIRX', 'VKTX', 'VLON', 'VNDA', 'VOR', 'VRAX', 'VRCA', 'VRDN', 'VRNA', 'VRPX', 'VRTX', 'VSTM', 'VTGN', 'VTVT', 'VTYX', 'VXRT', 'VYGR', 'VYNE', 'VYNT', 'WINT', 'WVE', 'XBIO', 'XBIT', 'XCUR', 'XENE', 'XERS', 'XFOR', 'XLO', 'XNCR', 'XOMA']\n",
      "count 740\n"
     ]
    }
   ],
   "source": [
    "rlist = ['661','681','701','721']\n",
    "for page in rlist:\n",
    "    get_tickers_from_page(page)\n",
    "    \n",
    "print(tickerRegList)\n",
    "\n",
    "print('count',len(tickerRegList))"
   ]
  },
  {
   "cell_type": "code",
   "execution_count": 16,
   "id": "99f0a5cc-e2c6-440b-9470-511363ec5539",
   "metadata": {},
   "outputs": [
    {
     "name": "stdout",
     "output_type": "stream",
     "text": [
      "['AADI', 'ABCL', 'ABCM', 'ABEO', 'ABIO', 'ABOS', 'ABSI', 'ABUS', 'ABVC', 'ACAD', 'ACER', 'ACET', 'ACHL', 'ACHV', 'ACIU', 'ACLX', 'ACOR', 'ACRS', 'ACST', 'ACXP', 'ADAG', 'ADAP', 'ADCT', 'ADGI', 'ADIL', 'ADMA', 'ADPT', 'ADTX', 'ADVM', 'ADXN', 'AEZS', 'AFMD', 'AGE', 'AGEN', 'AGIO', 'AGLE', 'AGTC', 'AIKI', 'AIM', 'AKBA', 'AKRO', 'AKTX', 'AKUS', 'ALBO', 'ALDX', 'ALEC', 'ALGS', 'ALKS', 'ALLK', 'ALLO', 'ALLR', 'ALNA', 'ALNY', 'ALPN', 'ALRN', 'ALT', 'ALVR', 'ALXO', 'ALZN', 'AMAM', 'AMLX', 'AMPE', 'AMRN', 'AMTI', 'ANAB', 'ANEB', 'ANGN', 'ANIK', 'ANNX', 'ANPC', 'ANTX', 'ANVS', 'APLS', 'APLT', 'APM', 'APRE', 'APTO', 'APTX', 'APVO', 'AQST', 'ARAV', 'ARCT', 'ARDS', 'ARDX', 'ARGX', 'ARMP', 'ARQT', 'ARTL', 'ARVN', 'ARWR', 'ASLN', 'ASMB', 'ASND', 'ATAI', 'ATHA', 'ATHE', 'ATHX', 'ATNF', 'ATNM', 'ATOS', 'ATRA', 'ATXI', 'ATXS', 'AUPH', 'AURA', 'AUTL', 'AVEO', 'AVIR', 'AVRO', 'AVTE', 'AVTX', 'AVXL', 'AXLA', 'AXSM', 'AYLA', 'AYTU', 'BBI', 'BBIO', 'BCAB', 'BCDA', 'BCEL', 'BCLI', 'BCRX', 'BCTX', 'BCYC', 'BDTX', 'BEAM', 'BGNE', 'BHVN', 'BIOR', 'BIVI', 'BLCM', 'BLI', 'BLPH', 'BLRX', 'BLTE', 'BLU', 'BLUE', 'BMEA', 'BMRN', 'BNOX', 'BNTC', 'BNTX', 'BOLT', 'BPMC', 'BPTH', 'BPTS', 'BRTX', 'BTAI', 'BTTX', 'BTX', 'BVXV', 'BWV', 'BXRX', 'BYSI', 'CABA', 'CADL', 'CALA', 'CALT', 'CANF', 'CAPR', 'CARA', 'CASI', 'CBAY', 'CBIO', 'CCCC', 'CCXI', 'CDAK', 'CDMO', 'CDTX', 'CDXC', 'CDXS', 'CELU', 'CELZ', 'CERE', 'CERS', 'CFRX', 'CGEM', 'CGEN', 'CGTX', 'CHRS', 'CINC', 'CING', 'CKPT', 'CLBS', 'CLDX', 'CLGN', 'CLLS', 'CLNN', 'CLRB', 'CLSD', 'CLSN', 'CLVS', 'CMMB', 'CMPX', 'CMRA', 'CMRX', 'CNCE', 'CNSP', 'CNTA', 'CNTB', 'CNTX', 'COCP', 'COGT', 'CORT', 'CPRX', 'CRBP', 'CRBU', 'CRDF', 'CRIS', 'CRMD', 'CRNX', 'CRSP', 'CRTX', 'CRVS', 'CSBR', 'CTIC', 'CTMX', 'CTXR', 'CUE', 'CVAC', 'CVM', 'CWBR', 'CYAD', 'CYBN', 'CYCC', 'CYCN', 'CYT', 'CYTK', 'CYTO', 'DARE', 'DAWN', 'DBTX', 'DBVT', 'DCPH', 'DFFN', 'DICE', 'DMAC', 'DNA', 'DNLI', 'DRMA', 'DRTS', 'DRUG', 'DSGN', 'DTIL', 'DVAX', 'DYAI', 'DYN', 'EDIT', 'EDSA', 'EFTR', 'EIGR', 'ELDN', 'ELEV', 'ELOX', 'ELYM', 'ENLV', 'ENOB', 'ENSC', 'ENTA', 'ENTX', 'ENVB', 'EPIX', 'EPZM', 'EQ', 'EQRX', 'ERAS', 'ERYP', 'ESPR', 'ETNB', 'ETON', 'EVAX', 'EVFM', 'EVGN', 'EVLO', 'EWTX', 'EXAI', 'EXEL', 'EYEN', 'EYPT', 'FATE', 'FBIO', 'FBIOP', 'FBRX', 'FDMT', 'FENC', 'FGEN', 'FHTX', 'FIXX', 'FMTX', 'FNCH', 'FOLD', 'FREQ', 'FRLN', 'FSTX', 'FULC', 'FUSN', 'FWBI', 'FWP', 'GALT', 'GANX', 'GBIO', 'GBT', 'GERN', 'GHRS', 'GLMD', 'GLPG', 'GLS', 'GLSI', 'GLTO', 'GLUE', 'GLYC', 'GMAB', 'GMDA', 'GMTX', 'GNFT', 'GNPX', 'GNTA', 'GOSS', 'GOVX', 'GRAY', 'GRCL', 'GRNA', 'GRPH', 'GRTS', 'GRTX', 'GTBP', 'GTHX', 'HALO', 'HARP', 'HCWB', 'HEPA', 'HGEN', 'HILS', 'HOOK', 'HOTH', 'HOWL', 'HRMY', 'HRTX', 'HSTO', 'HUMA', 'IBIO', 'IBRX', 'ICCC', 'ICPT', 'ICVX', 'IDRA', 'IDYA', 'IFRX', 'IGMS', 'IKNA', 'IKT', 'IMAB', 'IMCR', 'IMGN', 'IMGO', 'IMMP', 'IMMX', 'IMNM', 'IMPL', 'IMRA', 'IMRN', 'IMRX', 'IMTX', 'IMUX', 'IMV', 'IMVT', 'INAB', 'INBX', 'INCY', 'INDP', 'INFI', 'INKT', 'INM', 'INMB', 'INO', 'INSM', 'INVA', 'INZY', 'IOBT', 'IONS', 'IOVA', 'IPA', 'IPHA', 'IPSC', 'ISEE', 'ITCI', 'ITOS', 'ITRM', 'IVA', 'JAGX', 'JANX', 'JAZZ', 'JNCE', 'JSPR', 'KALA', 'KALV', 'KDNY', 'KMPH', 'KNSA', 'KNTE', 'KOD', 'KPRX', 'KPTI', 'KRBP', 'KRON', 'KROS', 'KRTX', 'KRYS', 'KTRA', 'KTTA', 'KURA', 'KYMR', 'KZIA', 'KZR', 'LABP', 'LBPH', 'LCTX', 'LEGN', 'LEXX', 'LGND', 'LGVN', 'LIAN', 'LIFE', 'LIXT', 'LJPC', 'LMNL', 'LOGC', 'LPCN', 'LPTX', 'LQDA', 'LRMR', 'LTRN', 'LUMO', 'LVTX', 'LXRX', 'LYEL', 'LYRA', 'MACK', 'MBIO', 'MBRX', 'MCRB', 'MDGL', 'MDNA', 'MDWD', 'MEIP', 'MESO', 'MGNX', 'MGTA', 'MGTX', 'MIRM', 'MIRO', 'MIST', 'MITO', 'MLTX', 'MNKD', 'MNMD', 'MNOV', 'MNPR', 'MOLN', 'MOR', 'MORF', 'MREO', 'MRKR', 'MRNA', 'MRNS', 'MRSN', 'MRTX', 'MRUS', 'MRVI', 'MTCR', 'MTEM', 'MTNB', 'MTP', 'MYMD', 'MYOV', 'NAUT', 'NAVB', 'NBIX', 'NBRV', 'NBSE', 'NBTX', 'NBY', 'NCNA', 'NERV', 'NEXI', 'NGM', 'NHWK', 'NKTR', 'NKTX', 'NLSP', 'NMTR', 'NNVC', 'NOVN', 'NRBO', 'NRIX', 'NRSN', 'NRXP', 'NSTG', 'NTLA', 'NTRB', 'NTRBW', 'NUVB', 'NUVL', 'NVAX', 'NVCT', 'NVIV', 'NXTC', 'NYMX', 'OBSV', 'OCGN', 'OCUL', 'OCUP', 'OCX', 'OGEN', 'OLMA', 'OMER', 'OMGA', 'ONCR', 'ONCS', 'ONCT', 'ONCY', 'ONTX', 'OPNT', 'OPT', 'ORGS', 'ORIC', 'ORMP', 'ORTX', 'OTIC', 'OTLK', 'OVID', 'OYST', 'PALI', 'PASG', 'PBLA', 'PBYI', 'PCSA', 'PCVX', 'PDSB', 'PEPG', 'PGEN', 'PHAR', 'PHAS', 'PHAT', 'PHIO', 'PHVS', 'PIRS', 'PLRX', 'PLX', 'PMCB', 'PMVP', 'PNT', 'PPBT', 'PRAX', 'PRDS', 'PRLD', 'PROK', 'PRQR', 'PRTA', 'PRTG', 'PRTK', 'PRVB', 'PSNL', 'PSTI', 'PSTV', 'PSTX', 'PTCT', 'PTE', 'PTGX', 'PTIX', 'PTN', 'PULM', 'PYPD', 'PYXS', 'QLGN', 'QNRX', 'QSI', 'QURE', 'RAIN', 'RANI', 'RAPT', 'RARE', 'RCKT', 'RCOR', 'RCUS', 'REGN', 'REPL', 'RETA', 'REVB', 'RFL', 'RGLS', 'RGNX', 'RIGL', 'RLAY', 'RLYB', 'RNA', 'RNAZ', 'RNXT', 'ROIV', 'RPHM', 'RPRX', 'RPTX', 'RUBY', 'RVLP', 'RVMD', 'RVNC', 'RVPH', 'RXDX', 'RXRX', 'RYTM', 'RZLT', 'SABS', 'SAGE', 'SANA', 'SAVA', 'SBTX', 'SCPH', 'SCPS', 'SEEL', 'SEER', 'SELB', 'SESN', 'SGEN', 'SGMO', 'SGTX', 'SIGA', 'SIOX', 'SLGL', 'SLRX', 'SLS', 'SMMT', 'SNDX', 'SNGX', 'SNPX', 'SNSE', 'SNTI', 'SONN', 'SPPI', 'SPRB', 'SPRC', 'SPRO', 'SQZ', 'SRNE', 'SRPT', 'SRRK', 'SRZN', 'SRZNW', 'STAB', 'STOK', 'STRO', 'STSA', 'STTK', 'SURF', 'SVRA', 'SWTX', 'SYBX', 'SYN', 'SYRS', 'TALS', 'TARA', 'TARS', 'TBPH', 'TCBP', 'TCON', 'TCRR', 'TCRT', 'TCRX', 'TECH', 'TENX', 'TERN', 'TFFP', 'TGTX', 'THRX', 'TIL', 'TLSA', 'TMBR', 'TNGX', 'TNXP', 'TNYA', 'TPST', 'TPTX', 'TRDA', 'TRVI', 'TRVN', 'TSHA', 'TSVT', 'TTNP', 'TVTX', 'TYME', 'TYRA', 'UBX', 'UNCY', 'URGN', 'UTHR', 'VACC', 'VALN', 'VAXX', 'VBIV', 'VBLT', 'VCEL', 'VCNX', 'VCYT', 'VECT', 'VERA', 'VERV', 'VIGL', 'VINC', 'VIR', 'VIRI', 'VIRX', 'VKTX', 'VLON', 'VNDA', 'VOR', 'VRAX', 'VRCA', 'VRDN', 'VRNA', 'VRPX', 'VRTX', 'VSTM', 'VTGN', 'VTVT', 'VTYX', 'VXRT', 'VYGR', 'VYNE', 'VYNT', 'WINT', 'WVE', 'XBIO', 'XBIT', 'XCUR', 'XENE', 'XERS', 'XFOR', 'XLO', 'XNCR', 'XOMA', 'XOMAO', 'XRTX', 'XTLB', 'YMAB', 'YMTX', 'ZEAL', 'ZIVO', 'ZLAB', 'ZNTL', 'ZYME']\n",
      "count 750\n"
     ]
    }
   ],
   "source": [
    "rlist = ['741','761','781','801']\n",
    "for page in rlist:\n",
    "    get_tickers_from_page(page)\n",
    "    \n",
    "print(tickerRegList)\n",
    "\n",
    "print('count',len(tickerRegList))"
   ]
  },
  {
   "cell_type": "code",
   "execution_count": 23,
   "id": "6816cb2c",
   "metadata": {},
   "outputs": [
    {
     "name": "stdout",
     "output_type": "stream",
     "text": [
      "['AADI', 'ABCL', 'ABCM', 'ABEO']\n",
      "done\n",
      "done\n",
      "done\n",
      "done\n",
      "[3307000, 489043008, 315400000, 3346000]\n"
     ]
    }
   ],
   "source": [
    "trl = tickerRegList[:4]\n",
    "trl2 = []\n",
    "print(trl)\n",
    "for symbol in trl:\n",
    "    trl2.append(yf.Ticker(symbol).info['totalRevenue'])\n",
    "    print('done')\n",
    "print(trl2)\n"
   ]
  },
  {
   "cell_type": "code",
   "execution_count": 36,
   "id": "6956ff6e",
   "metadata": {},
   "outputs": [
    {
     "ename": "TypeError",
     "evalue": "An asyncio.Future, a coroutine or an awaitable is required",
     "output_type": "error",
     "traceback": [
      "\u001b[1;31m---------------------------------------------------------------------------\u001b[0m",
      "\u001b[1;31mTypeError\u001b[0m                                 Traceback (most recent call last)",
      "\u001b[1;32mc:\\Users\\Nick\\Desktop\\NixSxrips\\industries.ipynb Cell 19\u001b[0m in \u001b[0;36m<cell line: 21>\u001b[1;34m()\u001b[0m\n\u001b[0;32m     <a href='vscode-notebook-cell:/c%3A/Users/Nick/Desktop/NixSxrips/industries.ipynb#ch0000064?line=17'>18</a>\u001b[0m         \u001b[39mfor\u001b[39;00m response \u001b[39min\u001b[39;00m responses:\n\u001b[0;32m     <a href='vscode-notebook-cell:/c%3A/Users/Nick/Desktop/NixSxrips/industries.ipynb#ch0000064?line=18'>19</a>\u001b[0m             results\u001b[39m.\u001b[39mappend(\u001b[39mawait\u001b[39;00m response\u001b[39m.\u001b[39mjson())\n\u001b[1;32m---> <a href='vscode-notebook-cell:/c%3A/Users/Nick/Desktop/NixSxrips/industries.ipynb#ch0000064?line=20'>21</a>\u001b[0m asyncio\u001b[39m.\u001b[39;49mrun(main())\n",
      "File \u001b[1;32md:\\anac\\lib\\site-packages\\nest_asyncio.py:35\u001b[0m, in \u001b[0;36m_patch_asyncio.<locals>.run\u001b[1;34m(main, debug)\u001b[0m\n\u001b[0;32m     33\u001b[0m task \u001b[39m=\u001b[39m asyncio\u001b[39m.\u001b[39mensure_future(main)\n\u001b[0;32m     34\u001b[0m \u001b[39mtry\u001b[39;00m:\n\u001b[1;32m---> 35\u001b[0m     \u001b[39mreturn\u001b[39;00m loop\u001b[39m.\u001b[39;49mrun_until_complete(task)\n\u001b[0;32m     36\u001b[0m \u001b[39mfinally\u001b[39;00m:\n\u001b[0;32m     37\u001b[0m     \u001b[39mif\u001b[39;00m \u001b[39mnot\u001b[39;00m task\u001b[39m.\u001b[39mdone():\n",
      "File \u001b[1;32md:\\anac\\lib\\site-packages\\nest_asyncio.py:89\u001b[0m, in \u001b[0;36m_patch_loop.<locals>.run_until_complete\u001b[1;34m(self, future)\u001b[0m\n\u001b[0;32m     86\u001b[0m \u001b[39mif\u001b[39;00m \u001b[39mnot\u001b[39;00m f\u001b[39m.\u001b[39mdone():\n\u001b[0;32m     87\u001b[0m     \u001b[39mraise\u001b[39;00m \u001b[39mRuntimeError\u001b[39;00m(\n\u001b[0;32m     88\u001b[0m         \u001b[39m'\u001b[39m\u001b[39mEvent loop stopped before Future completed.\u001b[39m\u001b[39m'\u001b[39m)\n\u001b[1;32m---> 89\u001b[0m \u001b[39mreturn\u001b[39;00m f\u001b[39m.\u001b[39;49mresult()\n",
      "File \u001b[1;32md:\\anac\\lib\\asyncio\\futures.py:201\u001b[0m, in \u001b[0;36mFuture.result\u001b[1;34m(self)\u001b[0m\n\u001b[0;32m    199\u001b[0m \u001b[39mself\u001b[39m\u001b[39m.\u001b[39m__log_traceback \u001b[39m=\u001b[39m \u001b[39mFalse\u001b[39;00m\n\u001b[0;32m    200\u001b[0m \u001b[39mif\u001b[39;00m \u001b[39mself\u001b[39m\u001b[39m.\u001b[39m_exception \u001b[39mis\u001b[39;00m \u001b[39mnot\u001b[39;00m \u001b[39mNone\u001b[39;00m:\n\u001b[1;32m--> 201\u001b[0m     \u001b[39mraise\u001b[39;00m \u001b[39mself\u001b[39m\u001b[39m.\u001b[39m_exception\n\u001b[0;32m    202\u001b[0m \u001b[39mreturn\u001b[39;00m \u001b[39mself\u001b[39m\u001b[39m.\u001b[39m_result\n",
      "File \u001b[1;32md:\\anac\\lib\\asyncio\\tasks.py:256\u001b[0m, in \u001b[0;36mTask.__step\u001b[1;34m(***failed resolving arguments***)\u001b[0m\n\u001b[0;32m    252\u001b[0m \u001b[39mtry\u001b[39;00m:\n\u001b[0;32m    253\u001b[0m     \u001b[39mif\u001b[39;00m exc \u001b[39mis\u001b[39;00m \u001b[39mNone\u001b[39;00m:\n\u001b[0;32m    254\u001b[0m         \u001b[39m# We use the `send` method directly, because coroutines\u001b[39;00m\n\u001b[0;32m    255\u001b[0m         \u001b[39m# don't have `__iter__` and `__next__` methods.\u001b[39;00m\n\u001b[1;32m--> 256\u001b[0m         result \u001b[39m=\u001b[39m coro\u001b[39m.\u001b[39;49msend(\u001b[39mNone\u001b[39;49;00m)\n\u001b[0;32m    257\u001b[0m     \u001b[39melse\u001b[39;00m:\n\u001b[0;32m    258\u001b[0m         result \u001b[39m=\u001b[39m coro\u001b[39m.\u001b[39mthrow(exc)\n",
      "\u001b[1;32mc:\\Users\\Nick\\Desktop\\NixSxrips\\industries.ipynb Cell 19\u001b[0m in \u001b[0;36mmain\u001b[1;34m()\u001b[0m\n\u001b[0;32m     <a href='vscode-notebook-cell:/c%3A/Users/Nick/Desktop/NixSxrips/industries.ipynb#ch0000064?line=14'>15</a>\u001b[0m \u001b[39masync\u001b[39;00m \u001b[39mwith\u001b[39;00m aiohttp\u001b[39m.\u001b[39mClientSession() \u001b[39mas\u001b[39;00m session:\n\u001b[0;32m     <a href='vscode-notebook-cell:/c%3A/Users/Nick/Desktop/NixSxrips/industries.ipynb#ch0000064?line=15'>16</a>\u001b[0m     tasks \u001b[39m=\u001b[39m get_tasks(session)\n\u001b[1;32m---> <a href='vscode-notebook-cell:/c%3A/Users/Nick/Desktop/NixSxrips/industries.ipynb#ch0000064?line=16'>17</a>\u001b[0m     responses \u001b[39m=\u001b[39m \u001b[39mawait\u001b[39;00m asyncio\u001b[39m.\u001b[39;49mgather(\u001b[39m*\u001b[39;49mtasks)\n\u001b[0;32m     <a href='vscode-notebook-cell:/c%3A/Users/Nick/Desktop/NixSxrips/industries.ipynb#ch0000064?line=17'>18</a>\u001b[0m     \u001b[39mfor\u001b[39;00m response \u001b[39min\u001b[39;00m responses:\n\u001b[0;32m     <a href='vscode-notebook-cell:/c%3A/Users/Nick/Desktop/NixSxrips/industries.ipynb#ch0000064?line=18'>19</a>\u001b[0m         results\u001b[39m.\u001b[39mappend(\u001b[39mawait\u001b[39;00m response\u001b[39m.\u001b[39mjson())\n",
      "File \u001b[1;32md:\\anac\\lib\\asyncio\\tasks.py:756\u001b[0m, in \u001b[0;36mgather\u001b[1;34m(loop, return_exceptions, *coros_or_futures)\u001b[0m\n\u001b[0;32m    751\u001b[0m \u001b[39mif\u001b[39;00m loop \u001b[39mis\u001b[39;00m \u001b[39mnot\u001b[39;00m \u001b[39mNone\u001b[39;00m:\n\u001b[0;32m    752\u001b[0m     warnings\u001b[39m.\u001b[39mwarn(\u001b[39m\"\u001b[39m\u001b[39mThe loop argument is deprecated since Python 3.8, \u001b[39m\u001b[39m\"\u001b[39m\n\u001b[0;32m    753\u001b[0m                   \u001b[39m\"\u001b[39m\u001b[39mand scheduled for removal in Python 3.10.\u001b[39m\u001b[39m\"\u001b[39m,\n\u001b[0;32m    754\u001b[0m                   \u001b[39mDeprecationWarning\u001b[39;00m, stacklevel\u001b[39m=\u001b[39m\u001b[39m2\u001b[39m)\n\u001b[1;32m--> 756\u001b[0m \u001b[39mreturn\u001b[39;00m _gather(\u001b[39m*\u001b[39;49mcoros_or_futures, loop\u001b[39m=\u001b[39;49mloop, return_exceptions\u001b[39m=\u001b[39;49mreturn_exceptions)\n",
      "File \u001b[1;32md:\\anac\\lib\\asyncio\\tasks.py:829\u001b[0m, in \u001b[0;36m_gather\u001b[1;34m(loop, return_exceptions, *coros_or_futures)\u001b[0m\n\u001b[0;32m    827\u001b[0m \u001b[39mfor\u001b[39;00m arg \u001b[39min\u001b[39;00m coros_or_futures:\n\u001b[0;32m    828\u001b[0m     \u001b[39mif\u001b[39;00m arg \u001b[39mnot\u001b[39;00m \u001b[39min\u001b[39;00m arg_to_fut:\n\u001b[1;32m--> 829\u001b[0m         fut \u001b[39m=\u001b[39m ensure_future(arg, loop\u001b[39m=\u001b[39;49mloop)\n\u001b[0;32m    830\u001b[0m         \u001b[39mif\u001b[39;00m loop \u001b[39mis\u001b[39;00m \u001b[39mNone\u001b[39;00m:\n\u001b[0;32m    831\u001b[0m             loop \u001b[39m=\u001b[39m futures\u001b[39m.\u001b[39m_get_loop(fut)\n",
      "File \u001b[1;32md:\\anac\\lib\\asyncio\\tasks.py:677\u001b[0m, in \u001b[0;36mensure_future\u001b[1;34m(coro_or_future, loop)\u001b[0m\n\u001b[0;32m    675\u001b[0m     \u001b[39mreturn\u001b[39;00m ensure_future(_wrap_awaitable(coro_or_future), loop\u001b[39m=\u001b[39mloop)\n\u001b[0;32m    676\u001b[0m \u001b[39melse\u001b[39;00m:\n\u001b[1;32m--> 677\u001b[0m     \u001b[39mraise\u001b[39;00m \u001b[39mTypeError\u001b[39;00m(\u001b[39m'\u001b[39m\u001b[39mAn asyncio.Future, a coroutine or an awaitable is \u001b[39m\u001b[39m'\u001b[39m\n\u001b[0;32m    678\u001b[0m                     \u001b[39m'\u001b[39m\u001b[39mrequired\u001b[39m\u001b[39m'\u001b[39m)\n",
      "\u001b[1;31mTypeError\u001b[0m: An asyncio.Future, a coroutine or an awaitable is required"
     ]
    }
   ],
   "source": [
    "import aiohttp\n",
    "import asyncio\n",
    "\n",
    "results = []\n",
    "\n",
    "lisht = ['nick', 'nick2', 'nick3']\n",
    "\n",
    "def get_tasks(session):\n",
    "    tasks = []\n",
    "    for name in lisht:\n",
    "        tasks.append(name)\n",
    "    return tasks\n",
    "\n",
    "async def main():\n",
    "    async with aiohttp.ClientSession() as session:\n",
    "        tasks = get_tasks(session)\n",
    "        responses = await asyncio.gather(*tasks)\n",
    "        for response in responses:\n",
    "            results.append(await response.json())\n",
    "\n",
    "asyncio.run(main())"
   ]
  },
  {
   "cell_type": "code",
   "execution_count": 25,
   "id": "efd047de",
   "metadata": {},
   "outputs": [
    {
     "name": "stderr",
     "output_type": "stream",
     "text": [
      "d:\\anac\\lib\\site-packages\\yfinance\\utils.py:120: RuntimeWarning: coroutine 'main' was never awaited\n",
      "  data['annualBasicAverageShares'] = _json.loads(\n",
      "RuntimeWarning: Enable tracemalloc to get the object allocation traceback\n"
     ]
    },
    {
     "ename": "TypeError",
     "evalue": "An asyncio.Future, a coroutine or an awaitable is required",
     "output_type": "error",
     "traceback": [
      "\u001b[1;31m---------------------------------------------------------------------------\u001b[0m",
      "\u001b[1;31mTypeError\u001b[0m                                 Traceback (most recent call last)",
      "\u001b[1;32mc:\\Users\\Nick\\Desktop\\NixSxrips\\industries.ipynb Cell 19\u001b[0m in \u001b[0;36m<cell line: 19>\u001b[1;34m()\u001b[0m\n\u001b[0;32m     <a href='vscode-notebook-cell:/c%3A/Users/Nick/Desktop/NixSxrips/industries.ipynb#ch0000061?line=15'>16</a>\u001b[0m         \u001b[39mfor\u001b[39;00m response \u001b[39min\u001b[39;00m responses:\n\u001b[0;32m     <a href='vscode-notebook-cell:/c%3A/Users/Nick/Desktop/NixSxrips/industries.ipynb#ch0000061?line=16'>17</a>\u001b[0m             results\u001b[39m.\u001b[39mappend(\u001b[39mawait\u001b[39;00m response\u001b[39m.\u001b[39mjson())\n\u001b[1;32m---> <a href='vscode-notebook-cell:/c%3A/Users/Nick/Desktop/NixSxrips/industries.ipynb#ch0000061?line=18'>19</a>\u001b[0m asyncio\u001b[39m.\u001b[39;49mrun(main())\n",
      "File \u001b[1;32md:\\anac\\lib\\site-packages\\nest_asyncio.py:35\u001b[0m, in \u001b[0;36m_patch_asyncio.<locals>.run\u001b[1;34m(main, debug)\u001b[0m\n\u001b[0;32m     33\u001b[0m task \u001b[39m=\u001b[39m asyncio\u001b[39m.\u001b[39mensure_future(main)\n\u001b[0;32m     34\u001b[0m \u001b[39mtry\u001b[39;00m:\n\u001b[1;32m---> 35\u001b[0m     \u001b[39mreturn\u001b[39;00m loop\u001b[39m.\u001b[39;49mrun_until_complete(task)\n\u001b[0;32m     36\u001b[0m \u001b[39mfinally\u001b[39;00m:\n\u001b[0;32m     37\u001b[0m     \u001b[39mif\u001b[39;00m \u001b[39mnot\u001b[39;00m task\u001b[39m.\u001b[39mdone():\n",
      "File \u001b[1;32md:\\anac\\lib\\site-packages\\nest_asyncio.py:89\u001b[0m, in \u001b[0;36m_patch_loop.<locals>.run_until_complete\u001b[1;34m(self, future)\u001b[0m\n\u001b[0;32m     86\u001b[0m \u001b[39mif\u001b[39;00m \u001b[39mnot\u001b[39;00m f\u001b[39m.\u001b[39mdone():\n\u001b[0;32m     87\u001b[0m     \u001b[39mraise\u001b[39;00m \u001b[39mRuntimeError\u001b[39;00m(\n\u001b[0;32m     88\u001b[0m         \u001b[39m'\u001b[39m\u001b[39mEvent loop stopped before Future completed.\u001b[39m\u001b[39m'\u001b[39m)\n\u001b[1;32m---> 89\u001b[0m \u001b[39mreturn\u001b[39;00m f\u001b[39m.\u001b[39;49mresult()\n",
      "File \u001b[1;32md:\\anac\\lib\\asyncio\\futures.py:201\u001b[0m, in \u001b[0;36mFuture.result\u001b[1;34m(self)\u001b[0m\n\u001b[0;32m    199\u001b[0m \u001b[39mself\u001b[39m\u001b[39m.\u001b[39m__log_traceback \u001b[39m=\u001b[39m \u001b[39mFalse\u001b[39;00m\n\u001b[0;32m    200\u001b[0m \u001b[39mif\u001b[39;00m \u001b[39mself\u001b[39m\u001b[39m.\u001b[39m_exception \u001b[39mis\u001b[39;00m \u001b[39mnot\u001b[39;00m \u001b[39mNone\u001b[39;00m:\n\u001b[1;32m--> 201\u001b[0m     \u001b[39mraise\u001b[39;00m \u001b[39mself\u001b[39m\u001b[39m.\u001b[39m_exception\n\u001b[0;32m    202\u001b[0m \u001b[39mreturn\u001b[39;00m \u001b[39mself\u001b[39m\u001b[39m.\u001b[39m_result\n",
      "File \u001b[1;32md:\\anac\\lib\\asyncio\\tasks.py:256\u001b[0m, in \u001b[0;36mTask.__step\u001b[1;34m(***failed resolving arguments***)\u001b[0m\n\u001b[0;32m    252\u001b[0m \u001b[39mtry\u001b[39;00m:\n\u001b[0;32m    253\u001b[0m     \u001b[39mif\u001b[39;00m exc \u001b[39mis\u001b[39;00m \u001b[39mNone\u001b[39;00m:\n\u001b[0;32m    254\u001b[0m         \u001b[39m# We use the `send` method directly, because coroutines\u001b[39;00m\n\u001b[0;32m    255\u001b[0m         \u001b[39m# don't have `__iter__` and `__next__` methods.\u001b[39;00m\n\u001b[1;32m--> 256\u001b[0m         result \u001b[39m=\u001b[39m coro\u001b[39m.\u001b[39;49msend(\u001b[39mNone\u001b[39;49;00m)\n\u001b[0;32m    257\u001b[0m     \u001b[39melse\u001b[39;00m:\n\u001b[0;32m    258\u001b[0m         result \u001b[39m=\u001b[39m coro\u001b[39m.\u001b[39mthrow(exc)\n",
      "\u001b[1;32mc:\\Users\\Nick\\Desktop\\NixSxrips\\industries.ipynb Cell 19\u001b[0m in \u001b[0;36mmain\u001b[1;34m()\u001b[0m\n\u001b[0;32m     <a href='vscode-notebook-cell:/c%3A/Users/Nick/Desktop/NixSxrips/industries.ipynb#ch0000061?line=12'>13</a>\u001b[0m \u001b[39masync\u001b[39;00m \u001b[39mwith\u001b[39;00m aiohttp\u001b[39m.\u001b[39mClientSession() \u001b[39mas\u001b[39;00m session:\n\u001b[0;32m     <a href='vscode-notebook-cell:/c%3A/Users/Nick/Desktop/NixSxrips/industries.ipynb#ch0000061?line=13'>14</a>\u001b[0m     tasks \u001b[39m=\u001b[39m get_tasks(session)\n\u001b[1;32m---> <a href='vscode-notebook-cell:/c%3A/Users/Nick/Desktop/NixSxrips/industries.ipynb#ch0000061?line=14'>15</a>\u001b[0m     responses \u001b[39m=\u001b[39m \u001b[39mawait\u001b[39;00m asyncio\u001b[39m.\u001b[39;49mgather(\u001b[39m*\u001b[39;49mtasks)\n\u001b[0;32m     <a href='vscode-notebook-cell:/c%3A/Users/Nick/Desktop/NixSxrips/industries.ipynb#ch0000061?line=15'>16</a>\u001b[0m     \u001b[39mfor\u001b[39;00m response \u001b[39min\u001b[39;00m responses:\n\u001b[0;32m     <a href='vscode-notebook-cell:/c%3A/Users/Nick/Desktop/NixSxrips/industries.ipynb#ch0000061?line=16'>17</a>\u001b[0m         results\u001b[39m.\u001b[39mappend(\u001b[39mawait\u001b[39;00m response\u001b[39m.\u001b[39mjson())\n",
      "File \u001b[1;32md:\\anac\\lib\\asyncio\\tasks.py:756\u001b[0m, in \u001b[0;36mgather\u001b[1;34m(loop, return_exceptions, *coros_or_futures)\u001b[0m\n\u001b[0;32m    751\u001b[0m \u001b[39mif\u001b[39;00m loop \u001b[39mis\u001b[39;00m \u001b[39mnot\u001b[39;00m \u001b[39mNone\u001b[39;00m:\n\u001b[0;32m    752\u001b[0m     warnings\u001b[39m.\u001b[39mwarn(\u001b[39m\"\u001b[39m\u001b[39mThe loop argument is deprecated since Python 3.8, \u001b[39m\u001b[39m\"\u001b[39m\n\u001b[0;32m    753\u001b[0m                   \u001b[39m\"\u001b[39m\u001b[39mand scheduled for removal in Python 3.10.\u001b[39m\u001b[39m\"\u001b[39m,\n\u001b[0;32m    754\u001b[0m                   \u001b[39mDeprecationWarning\u001b[39;00m, stacklevel\u001b[39m=\u001b[39m\u001b[39m2\u001b[39m)\n\u001b[1;32m--> 756\u001b[0m \u001b[39mreturn\u001b[39;00m _gather(\u001b[39m*\u001b[39;49mcoros_or_futures, loop\u001b[39m=\u001b[39;49mloop, return_exceptions\u001b[39m=\u001b[39;49mreturn_exceptions)\n",
      "File \u001b[1;32md:\\anac\\lib\\asyncio\\tasks.py:829\u001b[0m, in \u001b[0;36m_gather\u001b[1;34m(loop, return_exceptions, *coros_or_futures)\u001b[0m\n\u001b[0;32m    827\u001b[0m \u001b[39mfor\u001b[39;00m arg \u001b[39min\u001b[39;00m coros_or_futures:\n\u001b[0;32m    828\u001b[0m     \u001b[39mif\u001b[39;00m arg \u001b[39mnot\u001b[39;00m \u001b[39min\u001b[39;00m arg_to_fut:\n\u001b[1;32m--> 829\u001b[0m         fut \u001b[39m=\u001b[39m ensure_future(arg, loop\u001b[39m=\u001b[39;49mloop)\n\u001b[0;32m    830\u001b[0m         \u001b[39mif\u001b[39;00m loop \u001b[39mis\u001b[39;00m \u001b[39mNone\u001b[39;00m:\n\u001b[0;32m    831\u001b[0m             loop \u001b[39m=\u001b[39m futures\u001b[39m.\u001b[39m_get_loop(fut)\n",
      "File \u001b[1;32md:\\anac\\lib\\asyncio\\tasks.py:677\u001b[0m, in \u001b[0;36mensure_future\u001b[1;34m(coro_or_future, loop)\u001b[0m\n\u001b[0;32m    675\u001b[0m     \u001b[39mreturn\u001b[39;00m ensure_future(_wrap_awaitable(coro_or_future), loop\u001b[39m=\u001b[39mloop)\n\u001b[0;32m    676\u001b[0m \u001b[39melse\u001b[39;00m:\n\u001b[1;32m--> 677\u001b[0m     \u001b[39mraise\u001b[39;00m \u001b[39mTypeError\u001b[39;00m(\u001b[39m'\u001b[39m\u001b[39mAn asyncio.Future, a coroutine or an awaitable is \u001b[39m\u001b[39m'\u001b[39m\n\u001b[0;32m    678\u001b[0m                     \u001b[39m'\u001b[39m\u001b[39mrequired\u001b[39m\u001b[39m'\u001b[39m)\n",
      "\u001b[1;31mTypeError\u001b[0m: An asyncio.Future, a coroutine or an awaitable is required"
     ]
    }
   ],
   "source": [
    "import aiohttp\n",
    "import asyncio\n",
    "\n",
    "results = []\n",
    "\n",
    "def get_tasks(session):\n",
    "    tasks = []\n",
    "    for symbol in trl:\n",
    "        tasks.append(yf.Ticker(symbol).info['totalRevenue'])\n",
    "    return tasks\n",
    "\n",
    "async def main():\n",
    "    async with aiohttp.ClientSession() as session:\n",
    "        tasks = get_tasks(session)\n",
    "        responses = await asyncio.gather(*tasks)\n",
    "        for response in responses:\n",
    "            results.append(await response.json())\n",
    "\n",
    "asyncio.run(main())"
   ]
  },
  {
   "cell_type": "code",
   "execution_count": 33,
   "id": "31509cc9",
   "metadata": {},
   "outputs": [
    {
     "ename": "TypeError",
     "evalue": "asyncio.tasks.gather() argument after * must be an iterable, not coroutine",
     "output_type": "error",
     "traceback": [
      "\u001b[1;31m---------------------------------------------------------------------------\u001b[0m",
      "\u001b[1;31mTypeError\u001b[0m                                 Traceback (most recent call last)",
      "\u001b[1;32mc:\\Users\\Nick\\Desktop\\NixSxrips\\industries.ipynb Cell 20\u001b[0m in \u001b[0;36m<cell line: 22>\u001b[1;34m()\u001b[0m\n\u001b[0;32m     <a href='vscode-notebook-cell:/c%3A/Users/Nick/Desktop/NixSxrips/industries.ipynb#ch0000063?line=17'>18</a>\u001b[0m         \u001b[39mfor\u001b[39;00m response \u001b[39min\u001b[39;00m responses:\n\u001b[0;32m     <a href='vscode-notebook-cell:/c%3A/Users/Nick/Desktop/NixSxrips/industries.ipynb#ch0000063?line=18'>19</a>\u001b[0m             results\u001b[39m.\u001b[39mappend(\u001b[39mawait\u001b[39;00m response)\n\u001b[1;32m---> <a href='vscode-notebook-cell:/c%3A/Users/Nick/Desktop/NixSxrips/industries.ipynb#ch0000063?line=21'>22</a>\u001b[0m asyncio\u001b[39m.\u001b[39;49mrun(main())\n",
      "File \u001b[1;32md:\\anac\\lib\\site-packages\\nest_asyncio.py:35\u001b[0m, in \u001b[0;36m_patch_asyncio.<locals>.run\u001b[1;34m(main, debug)\u001b[0m\n\u001b[0;32m     33\u001b[0m task \u001b[39m=\u001b[39m asyncio\u001b[39m.\u001b[39mensure_future(main)\n\u001b[0;32m     34\u001b[0m \u001b[39mtry\u001b[39;00m:\n\u001b[1;32m---> 35\u001b[0m     \u001b[39mreturn\u001b[39;00m loop\u001b[39m.\u001b[39;49mrun_until_complete(task)\n\u001b[0;32m     36\u001b[0m \u001b[39mfinally\u001b[39;00m:\n\u001b[0;32m     37\u001b[0m     \u001b[39mif\u001b[39;00m \u001b[39mnot\u001b[39;00m task\u001b[39m.\u001b[39mdone():\n",
      "File \u001b[1;32md:\\anac\\lib\\site-packages\\nest_asyncio.py:89\u001b[0m, in \u001b[0;36m_patch_loop.<locals>.run_until_complete\u001b[1;34m(self, future)\u001b[0m\n\u001b[0;32m     86\u001b[0m \u001b[39mif\u001b[39;00m \u001b[39mnot\u001b[39;00m f\u001b[39m.\u001b[39mdone():\n\u001b[0;32m     87\u001b[0m     \u001b[39mraise\u001b[39;00m \u001b[39mRuntimeError\u001b[39;00m(\n\u001b[0;32m     88\u001b[0m         \u001b[39m'\u001b[39m\u001b[39mEvent loop stopped before Future completed.\u001b[39m\u001b[39m'\u001b[39m)\n\u001b[1;32m---> 89\u001b[0m \u001b[39mreturn\u001b[39;00m f\u001b[39m.\u001b[39;49mresult()\n",
      "File \u001b[1;32md:\\anac\\lib\\asyncio\\futures.py:201\u001b[0m, in \u001b[0;36mFuture.result\u001b[1;34m(self)\u001b[0m\n\u001b[0;32m    199\u001b[0m \u001b[39mself\u001b[39m\u001b[39m.\u001b[39m__log_traceback \u001b[39m=\u001b[39m \u001b[39mFalse\u001b[39;00m\n\u001b[0;32m    200\u001b[0m \u001b[39mif\u001b[39;00m \u001b[39mself\u001b[39m\u001b[39m.\u001b[39m_exception \u001b[39mis\u001b[39;00m \u001b[39mnot\u001b[39;00m \u001b[39mNone\u001b[39;00m:\n\u001b[1;32m--> 201\u001b[0m     \u001b[39mraise\u001b[39;00m \u001b[39mself\u001b[39m\u001b[39m.\u001b[39m_exception\n\u001b[0;32m    202\u001b[0m \u001b[39mreturn\u001b[39;00m \u001b[39mself\u001b[39m\u001b[39m.\u001b[39m_result\n",
      "File \u001b[1;32md:\\anac\\lib\\asyncio\\tasks.py:256\u001b[0m, in \u001b[0;36mTask.__step\u001b[1;34m(***failed resolving arguments***)\u001b[0m\n\u001b[0;32m    252\u001b[0m \u001b[39mtry\u001b[39;00m:\n\u001b[0;32m    253\u001b[0m     \u001b[39mif\u001b[39;00m exc \u001b[39mis\u001b[39;00m \u001b[39mNone\u001b[39;00m:\n\u001b[0;32m    254\u001b[0m         \u001b[39m# We use the `send` method directly, because coroutines\u001b[39;00m\n\u001b[0;32m    255\u001b[0m         \u001b[39m# don't have `__iter__` and `__next__` methods.\u001b[39;00m\n\u001b[1;32m--> 256\u001b[0m         result \u001b[39m=\u001b[39m coro\u001b[39m.\u001b[39;49msend(\u001b[39mNone\u001b[39;49;00m)\n\u001b[0;32m    257\u001b[0m     \u001b[39melse\u001b[39;00m:\n\u001b[0;32m    258\u001b[0m         result \u001b[39m=\u001b[39m coro\u001b[39m.\u001b[39mthrow(exc)\n",
      "\u001b[1;32mc:\\Users\\Nick\\Desktop\\NixSxrips\\industries.ipynb Cell 20\u001b[0m in \u001b[0;36mmain\u001b[1;34m()\u001b[0m\n\u001b[0;32m     <a href='vscode-notebook-cell:/c%3A/Users/Nick/Desktop/NixSxrips/industries.ipynb#ch0000063?line=14'>15</a>\u001b[0m \u001b[39masync\u001b[39;00m \u001b[39mwith\u001b[39;00m aiohttp\u001b[39m.\u001b[39mClientSession() \u001b[39mas\u001b[39;00m session:\n\u001b[0;32m     <a href='vscode-notebook-cell:/c%3A/Users/Nick/Desktop/NixSxrips/industries.ipynb#ch0000063?line=15'>16</a>\u001b[0m     tasks \u001b[39m=\u001b[39m get_tasks(session)\n\u001b[1;32m---> <a href='vscode-notebook-cell:/c%3A/Users/Nick/Desktop/NixSxrips/industries.ipynb#ch0000063?line=16'>17</a>\u001b[0m     responses \u001b[39m=\u001b[39m \u001b[39mawait\u001b[39;00m asyncio\u001b[39m.\u001b[39;49mgather(\u001b[39m*\u001b[39;49mtasks)\n\u001b[0;32m     <a href='vscode-notebook-cell:/c%3A/Users/Nick/Desktop/NixSxrips/industries.ipynb#ch0000063?line=17'>18</a>\u001b[0m     \u001b[39mfor\u001b[39;00m response \u001b[39min\u001b[39;00m responses:\n\u001b[0;32m     <a href='vscode-notebook-cell:/c%3A/Users/Nick/Desktop/NixSxrips/industries.ipynb#ch0000063?line=18'>19</a>\u001b[0m         results\u001b[39m.\u001b[39mappend(\u001b[39mawait\u001b[39;00m response)\n",
      "\u001b[1;31mTypeError\u001b[0m: asyncio.tasks.gather() argument after * must be an iterable, not coroutine"
     ]
    }
   ],
   "source": [
    "import aiohttp\n",
    "import asyncio\n",
    "\n",
    "results = []\n",
    "\n",
    "\n",
    "async def get_tasks(session):\n",
    "    tasks = []\n",
    "    for symbol in trl:\n",
    "        tasks.append(yf.Ticker(symbol).info['totalRevenue'])\n",
    "    return tasks\n",
    "\n",
    "\n",
    "async def main():\n",
    "    async with aiohttp.ClientSession() as session:\n",
    "        tasks = get_tasks(session)\n",
    "        responses = await asyncio.gather(*tasks)\n",
    "        for response in responses:\n",
    "            results.append(await response)\n",
    "\n",
    "\n",
    "asyncio.run(main())\n"
   ]
  },
  {
   "cell_type": "code",
   "execution_count": 108,
   "id": "56bfbd5f-779f-4439-b297-b59a3eb9d156",
   "metadata": {},
   "outputs": [
    {
     "name": "stdout",
     "output_type": "stream",
     "text": [
      "[3307000, 489043008, 315400000, 3000000, 0, 0, 4782000]\n"
     ]
    }
   ],
   "source": [
    "newList = []\n",
    "\n",
    "for stonk in tickerRegList:\n",
    "    ticka = yf.Ticker(stonk)\n",
    "    dataPt = ticka.info['totalRevenue']\n",
    "    if not isinstance(dataPt,int):\n",
    "        newList.append(0)\n",
    "    else:\n",
    "        newList.append(dataPt)\n",
    "    \n",
    "print(newList)"
   ]
  },
  {
   "cell_type": "code",
   "execution_count": 1,
   "id": "57e1e488-6aee-4abd-9d56-0720528f303f",
   "metadata": {},
   "outputs": [],
   "source": [
    "import aiohttp\n",
    "import asyncio"
   ]
  },
  {
   "cell_type": "code",
   "execution_count": 3,
   "id": "f9de74ee-bd8d-4403-b8cd-439c14d121ce",
   "metadata": {},
   "outputs": [
    {
     "name": "stdout",
     "output_type": "stream",
     "text": [
      "[]\n"
     ]
    },
    {
     "name": "stderr",
     "output_type": "stream",
     "text": [
      "C:\\Users\\Nick\\AppData\\Local\\Temp\\ipykernel_14580\\3385376854.py:12: RuntimeWarning: coroutine 'get_revenues' was never awaited\n",
      "  get_revenues()\n",
      "RuntimeWarning: Enable tracemalloc to get the object allocation traceback\n"
     ]
    }
   ],
   "source": [
    "newList = []\n",
    "\n",
    "async def get_revenues():\n",
    "    async with aiohttp.ClientSession as session:\n",
    "        for stonk in tickerRegList:\n",
    "            ticka = yf.Ticker(stonk)\n",
    "            dataPt = ticka.info['totalRevenue']\n",
    "            if not isinstance(dataPt,int):\n",
    "                newList.append(0)\n",
    "            else:\n",
    "                newList.append(dataPt)\n",
    "            \n",
    "#get_revenues()\n",
    "\n",
    "#loop= asyncio.get_event_loop()\n",
    "#loop.run_until_complete(get_revenues)\n",
    "#loop.close()\n",
    "\n",
    "asyncio.run(get_revenues)\n",
    "\n",
    "\n",
    "print(newList)"
   ]
  },
  {
   "cell_type": "code",
   "execution_count": 9,
   "id": "0faad0a4-53e5-4fc6-84d6-f5a53bf14d9d",
   "metadata": {},
   "outputs": [
    {
     "ename": "RuntimeError",
     "evalue": "asyncio.run() cannot be called from a running event loop",
     "output_type": "error",
     "traceback": [
      "\u001b[1;31m---------------------------------------------------------------------------\u001b[0m",
      "\u001b[1;31mRuntimeError\u001b[0m                              Traceback (most recent call last)",
      "Input \u001b[1;32mIn [10]\u001b[0m, in \u001b[0;36m<cell line: 42>\u001b[1;34m()\u001b[0m\n\u001b[0;32m     39\u001b[0m             \u001b[38;5;28;01melse\u001b[39;00m:\n\u001b[0;32m     40\u001b[0m                 \u001b[38;5;28;01mawait\u001b[39;00m newList\u001b[38;5;241m.\u001b[39mappend(dataPt)\n\u001b[1;32m---> 42\u001b[0m \u001b[43masyncio\u001b[49m\u001b[38;5;241;43m.\u001b[39;49m\u001b[43mrun\u001b[49m\u001b[43m(\u001b[49m\u001b[43mget_revenues\u001b[49m\u001b[43m)\u001b[49m\n\u001b[0;32m     44\u001b[0m \u001b[38;5;28mprint\u001b[39m(newList)\n",
      "File \u001b[1;32mD:\\anac\\lib\\asyncio\\runners.py:33\u001b[0m, in \u001b[0;36mrun\u001b[1;34m(main, debug)\u001b[0m\n\u001b[0;32m      9\u001b[0m \u001b[38;5;124;03m\"\"\"Execute the coroutine and return the result.\u001b[39;00m\n\u001b[0;32m     10\u001b[0m \n\u001b[0;32m     11\u001b[0m \u001b[38;5;124;03mThis function runs the passed coroutine, taking care of\u001b[39;00m\n\u001b[1;32m   (...)\u001b[0m\n\u001b[0;32m     30\u001b[0m \u001b[38;5;124;03m    asyncio.run(main())\u001b[39;00m\n\u001b[0;32m     31\u001b[0m \u001b[38;5;124;03m\"\"\"\u001b[39;00m\n\u001b[0;32m     32\u001b[0m \u001b[38;5;28;01mif\u001b[39;00m events\u001b[38;5;241m.\u001b[39m_get_running_loop() \u001b[38;5;129;01mis\u001b[39;00m \u001b[38;5;129;01mnot\u001b[39;00m \u001b[38;5;28;01mNone\u001b[39;00m:\n\u001b[1;32m---> 33\u001b[0m     \u001b[38;5;28;01mraise\u001b[39;00m \u001b[38;5;167;01mRuntimeError\u001b[39;00m(\n\u001b[0;32m     34\u001b[0m         \u001b[38;5;124m\"\u001b[39m\u001b[38;5;124masyncio.run() cannot be called from a running event loop\u001b[39m\u001b[38;5;124m\"\u001b[39m)\n\u001b[0;32m     36\u001b[0m \u001b[38;5;28;01mif\u001b[39;00m \u001b[38;5;129;01mnot\u001b[39;00m coroutines\u001b[38;5;241m.\u001b[39miscoroutine(main):\n\u001b[0;32m     37\u001b[0m     \u001b[38;5;28;01mraise\u001b[39;00m \u001b[38;5;167;01mValueError\u001b[39;00m(\u001b[38;5;124m\"\u001b[39m\u001b[38;5;124ma coroutine was expected, got \u001b[39m\u001b[38;5;132;01m{!r}\u001b[39;00m\u001b[38;5;124m\"\u001b[39m\u001b[38;5;241m.\u001b[39mformat(main))\n",
      "\u001b[1;31mRuntimeError\u001b[0m: asyncio.run() cannot be called from a running event loop"
     ]
    }
   ],
   "source": [
    "newList = []\n",
    "     \n",
    "#get_revenues()\n",
    "\n",
    "#loop= asyncio.get_event_loop()\n",
    "#loop.run_until_complete(get_revenues)\n",
    "#loop.close()\n",
    "\n",
    "async def add_tickers_to_list(tickerRegListDef):\n",
    "    async with aiohttp.ClientSession() as session:\n",
    "        try:\n",
    "            for ticker in tickerRegListDef:\n",
    "                if ticker not in tickerRegList:\n",
    "                    tickerRegList.append(ticker)\n",
    "                else: continue\n",
    "        except:\n",
    "            pass\n",
    "\n",
    "async def get_tickers_from_page(page):\n",
    "    async with aiohttp.ClientSession() as session:\n",
    "        reqdef1 = await session('https://finviz.com/screener.ashx?f=ind_'+sector2+'&r='+page, headers={'User-Agent': 'Mozilla/5.0'}, ssl=False)\n",
    "        urlsite = urlopen(reqdef1).read().decode('utf-8')\n",
    "        tickerRegListDef = re.findall('(?<=class=\"screener-link-primary\">).*?(?=</a>)',urlsite, re.DOTALL)\n",
    "        return add_tickers_to_list(tickerRegListDef)\n",
    "\n",
    "\n",
    "async def get_tickers():\n",
    "    async with aiohttp.ClientSession() as session:\n",
    "        for page in rlist:\n",
    "            await get_tickers_from_page(page)\n",
    "    \n",
    "async def get_revenues():\n",
    "    async with aiohttp.ClientSession() as session:\n",
    "        for stonk in tickerRegList:\n",
    "            ticka = await yf.Ticker(stonk)\n",
    "            dataPt = await ticka.info['totalRevenue']\n",
    "            if not isinstance(dataPt,int):\n",
    "                await newList.append(0)\n",
    "            else:\n",
    "                await newList.append(dataPt)\n",
    "\n",
    "asyncio.run(get_revenues)\n",
    "\n",
    "print(newList)"
   ]
  },
  {
   "cell_type": "code",
   "execution_count": null,
   "id": "4e56be51-3850-42ad-900f-8fc2b504f8ee",
   "metadata": {},
   "outputs": [],
   "source": [
    "def add_tickers_to_list(tickerRegListDef):\n",
    "    try:\n",
    "        for ticker in tickerRegListDef:\n",
    "            if ticker not in tickerRegList:\n",
    "                tickerRegList.append(ticker)\n",
    "            else: continue\n",
    "    except:\n",
    "        pass\n",
    "\n",
    "def get_tickers_from_page(page):\n",
    "    \n",
    "    reqdef1 = Request('https://finviz.com/screener.ashx?f=ind_'+sector2+'&r='+page, headers={'User-Agent': 'Mozilla/5.0'})\n",
    "    urlsite = urlopen(reqdef1).read().decode('utf-8')\n",
    "    tickerRegListDef = re.findall('(?<=class=\"screener-link-primary\">).*?(?=</a>)',urlsite, re.DOTALL)\n",
    "    return add_tickers_to_list(tickerRegListDef)\n",
    "\n",
    "for page in rlist:\n",
    "    get_tickers_from_page(page)\n",
    "    \n",
    "print(tickerRegList)\n",
    "\n",
    "print('count',len(tickerRegList))\n"
   ]
  },
  {
   "cell_type": "code",
   "execution_count": 12,
   "id": "d9d946bd-8e33-44b0-a5cd-a0947efa7326",
   "metadata": {},
   "outputs": [
    {
     "ename": "SyntaxError",
     "evalue": "invalid syntax (3357583698.py, line 3)",
     "output_type": "error",
     "traceback": [
      "\u001b[1;36m  Input \u001b[1;32mIn [12]\u001b[1;36m\u001b[0m\n\u001b[1;33m    async def (main):\u001b[0m\n\u001b[1;37m              ^\u001b[0m\n\u001b[1;31mSyntaxError\u001b[0m\u001b[1;31m:\u001b[0m invalid syntax\n"
     ]
    }
   ],
   "source": [
    "newList = []\n",
    "\n",
    "async def (main):\n",
    "    async with aiohttp.ClientSession() as session:\n",
    "        tasks = []\n",
    "        for ticka in tickerRegList:\n",
    "            task = asyncio.ensure_future(get_ticka_data(session, ticka))\n",
    "            tasks.append(task)\n",
    "            \n",
    "        viewcounts = await asyncio.gather(*tasks)\n",
    "        \n",
    "        print('data:',viewcounts)\n",
    "            \n",
    "async def get_ticka_data(session, ticka):\n",
    "    url = ('https://finviz.com/screener.ashx?f=ind_'+sector2+'&r='+page, headers={'User-Agent': 'Mozilla/5.0'})\n",
    "    \n",
    "    async with session.get(url) as response:\n",
    "        result_data = await response.json()\n",
    "        urlsite = urlopen(reqdef1).read().decode('utf-8')\n",
    "        tickerRegListDef = re.findall('(?<=class=\"screener-link-primary\">).*?(?=</a>)',urlsite, re.DOTALL)\n",
    "        return add_tickers_to_list(tickerRegListDef)\n",
    "    \n",
    "asyncio.run(main())"
   ]
  },
  {
   "cell_type": "code",
   "execution_count": 11,
   "id": "5645c1ce-80b9-4e24-9ac0-7f91bb7d2abd",
   "metadata": {},
   "outputs": [
    {
     "ename": "SyntaxError",
     "evalue": "invalid syntax (3891989344.py, line 3)",
     "output_type": "error",
     "traceback": [
      "\u001b[1;36m  Input \u001b[1;32mIn [11]\u001b[1;36m\u001b[0m\n\u001b[1;33m    async def (main):\u001b[0m\n\u001b[1;37m              ^\u001b[0m\n\u001b[1;31mSyntaxError\u001b[0m\u001b[1;31m:\u001b[0m invalid syntax\n"
     ]
    }
   ],
   "source": [
    "newList = []\n",
    "\n",
    "async def (main):\n",
    "    async with aiohttp.ClientSession() as session:\n",
    "        tasks = []\n",
    "        for ticka in tickerRegList:\n",
    "            task = asyncio.ensure_future(get_ticka_data(session, ticka))\n",
    "            tasks.append(task)\n",
    "            \n",
    "        viewcounts = await asyncio.gather(*tasks)\n",
    "        \n",
    "        print('data:',viewcounts)\n",
    "            \n",
    "async def get_ticka_data(session, ticka):\n",
    "    url = f''\n",
    "    \n",
    "    async with session.get(url) as response:\n",
    "        result_data = await response.json()\n",
    "        results = result_data['items']\n",
    "        viewCount = results[0]['statistics']['viewCount']\n",
    "        return int(viewCount)\n",
    "    \n",
    "asyncio.run(main())"
   ]
  },
  {
   "cell_type": "code",
   "execution_count": null,
   "id": "b84c9f4d-52b2-44b4-9a1f-d82a7c82a427",
   "metadata": {},
   "outputs": [],
   "source": [
    "https://finviz.com/screener.ashx?v=111&f=ind_biotechnology\n",
    "https://finviz.com/screener.ashx?v=151&f=ind_biotechnology\n",
    "https://finviz.com/screener.ashx?v=152&f=ind_biotechnology&o=-marketcap&c=0,1,6,10"
   ]
  },
  {
   "cell_type": "code",
   "execution_count": 96,
   "id": "9fed2566-8c9c-4da3-9266-9dfb908f087b",
   "metadata": {},
   "outputs": [
    {
     "ename": "KeyError",
     "evalue": "'totalRevenue'",
     "output_type": "error",
     "traceback": [
      "\u001b[1;31m---------------------------------------------------------------------------\u001b[0m",
      "\u001b[1;31mKeyError\u001b[0m                                  Traceback (most recent call last)",
      "Input \u001b[1;32mIn [96]\u001b[0m, in \u001b[0;36m<cell line: 3>\u001b[1;34m()\u001b[0m\n\u001b[0;32m      3\u001b[0m \u001b[38;5;28;01mfor\u001b[39;00m ticka \u001b[38;5;129;01min\u001b[39;00m tickerRegList:\n\u001b[0;32m      4\u001b[0m     stock1 \u001b[38;5;241m=\u001b[39m yf\u001b[38;5;241m.\u001b[39mTicker(ticka)\n\u001b[1;32m----> 5\u001b[0m     dataPoint \u001b[38;5;241m=\u001b[39m \u001b[43mstock1\u001b[49m\u001b[38;5;241;43m.\u001b[39;49m\u001b[43minfo\u001b[49m\u001b[43m[\u001b[49m\u001b[38;5;124;43m'\u001b[39;49m\u001b[38;5;124;43mtotalRevenue\u001b[39;49m\u001b[38;5;124;43m'\u001b[39;49m\u001b[43m]\u001b[49m\n\u001b[0;32m      6\u001b[0m     avgRevIndList\u001b[38;5;241m.\u001b[39mappend(dataPoint)\n\u001b[0;32m      8\u001b[0m \u001b[38;5;28mprint\u001b[39m(avgRevIndList)\n",
      "\u001b[1;31mKeyError\u001b[0m: 'totalRevenue'"
     ]
    }
   ],
   "source": [
    "avgRevIndList = []\n",
    "\n",
    "for ticka in tickerRegList:\n",
    "    stock1 = yf.Ticker(ticka)\n",
    "    dataPoint = stock1.info['totalRevenue']\n",
    "    avgRevIndList.append(dataPoint)\n",
    "    \n",
    "print(avgRevIndList)"
   ]
  },
  {
   "cell_type": "code",
   "execution_count": 98,
   "id": "713e0462-8c96-4c66-894e-10c78a4d6283",
   "metadata": {},
   "outputs": [
    {
     "name": "stdout",
     "output_type": "stream",
     "text": [
      "1120000\n",
      "[1120000]\n"
     ]
    }
   ],
   "source": [
    "newList = []\n",
    "stonk = yf.Ticker(tickerRegList[0])\n",
    "dataPt = stonk.info['totalRevenue']\n",
    "print(dataPt)\n",
    "type(dataPt)\n",
    "newList.append(dataPt)\n",
    "print(newList)"
   ]
  },
  {
   "cell_type": "code",
   "execution_count": 86,
   "id": "94a1d33b-9548-4a0e-8edc-61d617c0fb92",
   "metadata": {},
   "outputs": [
    {
     "ename": "TypeError",
     "evalue": "float() argument must be a string or a number, not 'NoneType'",
     "output_type": "error",
     "traceback": [
      "\u001b[1;31m---------------------------------------------------------------------------\u001b[0m",
      "\u001b[1;31mTypeError\u001b[0m                                 Traceback (most recent call last)",
      "Input \u001b[1;32mIn [86]\u001b[0m, in \u001b[0;36m<cell line: 1>\u001b[1;34m()\u001b[0m\n\u001b[0;32m      1\u001b[0m \u001b[38;5;28;01mfor\u001b[39;00m tickerReg \u001b[38;5;129;01min\u001b[39;00m tickerRegList:\n\u001b[1;32m----> 2\u001b[0m     revenueReg \u001b[38;5;241m=\u001b[39m \u001b[38;5;28;43mfloat\u001b[39;49m\u001b[43m(\u001b[49m\u001b[43myf\u001b[49m\u001b[38;5;241;43m.\u001b[39;49m\u001b[43mTicker\u001b[49m\u001b[43m(\u001b[49m\u001b[43mtickerReg\u001b[49m\u001b[43m)\u001b[49m\u001b[38;5;241;43m.\u001b[39;49m\u001b[43minfo\u001b[49m\u001b[43m[\u001b[49m\u001b[38;5;124;43m'\u001b[39;49m\u001b[38;5;124;43mtotalRevenue\u001b[39;49m\u001b[38;5;124;43m'\u001b[39;49m\u001b[43m]\u001b[49m\u001b[43m)\u001b[49m\n\u001b[0;32m      3\u001b[0m     avgRevReg\u001b[38;5;241m.\u001b[39mappend(revenueReg)\n\u001b[0;32m      5\u001b[0m \u001b[38;5;28mprint\u001b[39m(\u001b[38;5;124m'\u001b[39m\u001b[38;5;124mrevlist\u001b[39m\u001b[38;5;124m'\u001b[39m,avgRevReg)\n",
      "\u001b[1;31mTypeError\u001b[0m: float() argument must be a string or a number, not 'NoneType'"
     ]
    }
   ],
   "source": [
    "for tickerReg in tickerRegList:\n",
    "    revenueReg = float(yf.Ticker(tickerReg).info['totalRevenue'])\n",
    "    avgRevReg.append(revenueReg)\n",
    "\n",
    "print('revlist',avgRevReg)\n",
    "\n",
    "avgRev = statistics.mean(avgRevReg)\n",
    "\n",
    "print('avgRev',avgRev)"
   ]
  },
  {
   "cell_type": "code",
   "execution_count": null,
   "id": "2a96cd1a-aea6-48df-aecf-c1ae1a73f289",
   "metadata": {},
   "outputs": [],
   "source": []
  },
  {
   "cell_type": "code",
   "execution_count": null,
   "id": "5144ad3e-a873-426d-b019-7a4d66c8d2e3",
   "metadata": {},
   "outputs": [],
   "source": [
    "``"
   ]
  },
  {
   "cell_type": "code",
   "execution_count": null,
   "id": "f239d315-6da2-44f5-a041-580058d64477",
   "metadata": {},
   "outputs": [],
   "source": [
    "def get_mktCap_from_page(page):\n",
    "    reqdef1 = Request('https://finviz.com/screener.ashx?f=ind_'+sector2+'&r='+page, headers={'User-Agent': 'Mozilla/5.0'})\n",
    "    urlsite = urlopen(reqdef1).read().decode('utf-8')\n",
    "    tickerRegListDef = re.findall('(?<=class=\"screener-link-primary\">).*?(?=</a>)',urlsite, re.DOTALL)\n",
    "    return add_tickers_to_list(tickerRegListDef)"
   ]
  },
  {
   "cell_type": "code",
   "execution_count": null,
   "id": "27ed928f-8596-4bd2-8af7-65622fd0e460",
   "metadata": {},
   "outputs": [],
   "source": []
  },
  {
   "cell_type": "code",
   "execution_count": null,
   "id": "0a29b897-0299-4d92-b3a8-e21b5e873fcf",
   "metadata": {},
   "outputs": [],
   "source": []
  },
  {
   "cell_type": "code",
   "execution_count": 69,
   "id": "54dfdee5-a591-4b23-b7b3-016c1eb80b73",
   "metadata": {},
   "outputs": [
    {
     "name": "stdout",
     "output_type": "stream",
     "text": [
      "HI\n"
     ]
    }
   ],
   "source": [
    "print('HI')"
   ]
  },
  {
   "cell_type": "code",
   "execution_count": 67,
   "id": "02f39c97-f466-42ee-91ed-515099642cac",
   "metadata": {},
   "outputs": [
    {
     "name": "stdout",
     "output_type": "stream",
     "text": [
      "by\n"
     ]
    }
   ],
   "source": [
    "print('by')"
   ]
  },
  {
   "cell_type": "code",
   "execution_count": null,
   "id": "bc447bb2-cdf6-46a5-8db5-f87f41bb74fe",
   "metadata": {},
   "outputs": [],
   "source": []
  },
  {
   "cell_type": "code",
   "execution_count": null,
   "id": "78492657-776c-4809-9c6f-6a23e98a0706",
   "metadata": {},
   "outputs": [],
   "source": []
  },
  {
   "cell_type": "code",
   "execution_count": null,
   "id": "e830ed6d-8c50-414d-a842-711dbd553fa5",
   "metadata": {},
   "outputs": [],
   "source": []
  },
  {
   "cell_type": "code",
   "execution_count": null,
   "id": "3dc5a3a1-1527-4823-a23f-02bae564ef8b",
   "metadata": {},
   "outputs": [],
   "source": []
  },
  {
   "cell_type": "code",
   "execution_count": null,
   "id": "99d0b5b4-88d6-4d84-84e4-19f5f16ec934",
   "metadata": {},
   "outputs": [],
   "source": []
  },
  {
   "cell_type": "code",
   "execution_count": null,
   "id": "58c57048-7c84-4b18-9a28-83d469122892",
   "metadata": {},
   "outputs": [],
   "source": []
  },
  {
   "cell_type": "code",
   "execution_count": null,
   "id": "c95183bb-7113-4b50-87bf-94889910e3d8",
   "metadata": {},
   "outputs": [],
   "source": []
  },
  {
   "cell_type": "code",
   "execution_count": 212,
   "id": "220be4bc-f88b-47f7-ae4b-2ec0c9f87bab",
   "metadata": {},
   "outputs": [
    {
     "name": "stdout",
     "output_type": "stream",
     "text": [
      "['ADNT', 'AEVA', 'ALLG', 'ALSN', 'ALV', 'APTV', 'AXL', 'BWA', 'CAAS', 'CPS', 'CTIB', 'CVGI', 'DAN', 'DORM', 'FRSX', 'GGR', 'GNTX', 'GT', 'GTX', 'GTXAP', 'HLLY', 'HYLN', 'HZN', 'ID', 'INVZ', 'LAZR', 'LEA', 'LIDR', 'LKQ', 'MGA', 'MLR', 'MNRO', 'MOD', 'MPAA', 'MTOR', 'PLOW', 'QS', 'RMO', 'SES', 'SMP', 'SRI', 'STRT', 'SUP', 'SYPR', 'TEN', 'THRM', 'UFAB', 'VC', 'VOXX', 'WKSP', 'WPRT', 'XL', 'XPEL']\n",
      "53\n"
     ]
    }
   ],
   "source": [
    "rlist = [\n",
    "            '21','41','61','81','101','121','141','161','181','201','221','241','261','281','301','321','341','361','381','401','421','441','461','481','501','521','541','561','581','601','621','641','661','681','701','721','741','761','781'\n",
    "        ]\n",
    "\n",
    "def add_tickers_to_list(tickerRegListDef):\n",
    "    try:\n",
    "        for ticker in tickerRegListDef:\n",
    "            if ticker not in tickerRegList:\n",
    "                tickerRegList.append(ticker)\n",
    "            else: continue\n",
    "    except:\n",
    "        pass\n",
    "\n",
    "def get_tickers_from_page(page):\n",
    "    reqdef1 = Request('https://finviz.com/screener.ashx?f=ind_'+sector2+'&r='+page, headers={'User-Agent': 'Mozilla/5.0'})\n",
    "    urlsite = urlopen(reqdef1).read().decode('utf-8')\n",
    "    tickerRegListDef = re.findall('(?<=class=\"screener-link-primary\">).*?(?=</a>)',urlsite, re.DOTALL)\n",
    "    return add_tickers_to_list(tickerRegListDef)\n",
    "\n",
    "for page in rlist:\n",
    "    get_tickers_from_page(page)\n",
    "    \n",
    "print(tickerRegList)\n",
    "\n",
    "print(len(tickerRegList))"
   ]
  },
  {
   "cell_type": "code",
   "execution_count": 193,
   "id": "f438fec1-6941-401f-bf2c-b37743d6f0e0",
   "metadata": {},
   "outputs": [
    {
     "name": "stdout",
     "output_type": "stream",
     "text": [
      "tickerRegList ['AADI', 'ABCL', 'ABCM', 'ABEO', 'ABIO', 'ABOS', 'ABSI', 'ABUS', 'ABVC', 'ACAD', 'ACER', 'ACET', 'ACHL', 'ACHV', 'ACIU', 'ACLX', 'ACOR', 'ACRS', 'ACST', 'ACXP', 'ADAG', 'ADAP', 'ADCT', 'ADGI', 'ADIL', 'ADMA', 'ADPT', 'ADTX', 'ADVM', 'ADXN', 'AEZS', 'AFMD', 'AGE', 'AGEN', 'AGIO', 'AGLE', 'AGTC', 'AIKI', 'AIM', 'AKBA', 'AKRO', 'AKTX', 'AKUS', 'ALBO', 'ALDX', 'ALEC', 'ALGS', 'ALKS', 'ALLK', 'ALLO', 'ALLR', 'ALNA', 'ALNY', 'ALPN', 'ALRN', 'ALT', 'ALVR', 'ALXO', 'ALZN', 'AMAM', 'AMLX', 'AMPE', 'AMRN', 'AMTI', 'ANAB', 'ANEB', 'ANGN', 'ANIK', 'ANNX', 'ANPC', 'ANTX', 'ANVS', 'APLS', 'APLT', 'APM', 'APRE', 'APTO', 'APTX', 'APVO', 'AQST', 'ARAV', 'ARCT', 'ARDS', 'ARDX', 'ARGX', 'ARMP', 'ARQT', 'ARTL', 'ARVN', 'ARWR', 'ASLN', 'ASMB', 'ASND', 'ATAI', 'ATHA', 'ATHE', 'ATHX', 'ATNF', 'ATNM', 'ATOS', 'ATRA', 'ATXI', 'ATXS', 'AUPH', 'AURA', 'AUTL', 'AVEO', 'AVIR', 'AVRO', 'AVTE', 'AVTX', 'AVXL', 'AXLA', 'AXSM', 'AYLA', 'AYTU', 'BBI', 'BBIO', 'BCAB', 'BCDA', 'GOVX', 'GRAY', 'GRCL', 'GRNA', 'GRPH', 'GRTS', 'GRTX', 'GTBP', 'GTHX', 'HALO', 'HARP', 'HCWB', 'HEPA', 'HGEN', 'HILS', 'HOOK', 'HOTH', 'HOWL', 'HRMY', 'HRTX', 'HSTO', 'HUMA', 'IBIO', 'IBRX', 'ICCC', 'ICPT', 'ICVX', 'IDRA', 'IDYA', 'IFRX', 'IGMS', 'IKNA', 'IKT', 'IMAB', 'IMCR', 'IMGN', 'IMGO', 'IMMP', 'IMMX', 'IMNM', 'IMPL', 'IMRA', 'IMRN', 'IMRX', 'IMTX', 'IMUX', 'IMV', 'IMVT', 'INAB', 'INBX', 'INCY', 'INDP', 'INFI', 'INKT', 'INM', 'INMB', 'INO', 'INSM', 'INVA', 'INZY', 'IOBT', 'IONS', 'IOVA', 'IPA', 'IPHA', 'IPSC', 'ISEE', 'ITCI', 'ITOS', 'ITRM', 'IVA', 'JAGX', 'JANX', 'JAZZ', 'JNCE', 'JSPR', 'KALA', 'KALV', 'KDNY', 'KMPH', 'KNSA', 'KNTE', 'KOD', 'KPRX', 'KPTI', 'KRBP', 'KRON', 'KROS', 'KRTX', 'KRYS', 'KTRA', 'KTTA', 'KURA', 'KYMR', 'KZIA', 'KZR', 'LABP', 'LBPH', 'LBPS', 'LCTX', 'RAPT', 'RARE', 'RCKT', 'RCOR', 'RCUS', 'REGN', 'REPL', 'RETA', 'REVB', 'RFL', 'RGLS', 'RGNX', 'RIGL', 'RLAY', 'RLYB', 'RNA', 'RNAZ', 'RNXT', 'ROIV', 'RPHM', 'RPRX', 'RPTX', 'RUBY', 'RVLP', 'RVMD', 'RVNC', 'RVPH', 'RXDX', 'RXRX', 'RYTM', 'RZLT', 'SABS', 'SAGE', 'SANA', 'SAVA', 'SBTX', 'SCPH', 'SCPS', 'SEEL', 'SEER', 'SQZ', 'SRNE', 'SRPT', 'SRRA', 'SRRK', 'SRZN', 'SRZNW', 'STAB', 'STOK', 'STRO', 'STSA', 'STTK', 'SURF', 'SVRA', 'SWTX', 'SYBX', 'SYN', 'SYRS', 'TALS', 'TARA', 'TARS', 'TBPH', 'TCBP', 'TCON', 'TCRR', 'TCRT', 'TCRX', 'TECH', 'TENX', 'TERN', 'TFFP', 'TGTX', 'THRX', 'TIL', 'TLSA', 'TMBR', 'TNGX', 'TNXP', 'TNYA', 'TPST', 'TPTX', 'TRDA', 'TRVI', 'TRVN', 'TSHA', 'TSVT', 'TTNP', 'TVTX', 'TYME', 'TYRA', 'UBX', 'UNCY', 'URGN', 'UTHR', 'VACC', 'VALN', 'VAXX', 'VBIV', 'VBLT', 'VCEL', 'EYPT', 'FATE', 'FBIO', 'FBIOP', 'FBRX', 'FDMT', 'FENC', 'FGEN', 'FHTX', 'FIXX', 'FMTX', 'FNCH', 'FOLD', 'FREQ', 'FRLN', 'FSTX', 'FULC', 'FUSN', 'FWBI', 'FWP', 'SELB', 'SESN', 'SGEN', 'SGMO', 'SGTX', 'SIGA', 'SIOX', 'SLGL', 'SLRX', 'SLS', 'SMMT', 'SNDX', 'SNGX', 'SNPX', 'SNSE', 'SONN', 'SPPI', 'SPRB', 'SPRC', 'SPRO', 'GALT', 'GANX', 'GBIO', 'GBT', 'GERN', 'GHRS', 'GLMD', 'GLPG', 'GLS', 'GLSI', 'GLTO', 'GLUE', 'GLYC', 'GMAB', 'GMDA', 'GMTX', 'GNFT', 'GNPX', 'GNTA', 'GOSS', 'VCNX', 'VCYT', 'VECT', 'VERA', 'VERV', 'VIGL', 'VINC', 'VIR', 'VIRI', 'VIRX', 'VKTX', 'VLON', 'VNDA', 'VOR', 'VRCA', 'VRDN', 'VRNA', 'VRPX', 'VRTX', 'VSTM', 'VTGN', 'VTVT', 'VTYX', 'VXRT', 'VYGR', 'VYNE', 'VYNT', 'WINT', 'WVE', 'XBIO', 'XBIT', 'XCUR', 'XENE', 'XERS', 'XFOR', 'XLO', 'XNCR', 'XOMA', 'XOMAO', 'XRTX']\n"
     ]
    }
   ],
   "source": [
    "avgRevReg = []\n",
    "\n",
    "req5 = Request('https://finviz.com/screener.ashx?f=ind_'+sector2+'&r=21', headers={'User-Agent': 'Mozilla/5.0'})\n",
    "webpage5 = urlopen(req5).read().decode('utf-8')\n",
    "tickerRegList2 = re.findall('(?<=class=\"screener-link-primary\">).*?(?=</a>)',webpage5, re.DOTALL)\n",
    "    \n",
    "try:\n",
    "    for ticker in tickerRegList2:\n",
    "        if ticker not in tickerRegList:\n",
    "            tickerRegList.append(ticker)\n",
    "        else: continue\n",
    "except:\n",
    "    pass\n",
    "\n",
    "print('tickerRegList', tickerRegList)"
   ]
  },
  {
   "cell_type": "code",
   "execution_count": 77,
   "id": "84f61b5e-db08-41ae-883c-404cf351ba78",
   "metadata": {},
   "outputs": [
    {
     "data": {
      "text/plain": [
       "0.305"
      ]
     },
     "execution_count": 77,
     "metadata": {},
     "output_type": "execute_result"
    }
   ],
   "source": [
    "stock.info['revenueGrowth']"
   ]
  },
  {
   "cell_type": "code",
   "execution_count": 78,
   "id": "b6d6a6fc-5227-45e0-84d4-164a48e8f4dc",
   "metadata": {},
   "outputs": [
    {
     "name": "stdout",
     "output_type": "stream",
     "text": [
      "Consumer Electronics\n"
     ]
    }
   ],
   "source": [
    "from urllib.request import Request, urlopen\n",
    "import re\n",
    "\n",
    "req = Request('https://finviz.com/quote.ashx?t=AAPL', headers={'User-Agent': 'Mozilla/5.0'})\n",
    "webpage = urlopen(req).read().decode('utf-8')\n",
    "content = re.findall('(?<=class=\"tab-link\").*?(?=</a>)',webpage, re.DOTALL)\n",
    "sector = content[2]\n",
    "sector = sector[1:]\n",
    "sector = sector.strip()\n",
    "print(sector)\n",
    "\n",
    "text = 'AAPL'\n",
    "stock = yf.Ticker(text)\n",
    "mktCap = stock.info['marketCap']\n",
    "\n",
    "#################################IMPORTED#############################################################\n",
    "\n",
    "\n",
    "req2 = Request('https://finviz.com/groups.ashx?g=industry&v=120&o=name', headers={'User-Agent': 'Mozilla/5.0'})\n",
    "webpage2 = urlopen(req2).read().decode('utf-8')\n",
    "indSize = re.findall('(?<='+sector+').*?(?=class=\"body-table\")(.*?)(?=</td>)',webpage2, re.DOTALL)\n",
    "indSize = re.findall('[0-9.]+.',str(indSize))\n",
    "indSize = re.sub(r\"\\['(.*)'\\]\",r\"\\1\" , str(indSize))\n",
    "#gets the industry market cap for display\n",
    "\n",
    "indSizeFloat = float(indSize[:-1])*1000000000\n",
    "#gets the industry market cap as a float\n",
    "\n",
    "sector2 = sector.lower()\n",
    "sector2 = sector2.replace(\" \",\"\")\n",
    "req3 = Request('https://finviz.com/screener.ashx?f=ind_'+sector2+'&v=121', headers={'User-Agent': 'Mozilla/5.0'})\n",
    "webpage3 = urlopen(req3).read().decode('utf-8')\n",
    "sectorCount = re.findall('(?<=<b>Total: </b>).*?(?=#)',webpage3, re.DOTALL)\n",
    "sectorCount = re.findall('[0-9.]+.',str(sectorCount))\n",
    "sectorCount = re.sub(r\"\\['(.*)'\\]\",r\"\\1\" , str(sectorCount))\n",
    "sectorCount = float(sectorCount)\n",
    "#counts how many companies are listed in that sector\n",
    "\n",
    "avgCapFloat = indSizeFloat / sectorCount\n",
    "#gets the average industry market cap float\n",
    "\n",
    "avgCapInt = re.findall('([0-9].*)\\.',str(avgCapFloat))\n",
    "#gets rid of the decimal place numbers\n",
    "\n",
    "avgCap = re.sub(r\"\\['(.*)'\\]\",r\"\\1\" , str(avgCapInt))\n",
    "#gets rid of ['']\n",
    "\n",
    "if len(str(avgCap)) == 15:\n",
    "    avgCap = str(str(round(float(avgCap),-9))[:3])+'.'+str(str(round(float(avgCap),-9))[3:5]+'T')\n",
    "if len(str(avgCap)) == 14:\n",
    "    avgCap = str(str(round(float(avgCap),-9))[:2])+'.'+str(str(round(float(avgCap),-9))[2:4]+'T')\n",
    "if len(str(avgCap)) == 13:\n",
    "    avgCap = str(str(round(float(avgCap),-9))[:1])+'.'+str(str(round(float(avgCap),-9))[1:3]+'T')\n",
    "elif len(str(avgCap)) == 12:\n",
    "    avgCap = str(str(round(float(avgCap),-7))[:3])+'.'+str(str(round(float(avgCap),-7))[3:5]+'B')\n",
    "elif len(str(avgCap)) == 11:\n",
    "    avgCap = str(str(round(float(avgCap),-7))[:2])+'.'+str(str(round(float(avgCap),-7))[2:4]+'B')\n",
    "elif len(str(avgCap)) == 10:\n",
    "    avgCap = str(str(round(float(avgCap),-7))[:1])+'.'+str(str(round(float(avgCap),-7))[1:3]+'B')\n",
    "elif len(str(avgCap)) == 9:\n",
    "    avgCap = str(str(round(float(avgCap),-4))[:3])+'.'+str(str(round(float(avgCap),-4))[3:5]+'M')\n",
    "elif len(str(avgCap)) == 8:\n",
    "    avgCap = str(str(round(float(avgCap),-4))[:2])+'.'+str(str(round(float(avgCap),-4))[2:4]+'M')\n",
    "elif len(str(avgCap)) == 7:\n",
    "    avgCap = str(str(round(float(avgCap),-4))[:1])+'.'+str(str(round(float(avgCap),-4))[1:3]+'M')\n",
    "elif len(str(avgCap)) < 7:\n",
    "    avgCap = (format(int(avgCap), ',d'))\n",
    "#formats short number mil bil tril for industry average market cap\n",
    "\n",
    "mktCapFloat = float(mktCap)\n",
    "#market cap float\n",
    "\n",
    "mktShareFloat = mktCapFloat / indSizeFloat\n",
    "#market share float\n",
    "\n",
    "if len(indSize) >= 8:\n",
    "    indSize = str(str(round(indSizeFloat,-10))[:1]+'.'+str(round(indSizeFloat,-10))[1:3]+'T')\n",
    "elif len(indSize) < 8:\n",
    "    indSize=indSize\n",
    "#fixes trillions\n",
    "\n",
    "mktSharePct = re.findall('[0-9].+',str(mktShareFloat))\n",
    "mktSharePct = re.sub(r\"\\['(.*)'\\]\",r\"\\1\" , str(mktSharePct))\n",
    "mktSharePct = round(float(mktSharePct),5)\n",
    "mktSharePct = str(mktSharePct)\n",
    "mktSharePct = ( mktSharePct[2:4] + '.' + mktSharePct[4:6] + '%' )\n",
    "#for display\n",
    "\n",
    "\n",
    "##############################IMPORTED####################\n",
    "\n",
    "\n"
   ]
  },
  {
   "cell_type": "code",
   "execution_count": null,
   "id": "e6d399d6-ace0-4e18-ab2d-e7206804a43d",
   "metadata": {},
   "outputs": [],
   "source": []
  },
  {
   "cell_type": "code",
   "execution_count": 24,
   "id": "27517920-46af-4324-9f7b-8b93aa7a0d23",
   "metadata": {},
   "outputs": [
    {
     "name": "stdout",
     "output_type": "stream",
     "text": [
      "2.28T\n"
     ]
    }
   ],
   "source": [
    "if len(indSize) >= 8:\n",
    "    indSize = str(str(round(indSizeFloat,-10))[:1]+'.'+str(round(indSizeFloat,-10))[1:3]+'T')\n",
    "elif len(indSize) < 8:\n",
    "    indSize=indSize\n",
    "print(indSize)"
   ]
  },
  {
   "cell_type": "code",
   "execution_count": 68,
   "id": "05398b50-dd56-4525-a598-1859c1836523",
   "metadata": {},
   "outputs": [
    {
     "name": "stdout",
     "output_type": "stream",
     "text": [
      "mktSharePct 97.40%\n"
     ]
    }
   ],
   "source": [
    "mktSharePct = re.findall('[0-9].+',str(mktShareFloat))\n",
    "mktSharePct = re.sub(r\"\\['(.*)'\\]\",r\"\\1\" , str(mktSharePct))\n",
    "mktSharePct = round(float(mktSharePct),5)\n",
    "mktSharePct = str(mktSharePct)\n",
    "mktSharePct = ( mktSharePct[2:4] + '.' + mktSharePct[4:6] + '%' )\n",
    "print('mktSharePct',mktSharePct)"
   ]
  },
  {
   "cell_type": "code",
   "execution_count": 13,
   "id": "473f21d9-9b02-42ba-a644-7d46b57a9ce7",
   "metadata": {},
   "outputs": [
    {
     "data": {
      "text/plain": [
       "8"
      ]
     },
     "execution_count": 13,
     "metadata": {},
     "output_type": "execute_result"
    }
   ],
   "source": [
    "if len(str(avgCap)) == 8:\n",
    "    avgCap = str(str(round(float(avgCap),-4))[:2])+'.'+str(str(round(float(avgCap),-4))[2:4]+'T')"
   ]
  },
  {
   "cell_type": "code",
   "execution_count": 11,
   "id": "da7f05df-39d7-4e2d-8aa0-84a98ac56832",
   "metadata": {},
   "outputs": [
    {
     "name": "stdout",
     "output_type": "stream",
     "text": [
      "0.9740105317879896\n"
     ]
    }
   ],
   "source": [
    "\n",
    "mktCapFloat = float(mktCap)\n",
    "mktShare = mktCapFloat / indSizeFloat\n",
    "print(mktShare)"
   ]
  },
  {
   "cell_type": "code",
   "execution_count": 4,
   "id": "e5377468-258a-40bc-8750-65875bf484fc",
   "metadata": {},
   "outputs": [
    {
     "name": "stdout",
     "output_type": "stream",
     "text": [
      "134.34B\n"
     ]
    }
   ],
   "source": [
    "avgCapInt = re.findall('([0-9].*)\\.',str(avgCapFloat))\n",
    "#gets rid of the decimal place numbers\n",
    "\n",
    "avgCap = re.sub(r\"\\['(.*)'\\]\",r\"\\1\" , str(avgCapInt))\n",
    "#gets rid of ['']\n",
    "\n",
    "if len(str(avgCap)) == 15:\n",
    "    avgCap = str(str(round(float(avgCap),-9))[:3])+'.'+str(str(round(float(avgCap),-9))[3:5]+'T')\n",
    "if len(str(avgCap)) == 14:\n",
    "    avgCap = str(str(round(float(avgCap),-9))[:2])+'.'+str(str(round(float(avgCap),-9))[2:4]+'T')\n",
    "if len(str(avgCap)) == 13:\n",
    "    avgCap = str(str(round(float(avgCap),-9))[:1])+'.'+str(str(round(float(avgCap),-9))[1:3]+'T')\n",
    "elif len(str(avgCap)) == 12:\n",
    "    avgCap = str(str(round(float(avgCap),-7))[:3])+'.'+str(str(round(float(avgCap),-7))[3:5]+'B')\n",
    "elif len(str(avgCap)) == 11:\n",
    "    avgCap = str(str(round(float(avgCap),-7))[:2])+'.'+str(str(round(float(avgCap),-7))[2:4]+'B')\n",
    "elif len(str(avgCap)) == 10:\n",
    "    avgCap = str(str(round(float(avgCap),-7))[:1])+'.'+str(str(round(float(avgCap),-7))[1:3]+'B')\n",
    "elif len(str(avgCap)) == 9:\n",
    "    avgCap = str(str(round(float(avgCap),-4))[:3])+'.'+str(str(round(float(avgCap),-4))[3:5]+'M')\n",
    "elif len(str(avgCap)) == 8:\n",
    "    avgCap = str(str(round(float(avgCap),-4))[:2])+'.'+str(str(round(float(avgCap),-4))[2:4]+'M')\n",
    "elif len(str(avgCap)) == 7:\n",
    "    avgCap = str(str(round(float(avgCap),-4))[:1])+'.'+str(str(round(float(avgCap),-4))[1:3]+'M')\n",
    "elif len(str(avgCap)) < 7:\n",
    "    avgCap = (format(int(avgCap), ',d'))\n",
    "\n",
    "print(avgCap)"
   ]
  },
  {
   "cell_type": "code",
   "execution_count": null,
   "id": "fd6282a9-8297-4fbf-aa43-da9ccb0b3b72",
   "metadata": {},
   "outputs": [],
   "source": [
    "def short_num(long_num):\n",
    "    if len(str(long_num)) == 15:\n",
    "        long_num = str(str(round(float(long_num),-9))[:3])+'.'+str(str(round(float(long_num),-9))[3:5]+'T')\n",
    "    if len(str(long_num)) == 14:\n",
    "        long_num = str(str(round(float(long_num),-9))[:2])+'.'+str(str(round(float(long_num),-9))[2:4]+'T')\n",
    "    if len(str(long_num)) == 13:\n",
    "        long_num = str(str(round(float(long_num),-9))[:1])+'.'+str(str(round(float(long_num),-9))[1:3]+'T')\n",
    "    elif len(str(long_num)) == 12:\n",
    "        long_num = str(str(round(float(long_num),-7))[:3])+'.'+str(str(round(float(long_num),-7))[3:5]+'B')\n",
    "    elif len(str(long_num)) == 11:\n",
    "        long_num = str(str(round(float(long_num),-7))[:2])+'.'+str(str(round(float(long_num),-7))[2:4]+'B')\n",
    "    elif len(str(long_num)) == 10:\n",
    "        long_num = str(str(round(float(long_num),-7))[:1])+'.'+str(str(round(float(long_num),-7))[1:3]+'B')\n",
    "    elif len(str(long_num)) == 9:\n",
    "        long_num = str(str(round(float(long_num),-4))[:3])+'.'+str(str(round(float(long_num),-4))[3:5]+'M')\n",
    "    elif len(str(long_num)) == 8:\n",
    "        long_num = str(str(round(float(long_num),-4))[:2])+'.'+str(str(round(float(long_num),-4))[2:4]+'M')\n",
    "    elif len(str(long_num)) == 7:\n",
    "        long_num = str(str(round(float(long_num),-4))[:1])+'.'+str(str(round(float(long_num),-4))[1:3]+'M')\n",
    "    elif len(str(long_num)) < 7:\n",
    "        long_num = (format(int(long_num), ',d'))\n",
    "    return longnum"
   ]
  },
  {
   "cell_type": "code",
   "execution_count": 216,
   "id": "8871b054-ca2d-4497-bdf2-bbc672f5d944",
   "metadata": {},
   "outputs": [
    {
     "name": "stdout",
     "output_type": "stream",
     "text": [
      "17 \n"
     ]
    }
   ],
   "source": [
    "sector2 = sector.lower()\n",
    "sector2 = sector2.replace(\" \",\"\")\n",
    "req3 = Request('https://finviz.com/screener.ashx?f=ind_'+sector2+'&v=121', headers={'User-Agent': 'Mozilla/5.0'})\n",
    "webpage3 = urlopen(req3).read().decode('utf-8')\n",
    "totalInSector = re.findall('(?<=<b>Total: </b>).*?(?=#)',webpage3, re.DOTALL)\n",
    "totalInSector = re.findall('[0-9.]+.',str(totalInSector))\n",
    "totalInSector = re.sub(r\"\\['(.*)'\\]\",r\"\\1\" , str(totalInSector))\n",
    "print(totalInSector)"
   ]
  },
  {
   "cell_type": "code",
   "execution_count": 213,
   "id": "ee235950-2387-4a12-b196-9baca31b5def",
   "metadata": {},
   "outputs": [
    {
     "name": "stdout",
     "output_type": "stream",
     "text": [
      "consumerelectronics\n"
     ]
    }
   ],
   "source": [
    "sector2 = sector.lower()\n",
    "sector2 = sector2.replace(\" \",\"\")\n",
    "print(sector2)"
   ]
  },
  {
   "cell_type": "code",
   "execution_count": 127,
   "id": "8061b396-2e84-4c2f-ac80-21b27a1a0339",
   "metadata": {},
   "outputs": [
    {
     "name": "stdout",
     "output_type": "stream",
     "text": [
      "enter ticker: ge\n"
     ]
    },
    {
     "name": "stdout",
     "output_type": "stream",
     "text": [
      "73425027072\n",
      "73425027072B\n"
     ]
    }
   ],
   "source": [
    "import yfinance as yf\n",
    "ticker = input('enter ticker:')\n",
    "stock = yf.Ticker(ticker)\n",
    "mktCap = stock.info['marketCap']\n",
    "print(mktCap)\n",
    "if len(str(mktCap)) >= 13:\n",
    "    mktCap = str(str(mktCap)+'T')\n",
    "elif len(str(mktCap)) >= 10:\n",
    "    if len(str(mktCap)) < 13:\n",
    "        mktCap = str(str(mktCap)+'B')\n",
    "elif len(str(mktCap)) >= 7:\n",
    "    if (str(mktCap)) < 10:\n",
    "        mktCap = str(str(mktCap)+'M')\n",
    "else:\n",
    "    mktCap = \"{:,}\".format(str(mktCap))\n",
    "print(mktCap)"
   ]
  },
  {
   "cell_type": "code",
   "execution_count": 115,
   "id": "435e1f92-4a30-4b7d-a1c4-d2288c3e4274",
   "metadata": {},
   "outputs": [],
   "source": [
    "mil = '1000000'\n",
    "bil = '1000000000'\n",
    "tril = '1000000000000'\n"
   ]
  },
  {
   "cell_type": "code",
   "execution_count": 118,
   "id": "430ce5a9-10df-45d6-a74c-329ce9787b52",
   "metadata": {},
   "outputs": [
    {
     "name": "stdout",
     "output_type": "stream",
     "text": [
      "13\n"
     ]
    }
   ],
   "source": [
    "print(len(tril))"
   ]
  },
  {
   "cell_type": "code",
   "execution_count": 191,
   "id": "beafc664-b18d-4a0e-a595-0c95716d0059",
   "metadata": {},
   "outputs": [
    {
     "name": "stdout",
     "output_type": "stream",
     "text": [
      "{'onemil': '1000000', 'onebil': '1000000000', 'onetril': '1000000000000', 'tenmil': '10000000', 'tenbil': '10000000000', 'tentril': '1000000000000'}\n",
      "1.58M\n"
     ]
    }
   ],
   "source": [
    "dict = {'onemil': '1000000', 'onebil': '1000000000','onetril': '1000000000000','tenmil': '10000000','tenbil': '10000000000','tentril': '1000000000000'}\n",
    "\n",
    "print(dict)\n",
    "\n",
    "mktCap = '1580000'\n",
    "\n",
    "onebil = '1000000000'\n",
    "onetril = '1000000000000'\n",
    "tenmil = '1000000'\n",
    "tenbil = '1000000000'\n",
    "tentril = '1000000000000'\n",
    "\n",
    "if len(str(mktCap)) == 15:\n",
    "    mktCap = str(str(round(float(mktCap),-9))[:3])+'.'+str(str(round(float(mktCap),-9))[3:5]+'T')\n",
    "if len(str(mktCap)) == 14:\n",
    "    mktCap = str(str(round(float(mktCap),-9))[:2])+'.'+str(str(round(float(mktCap),-9))[2:4]+'T')\n",
    "if len(str(mktCap)) == 13:\n",
    "    mktCap = str(str(round(float(mktCap),-9))[:1])+'.'+str(str(round(float(mktCap),-9))[1:3]+'T')\n",
    "elif len(str(mktCap)) == 12:\n",
    "    mktCap = str(str(round(float(mktCap),-7))[:3])+'.'+str(str(round(float(mktCap),-7))[3:5]+'B')\n",
    "elif len(str(mktCap)) == 11:\n",
    "    mktCap = str(str(round(float(mktCap),-7))[:2])+'.'+str(str(round(float(mktCap),-7))[2:4]+'B')\n",
    "elif len(str(mktCap)) == 10:\n",
    "    mktCap = str(str(round(float(mktCap),-7))[:1])+'.'+str(str(round(float(mktCap),-7))[1:3]+'B')\n",
    "elif len(str(mktCap)) == 9:\n",
    "    mktCap = str(str(round(float(mktCap),-4))[:3])+'.'+str(str(round(float(mktCap),-4))[3:5]+'M')\n",
    "elif len(str(mktCap)) == 8:\n",
    "    mktCap = str(str(round(float(mktCap),-4))[:2])+'.'+str(str(round(float(mktCap),-4))[2:4]+'M')\n",
    "elif len(str(mktCap)) == 7:\n",
    "    mktCap = str(str(round(float(mktCap),-4))[:1])+'.'+str(str(round(float(mktCap),-4))[1:3]+'M')\n",
    "elif len(str(mktCap)) < 7:\n",
    "    mktCap = (format(int(mktCap), ',d'))\n",
    "    \n",
    "print(mktCap)"
   ]
  },
  {
   "cell_type": "code",
   "execution_count": 177,
   "id": "11703c0e-4774-4937-9c51-1dece9f3ac0d",
   "metadata": {},
   "outputs": [
    {
     "name": "stdout",
     "output_type": "stream",
     "text": [
      "13\n",
      "1150000000000.0\n",
      "1\n",
      "15\n"
     ]
    }
   ],
   "source": [
    "numba = '1149577656000'\n",
    "print(len(numba))\n",
    "numba = float(numba)\n",
    "numba = round(numba,-9)\n",
    "print(numba)\n",
    "print(str(round(float(numba),-9))[:1])\n",
    "print(str(round(float(numba),-9))[1:3])"
   ]
  },
  {
   "cell_type": "code",
   "execution_count": null,
   "id": "42641755-b1aa-42cb-be1c-ab6a4355591e",
   "metadata": {},
   "outputs": [],
   "source": [
    "rnd = str(round(float(mktCap),-4))[:3]\n",
    "    rnd = str(round(float(mktCap),-4))[3:5]"
   ]
  }
 ],
 "metadata": {
  "kernelspec": {
   "display_name": "Python 3.9.7 ('base')",
   "language": "python",
   "name": "python3"
  },
  "language_info": {
   "codemirror_mode": {
    "name": "ipython",
    "version": 3
   },
   "file_extension": ".py",
   "mimetype": "text/x-python",
   "name": "python",
   "nbconvert_exporter": "python",
   "pygments_lexer": "ipython3",
   "version": "3.9.7"
  },
  "vscode": {
   "interpreter": {
    "hash": "c24ecc2928a1df641fb89905a028e959d05eac4f79c1af53f0bb766b01409011"
   }
  }
 },
 "nbformat": 4,
 "nbformat_minor": 5
}
